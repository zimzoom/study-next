{
 "cells": [
  {
   "cell_type": "code",
   "execution_count": 1,
   "metadata": {},
   "outputs": [],
   "source": [
    "import numpy as np\n",
    "import pandas as pd\n",
    "\n",
    "import matplotlib.pyplot as plt\n",
    "%matplotlib inline"
   ]
  },
  {
   "cell_type": "code",
   "execution_count": 2,
   "metadata": {},
   "outputs": [],
   "source": [
    "stu_vle = pd.read_csv('data/stvl_ccc14b.csv')\n",
    "stu_as = pd.read_csv('data/stas_ccc14b.csv')\n",
    "ass = pd.read_csv('data/ass_ccc14b.csv')\n",
    "vle = pd.read_csv('data/vle_ccc14b.csv')\n",
    "stu_info = pd.read_csv('data/stuinfo_ccc14b.csv')\n",
    "stu_reg = pd.read_csv('data/stureg_ccc14b.csv')"
   ]
  },
  {
   "cell_type": "markdown",
   "metadata": {},
   "source": [
    "# Preprocessing"
   ]
  },
  {
   "cell_type": "markdown",
   "metadata": {},
   "source": [
    "#### How big is pop of interest?"
   ]
  },
  {
   "cell_type": "code",
   "execution_count": 3,
   "metadata": {},
   "outputs": [
    {
     "data": {
      "text/html": [
       "<div>\n",
       "<style scoped>\n",
       "    .dataframe tbody tr th:only-of-type {\n",
       "        vertical-align: middle;\n",
       "    }\n",
       "\n",
       "    .dataframe tbody tr th {\n",
       "        vertical-align: top;\n",
       "    }\n",
       "\n",
       "    .dataframe thead th {\n",
       "        text-align: right;\n",
       "    }\n",
       "</style>\n",
       "<table border=\"1\" class=\"dataframe\">\n",
       "  <thead>\n",
       "    <tr style=\"text-align: right;\">\n",
       "      <th></th>\n",
       "      <th>code_module</th>\n",
       "      <th>code_presentation</th>\n",
       "      <th>id_assessment</th>\n",
       "      <th>assessment_type</th>\n",
       "      <th>date</th>\n",
       "      <th>weight</th>\n",
       "    </tr>\n",
       "  </thead>\n",
       "  <tbody>\n",
       "    <tr>\n",
       "      <th>0</th>\n",
       "      <td>CCC</td>\n",
       "      <td>2014B</td>\n",
       "      <td>24286</td>\n",
       "      <td>CMA</td>\n",
       "      <td>18.0</td>\n",
       "      <td>2.0</td>\n",
       "    </tr>\n",
       "    <tr>\n",
       "      <th>1</th>\n",
       "      <td>CCC</td>\n",
       "      <td>2014B</td>\n",
       "      <td>24287</td>\n",
       "      <td>CMA</td>\n",
       "      <td>67.0</td>\n",
       "      <td>7.0</td>\n",
       "    </tr>\n",
       "    <tr>\n",
       "      <th>2</th>\n",
       "      <td>CCC</td>\n",
       "      <td>2014B</td>\n",
       "      <td>24288</td>\n",
       "      <td>CMA</td>\n",
       "      <td>137.0</td>\n",
       "      <td>8.0</td>\n",
       "    </tr>\n",
       "    <tr>\n",
       "      <th>3</th>\n",
       "      <td>CCC</td>\n",
       "      <td>2014B</td>\n",
       "      <td>24289</td>\n",
       "      <td>CMA</td>\n",
       "      <td>207.0</td>\n",
       "      <td>8.0</td>\n",
       "    </tr>\n",
       "    <tr>\n",
       "      <th>4</th>\n",
       "      <td>CCC</td>\n",
       "      <td>2014B</td>\n",
       "      <td>24282</td>\n",
       "      <td>TMA</td>\n",
       "      <td>32.0</td>\n",
       "      <td>9.0</td>\n",
       "    </tr>\n",
       "  </tbody>\n",
       "</table>\n",
       "</div>"
      ],
      "text/plain": [
       "  code_module code_presentation  id_assessment assessment_type   date  weight\n",
       "0         CCC             2014B          24286             CMA   18.0     2.0\n",
       "1         CCC             2014B          24287             CMA   67.0     7.0\n",
       "2         CCC             2014B          24288             CMA  137.0     8.0\n",
       "3         CCC             2014B          24289             CMA  207.0     8.0\n",
       "4         CCC             2014B          24282             TMA   32.0     9.0"
      ]
     },
     "execution_count": 3,
     "metadata": {},
     "output_type": "execute_result"
    }
   ],
   "source": [
    "ass.head()"
   ]
  },
  {
   "cell_type": "markdown",
   "metadata": {},
   "source": [
    "First, drop students who withdrew in first part of course. Assessment due at day 67, but a lot of students likely dropped out very close to that due date."
   ]
  },
  {
   "cell_type": "code",
   "execution_count": 4,
   "metadata": {},
   "outputs": [
    {
     "data": {
      "text/plain": [
       "610"
      ]
     },
     "execution_count": 4,
     "metadata": {},
     "output_type": "execute_result"
    }
   ],
   "source": [
    "num_wd_early = stu_reg[stu_reg.date_unregistration <= 67]['id_student'].count()\n",
    "num_wd_early"
   ]
  },
  {
   "cell_type": "code",
   "execution_count": 5,
   "metadata": {},
   "outputs": [
    {
     "data": {
      "text/plain": [
       "250"
      ]
     },
     "execution_count": 5,
     "metadata": {},
     "output_type": "execute_result"
    }
   ],
   "source": [
    "num_wd_prior = stu_reg[stu_reg.date_unregistration < 0]['id_student'].count()\n",
    "num_wd_prior"
   ]
  },
  {
   "cell_type": "code",
   "execution_count": 6,
   "metadata": {},
   "outputs": [
    {
     "data": {
      "text/plain": [
       "1936"
      ]
     },
     "execution_count": 6,
     "metadata": {},
     "output_type": "execute_result"
    }
   ],
   "source": [
    "len(stu_reg)"
   ]
  },
  {
   "cell_type": "code",
   "execution_count": 7,
   "metadata": {},
   "outputs": [
    {
     "data": {
      "text/plain": [
       "0.0     36\n",
       "3.0      8\n",
       "4.0      5\n",
       "5.0      4\n",
       "7.0      6\n",
       "9.0      3\n",
       "10.0     6\n",
       "11.0     5\n",
       "12.0    19\n",
       "13.0     2\n",
       "14.0     1\n",
       "15.0     1\n",
       "16.0    10\n",
       "17.0     6\n",
       "18.0    10\n",
       "19.0     9\n",
       "20.0    10\n",
       "21.0     2\n",
       "22.0     2\n",
       "23.0     4\n",
       "24.0     8\n",
       "25.0     9\n",
       "26.0    11\n",
       "27.0     9\n",
       "28.0     2\n",
       "29.0     2\n",
       "30.0     7\n",
       "31.0    10\n",
       "32.0     6\n",
       "33.0    13\n",
       "        ..\n",
       "38.0    11\n",
       "39.0     9\n",
       "40.0     4\n",
       "41.0     3\n",
       "42.0     1\n",
       "44.0    10\n",
       "45.0     7\n",
       "46.0     7\n",
       "47.0     3\n",
       "48.0     5\n",
       "49.0     3\n",
       "50.0     1\n",
       "51.0     4\n",
       "52.0     3\n",
       "53.0     5\n",
       "54.0     3\n",
       "55.0     3\n",
       "56.0     3\n",
       "57.0     1\n",
       "58.0     4\n",
       "59.0     2\n",
       "60.0     1\n",
       "61.0     2\n",
       "62.0     3\n",
       "64.0     1\n",
       "65.0     3\n",
       "66.0     6\n",
       "67.0    10\n",
       "68.0     4\n",
       "69.0     5\n",
       "Name: date_unregistration, Length: 63, dtype: int64"
      ]
     },
     "execution_count": 7,
     "metadata": {},
     "output_type": "execute_result"
    }
   ],
   "source": [
    "stu_reg['date_unregistration'].value_counts().sort_index()[0:70]"
   ]
  },
  {
   "cell_type": "code",
   "execution_count": 8,
   "metadata": {},
   "outputs": [
    {
     "data": {
      "text/plain": [
       "<matplotlib.axes._subplots.AxesSubplot at 0x1214befd0>"
      ]
     },
     "execution_count": 8,
     "metadata": {},
     "output_type": "execute_result"
    },
    {
     "data": {
      "image/png": "[encoded data removed]",
      "text/plain": [
       "<Figure size 1440x360 with 1 Axes>"
      ]
     },
     "metadata": {
      "needs_background": "light"
     },
     "output_type": "display_data"
    }
   ],
   "source": [
    "stu_reg['date_unregistration'].value_counts().sort_index()[0:70].hist(bins=70, figsize=(20,5))"
   ]
  },
  {
   "cell_type": "code",
   "execution_count": 9,
   "metadata": {},
   "outputs": [
    {
     "name": "stdout",
     "output_type": "stream",
     "text": [
      "Total students:  1936\n",
      "250  withdrew before course, and  610  withdrew before key assessment.\n",
      "Students left:  1076\n"
     ]
    }
   ],
   "source": [
    "print(\"Total students: \", len(stu_reg))\n",
    "print(num_wd_prior, \" withdrew before course, and \", num_wd_early, \" withdrew before key assessment.\")\n",
    "print(\"Students left: \", len(stu_reg) - num_wd_prior - num_wd_early)"
   ]
  },
  {
   "cell_type": "code",
   "execution_count": 10,
   "metadata": {},
   "outputs": [],
   "source": [
    "stu_reg['final_result'] = stu_reg['id_student'].map(stu_info.set_index('id_student')['final_result'])"
   ]
  },
  {
   "cell_type": "code",
   "execution_count": 11,
   "metadata": {},
   "outputs": [],
   "source": [
    "stu_reg.final_result.replace(to_replace=dict(Pass=1, Distinction=1, Fail=0, Withdrawn=0), inplace=True)"
   ]
  },
  {
   "cell_type": "code",
   "execution_count": 12,
   "metadata": {},
   "outputs": [
    {
     "data": {
      "text/html": [
       "<div>\n",
       "<style scoped>\n",
       "    .dataframe tbody tr th:only-of-type {\n",
       "        vertical-align: middle;\n",
       "    }\n",
       "\n",
       "    .dataframe tbody tr th {\n",
       "        vertical-align: top;\n",
       "    }\n",
       "\n",
       "    .dataframe thead th {\n",
       "        text-align: right;\n",
       "    }\n",
       "</style>\n",
       "<table border=\"1\" class=\"dataframe\">\n",
       "  <thead>\n",
       "    <tr style=\"text-align: right;\">\n",
       "      <th></th>\n",
       "      <th>code_module</th>\n",
       "      <th>code_presentation</th>\n",
       "      <th>id_student</th>\n",
       "      <th>date_registration</th>\n",
       "      <th>date_unregistration</th>\n",
       "      <th>final_result</th>\n",
       "    </tr>\n",
       "  </thead>\n",
       "  <tbody>\n",
       "    <tr>\n",
       "      <th>0</th>\n",
       "      <td>CCC</td>\n",
       "      <td>2014B</td>\n",
       "      <td>28418</td>\n",
       "      <td>-37.0</td>\n",
       "      <td>NaN</td>\n",
       "      <td>0</td>\n",
       "    </tr>\n",
       "    <tr>\n",
       "      <th>1</th>\n",
       "      <td>CCC</td>\n",
       "      <td>2014B</td>\n",
       "      <td>29764</td>\n",
       "      <td>-34.0</td>\n",
       "      <td>NaN</td>\n",
       "      <td>1</td>\n",
       "    </tr>\n",
       "    <tr>\n",
       "      <th>2</th>\n",
       "      <td>CCC</td>\n",
       "      <td>2014B</td>\n",
       "      <td>29820</td>\n",
       "      <td>-57.0</td>\n",
       "      <td>NaN</td>\n",
       "      <td>1</td>\n",
       "    </tr>\n",
       "    <tr>\n",
       "      <th>3</th>\n",
       "      <td>CCC</td>\n",
       "      <td>2014B</td>\n",
       "      <td>40333</td>\n",
       "      <td>-30.0</td>\n",
       "      <td>17.0</td>\n",
       "      <td>0</td>\n",
       "    </tr>\n",
       "    <tr>\n",
       "      <th>4</th>\n",
       "      <td>CCC</td>\n",
       "      <td>2014B</td>\n",
       "      <td>40604</td>\n",
       "      <td>-17.0</td>\n",
       "      <td>NaN</td>\n",
       "      <td>1</td>\n",
       "    </tr>\n",
       "  </tbody>\n",
       "</table>\n",
       "</div>"
      ],
      "text/plain": [
       "  code_module code_presentation  id_student  date_registration  \\\n",
       "0         CCC             2014B       28418              -37.0   \n",
       "1         CCC             2014B       29764              -34.0   \n",
       "2         CCC             2014B       29820              -57.0   \n",
       "3         CCC             2014B       40333              -30.0   \n",
       "4         CCC             2014B       40604              -17.0   \n",
       "\n",
       "   date_unregistration  final_result  \n",
       "0                  NaN             0  \n",
       "1                  NaN             1  \n",
       "2                  NaN             1  \n",
       "3                 17.0             0  \n",
       "4                  NaN             1  "
      ]
     },
     "execution_count": 12,
     "metadata": {},
     "output_type": "execute_result"
    }
   ],
   "source": [
    "stu_reg.head()"
   ]
  },
  {
   "cell_type": "code",
   "execution_count": 13,
   "metadata": {},
   "outputs": [
    {
     "name": "stderr",
     "output_type": "stream",
     "text": [
      "//anaconda3/lib/python3.7/site-packages/ipykernel_launcher.py:1: UserWarning: Boolean Series key will be reindexed to match DataFrame index.\n",
      "  \"\"\"Entry point for launching an IPython kernel.\n"
     ]
    },
    {
     "data": {
      "text/plain": [
       "663"
      ]
     },
     "execution_count": 13,
     "metadata": {},
     "output_type": "execute_result"
    }
   ],
   "source": [
    "len(stu_reg[(stu_reg.date_unregistration > 67) | (stu_reg.date_unregistration.isna())][stu_reg.final_result == 1])"
   ]
  },
  {
   "cell_type": "code",
   "execution_count": 14,
   "metadata": {},
   "outputs": [],
   "source": [
    "poi = stu_reg[(stu_reg['date_unregistration']> 67) | (stu_reg.date_unregistration.isna())]"
   ]
  },
  {
   "cell_type": "code",
   "execution_count": 15,
   "metadata": {},
   "outputs": [
    {
     "data": {
      "text/plain": [
       "(1326, 6)"
      ]
     },
     "execution_count": 15,
     "metadata": {},
     "output_type": "execute_result"
    }
   ],
   "source": [
    "poi.shape"
   ]
  },
  {
   "cell_type": "code",
   "execution_count": 16,
   "metadata": {},
   "outputs": [
    {
     "data": {
      "text/plain": [
       "(663, 6)"
      ]
     },
     "execution_count": 16,
     "metadata": {},
     "output_type": "execute_result"
    }
   ],
   "source": [
    "poi[poi.final_result==1].shape"
   ]
  },
  {
   "cell_type": "code",
   "execution_count": 17,
   "metadata": {},
   "outputs": [
    {
     "data": {
      "text/plain": [
       "1326"
      ]
     },
     "execution_count": 17,
     "metadata": {},
     "output_type": "execute_result"
    }
   ],
   "source": [
    "663 *2"
   ]
  },
  {
   "cell_type": "code",
   "execution_count": 18,
   "metadata": {},
   "outputs": [
    {
     "data": {
      "text/plain": [
       "(1038, 6)"
      ]
     },
     "execution_count": 18,
     "metadata": {},
     "output_type": "execute_result"
    }
   ],
   "source": [
    "df_stickers = stu_reg[stu_reg.date_unregistration.isna()]\n",
    "df_stickers.shape"
   ]
  },
  {
   "cell_type": "code",
   "execution_count": 19,
   "metadata": {},
   "outputs": [
    {
     "data": {
      "text/plain": [
       "(898, 6)"
      ]
     },
     "execution_count": 19,
     "metadata": {},
     "output_type": "execute_result"
    }
   ],
   "source": [
    "df_quitters = stu_reg[stu_reg.date_unregistration.isna()!=True]\n",
    "df_quitters.shape"
   ]
  },
  {
   "cell_type": "code",
   "execution_count": 20,
   "metadata": {},
   "outputs": [
    {
     "data": {
      "text/plain": [
       "(288, 6)"
      ]
     },
     "execution_count": 20,
     "metadata": {},
     "output_type": "execute_result"
    }
   ],
   "source": [
    "df_quitters[df_quitters.date_unregistration > 67].shape"
   ]
  },
  {
   "cell_type": "code",
   "execution_count": 21,
   "metadata": {},
   "outputs": [
    {
     "data": {
      "text/plain": [
       "(610, 6)"
      ]
     },
     "execution_count": 21,
     "metadata": {},
     "output_type": "execute_result"
    }
   ],
   "source": [
    "df_quitters[df_quitters.date_unregistration <= 67].shape"
   ]
  },
  {
   "cell_type": "markdown",
   "metadata": {},
   "source": [
    "#### Drop the quitters"
   ]
  },
  {
   "cell_type": "code",
   "execution_count": 22,
   "metadata": {},
   "outputs": [
    {
     "data": {
      "text/html": [
       "<div>\n",
       "<style scoped>\n",
       "    .dataframe tbody tr th:only-of-type {\n",
       "        vertical-align: middle;\n",
       "    }\n",
       "\n",
       "    .dataframe tbody tr th {\n",
       "        vertical-align: top;\n",
       "    }\n",
       "\n",
       "    .dataframe thead th {\n",
       "        text-align: right;\n",
       "    }\n",
       "</style>\n",
       "<table border=\"1\" class=\"dataframe\">\n",
       "  <thead>\n",
       "    <tr style=\"text-align: right;\">\n",
       "      <th></th>\n",
       "      <th>code_module</th>\n",
       "      <th>code_presentation</th>\n",
       "      <th>id_student</th>\n",
       "      <th>date_registration</th>\n",
       "      <th>date_unregistration</th>\n",
       "      <th>final_result</th>\n",
       "    </tr>\n",
       "  </thead>\n",
       "  <tbody>\n",
       "    <tr>\n",
       "      <th>0</th>\n",
       "      <td>CCC</td>\n",
       "      <td>2014B</td>\n",
       "      <td>28418</td>\n",
       "      <td>-37.0</td>\n",
       "      <td>NaN</td>\n",
       "      <td>0</td>\n",
       "    </tr>\n",
       "    <tr>\n",
       "      <th>1</th>\n",
       "      <td>CCC</td>\n",
       "      <td>2014B</td>\n",
       "      <td>29764</td>\n",
       "      <td>-34.0</td>\n",
       "      <td>NaN</td>\n",
       "      <td>1</td>\n",
       "    </tr>\n",
       "    <tr>\n",
       "      <th>2</th>\n",
       "      <td>CCC</td>\n",
       "      <td>2014B</td>\n",
       "      <td>29820</td>\n",
       "      <td>-57.0</td>\n",
       "      <td>NaN</td>\n",
       "      <td>1</td>\n",
       "    </tr>\n",
       "    <tr>\n",
       "      <th>3</th>\n",
       "      <td>CCC</td>\n",
       "      <td>2014B</td>\n",
       "      <td>40333</td>\n",
       "      <td>-30.0</td>\n",
       "      <td>17.0</td>\n",
       "      <td>0</td>\n",
       "    </tr>\n",
       "    <tr>\n",
       "      <th>4</th>\n",
       "      <td>CCC</td>\n",
       "      <td>2014B</td>\n",
       "      <td>40604</td>\n",
       "      <td>-17.0</td>\n",
       "      <td>NaN</td>\n",
       "      <td>1</td>\n",
       "    </tr>\n",
       "  </tbody>\n",
       "</table>\n",
       "</div>"
      ],
      "text/plain": [
       "  code_module code_presentation  id_student  date_registration  \\\n",
       "0         CCC             2014B       28418              -37.0   \n",
       "1         CCC             2014B       29764              -34.0   \n",
       "2         CCC             2014B       29820              -57.0   \n",
       "3         CCC             2014B       40333              -30.0   \n",
       "4         CCC             2014B       40604              -17.0   \n",
       "\n",
       "   date_unregistration  final_result  \n",
       "0                  NaN             0  \n",
       "1                  NaN             1  \n",
       "2                  NaN             1  \n",
       "3                 17.0             0  \n",
       "4                  NaN             1  "
      ]
     },
     "execution_count": 22,
     "metadata": {},
     "output_type": "execute_result"
    }
   ],
   "source": [
    "stu_reg.head()"
   ]
  },
  {
   "cell_type": "code",
   "execution_count": 23,
   "metadata": {},
   "outputs": [],
   "source": [
    "stu_reg.drop(stu_reg[stu_reg.date_unregistration <= 67].index, inplace=True)"
   ]
  },
  {
   "cell_type": "code",
   "execution_count": 24,
   "metadata": {},
   "outputs": [
    {
     "data": {
      "text/plain": [
       "(663, 6)"
      ]
     },
     "execution_count": 24,
     "metadata": {},
     "output_type": "execute_result"
    }
   ],
   "source": [
    "stu_reg[stu_reg.final_result == 0].shape"
   ]
  },
  {
   "cell_type": "code",
   "execution_count": 25,
   "metadata": {},
   "outputs": [
    {
     "data": {
      "text/plain": [
       "1326"
      ]
     },
     "execution_count": 25,
     "metadata": {},
     "output_type": "execute_result"
    }
   ],
   "source": [
    "stu_reg['id_student'].nunique()"
   ]
  },
  {
   "cell_type": "code",
   "execution_count": 26,
   "metadata": {},
   "outputs": [
    {
     "data": {
      "text/plain": [
       "1326"
      ]
     },
     "execution_count": 26,
     "metadata": {},
     "output_type": "execute_result"
    }
   ],
   "source": [
    "len(stu_reg['id_student'].values)"
   ]
  },
  {
   "cell_type": "code",
   "execution_count": 27,
   "metadata": {},
   "outputs": [],
   "source": [
    "pop_of_interest = stu_reg['id_student'].values"
   ]
  },
  {
   "cell_type": "code",
   "execution_count": 28,
   "metadata": {},
   "outputs": [],
   "source": [
    "stvl_pop = stu_vle.drop(stu_vle[~stu_vle.id_student.isin(pop_of_interest)].index)"
   ]
  },
  {
   "cell_type": "markdown",
   "metadata": {},
   "source": [
    "#### Drop days after 67, and sum clicks to daily basis"
   ]
  },
  {
   "cell_type": "code",
   "execution_count": 29,
   "metadata": {},
   "outputs": [],
   "source": [
    "stvl_tst = stvl_pop.drop(stvl_pop[stvl_pop.date > 67].index)"
   ]
  },
  {
   "cell_type": "code",
   "execution_count": 30,
   "metadata": {},
   "outputs": [],
   "source": [
    "stvl_tst = stvl_tst.groupby(['date', 'id_student']).sum().drop('id_site', axis=1)"
   ]
  },
  {
   "cell_type": "code",
   "execution_count": 31,
   "metadata": {},
   "outputs": [
    {
     "data": {
      "text/html": [
       "<div>\n",
       "<style scoped>\n",
       "    .dataframe tbody tr th:only-of-type {\n",
       "        vertical-align: middle;\n",
       "    }\n",
       "\n",
       "    .dataframe tbody tr th {\n",
       "        vertical-align: top;\n",
       "    }\n",
       "\n",
       "    .dataframe thead th {\n",
       "        text-align: right;\n",
       "    }\n",
       "</style>\n",
       "<table border=\"1\" class=\"dataframe\">\n",
       "  <thead>\n",
       "    <tr style=\"text-align: right;\">\n",
       "      <th></th>\n",
       "      <th></th>\n",
       "      <th>sum_click</th>\n",
       "    </tr>\n",
       "    <tr>\n",
       "      <th>date</th>\n",
       "      <th>id_student</th>\n",
       "      <th></th>\n",
       "    </tr>\n",
       "  </thead>\n",
       "  <tbody>\n",
       "    <tr>\n",
       "      <th rowspan=\"5\" valign=\"top\">-18</th>\n",
       "      <th>29764</th>\n",
       "      <td>13</td>\n",
       "    </tr>\n",
       "    <tr>\n",
       "      <th>29820</th>\n",
       "      <td>2</td>\n",
       "    </tr>\n",
       "    <tr>\n",
       "      <th>42638</th>\n",
       "      <td>20</td>\n",
       "    </tr>\n",
       "    <tr>\n",
       "      <th>46605</th>\n",
       "      <td>23</td>\n",
       "    </tr>\n",
       "    <tr>\n",
       "      <th>57340</th>\n",
       "      <td>1</td>\n",
       "    </tr>\n",
       "  </tbody>\n",
       "</table>\n",
       "</div>"
      ],
      "text/plain": [
       "                 sum_click\n",
       "date id_student           \n",
       "-18  29764              13\n",
       "     29820               2\n",
       "     42638              20\n",
       "     46605              23\n",
       "     57340               1"
      ]
     },
     "execution_count": 31,
     "metadata": {},
     "output_type": "execute_result"
    }
   ],
   "source": [
    "stvl_tst.head()"
   ]
  },
  {
   "cell_type": "markdown",
   "metadata": {},
   "source": [
    "### Make dates the features (for Random Forest)"
   ]
  },
  {
   "cell_type": "code",
   "execution_count": 32,
   "metadata": {},
   "outputs": [],
   "source": [
    "stvl_piv = stvl_tst.reset_index().pivot(index='id_student', columns='date', values='sum_click')"
   ]
  },
  {
   "cell_type": "code",
   "execution_count": 33,
   "metadata": {},
   "outputs": [
    {
     "data": {
      "text/html": [
       "<div>\n",
       "<style scoped>\n",
       "    .dataframe tbody tr th:only-of-type {\n",
       "        vertical-align: middle;\n",
       "    }\n",
       "\n",
       "    .dataframe tbody tr th {\n",
       "        vertical-align: top;\n",
       "    }\n",
       "\n",
       "    .dataframe thead th {\n",
       "        text-align: right;\n",
       "    }\n",
       "</style>\n",
       "<table border=\"1\" class=\"dataframe\">\n",
       "  <thead>\n",
       "    <tr style=\"text-align: right;\">\n",
       "      <th>date</th>\n",
       "      <th>-18</th>\n",
       "      <th>-17</th>\n",
       "      <th>-16</th>\n",
       "      <th>-15</th>\n",
       "      <th>-14</th>\n",
       "      <th>-13</th>\n",
       "      <th>-12</th>\n",
       "      <th>-11</th>\n",
       "      <th>-10</th>\n",
       "      <th>-9</th>\n",
       "      <th>...</th>\n",
       "      <th>58</th>\n",
       "      <th>59</th>\n",
       "      <th>60</th>\n",
       "      <th>61</th>\n",
       "      <th>62</th>\n",
       "      <th>63</th>\n",
       "      <th>64</th>\n",
       "      <th>65</th>\n",
       "      <th>66</th>\n",
       "      <th>67</th>\n",
       "    </tr>\n",
       "    <tr>\n",
       "      <th>id_student</th>\n",
       "      <th></th>\n",
       "      <th></th>\n",
       "      <th></th>\n",
       "      <th></th>\n",
       "      <th></th>\n",
       "      <th></th>\n",
       "      <th></th>\n",
       "      <th></th>\n",
       "      <th></th>\n",
       "      <th></th>\n",
       "      <th></th>\n",
       "      <th></th>\n",
       "      <th></th>\n",
       "      <th></th>\n",
       "      <th></th>\n",
       "      <th></th>\n",
       "      <th></th>\n",
       "      <th></th>\n",
       "      <th></th>\n",
       "      <th></th>\n",
       "      <th></th>\n",
       "    </tr>\n",
       "  </thead>\n",
       "  <tbody>\n",
       "    <tr>\n",
       "      <th>28418</th>\n",
       "      <td>NaN</td>\n",
       "      <td>NaN</td>\n",
       "      <td>NaN</td>\n",
       "      <td>NaN</td>\n",
       "      <td>NaN</td>\n",
       "      <td>NaN</td>\n",
       "      <td>NaN</td>\n",
       "      <td>NaN</td>\n",
       "      <td>NaN</td>\n",
       "      <td>NaN</td>\n",
       "      <td>...</td>\n",
       "      <td>NaN</td>\n",
       "      <td>NaN</td>\n",
       "      <td>NaN</td>\n",
       "      <td>NaN</td>\n",
       "      <td>NaN</td>\n",
       "      <td>NaN</td>\n",
       "      <td>5.0</td>\n",
       "      <td>37.0</td>\n",
       "      <td>NaN</td>\n",
       "      <td>16.0</td>\n",
       "    </tr>\n",
       "    <tr>\n",
       "      <th>29764</th>\n",
       "      <td>13.0</td>\n",
       "      <td>15.0</td>\n",
       "      <td>1.0</td>\n",
       "      <td>NaN</td>\n",
       "      <td>NaN</td>\n",
       "      <td>NaN</td>\n",
       "      <td>NaN</td>\n",
       "      <td>NaN</td>\n",
       "      <td>NaN</td>\n",
       "      <td>NaN</td>\n",
       "      <td>...</td>\n",
       "      <td>NaN</td>\n",
       "      <td>44.0</td>\n",
       "      <td>9.0</td>\n",
       "      <td>5.0</td>\n",
       "      <td>30.0</td>\n",
       "      <td>NaN</td>\n",
       "      <td>6.0</td>\n",
       "      <td>82.0</td>\n",
       "      <td>NaN</td>\n",
       "      <td>103.0</td>\n",
       "    </tr>\n",
       "    <tr>\n",
       "      <th>29820</th>\n",
       "      <td>2.0</td>\n",
       "      <td>NaN</td>\n",
       "      <td>NaN</td>\n",
       "      <td>NaN</td>\n",
       "      <td>NaN</td>\n",
       "      <td>NaN</td>\n",
       "      <td>NaN</td>\n",
       "      <td>NaN</td>\n",
       "      <td>NaN</td>\n",
       "      <td>NaN</td>\n",
       "      <td>...</td>\n",
       "      <td>NaN</td>\n",
       "      <td>NaN</td>\n",
       "      <td>NaN</td>\n",
       "      <td>NaN</td>\n",
       "      <td>NaN</td>\n",
       "      <td>124.0</td>\n",
       "      <td>NaN</td>\n",
       "      <td>1.0</td>\n",
       "      <td>33.0</td>\n",
       "      <td>NaN</td>\n",
       "    </tr>\n",
       "    <tr>\n",
       "      <th>40604</th>\n",
       "      <td>NaN</td>\n",
       "      <td>NaN</td>\n",
       "      <td>4.0</td>\n",
       "      <td>9.0</td>\n",
       "      <td>NaN</td>\n",
       "      <td>NaN</td>\n",
       "      <td>9.0</td>\n",
       "      <td>NaN</td>\n",
       "      <td>24.0</td>\n",
       "      <td>10.0</td>\n",
       "      <td>...</td>\n",
       "      <td>NaN</td>\n",
       "      <td>NaN</td>\n",
       "      <td>NaN</td>\n",
       "      <td>NaN</td>\n",
       "      <td>NaN</td>\n",
       "      <td>NaN</td>\n",
       "      <td>NaN</td>\n",
       "      <td>NaN</td>\n",
       "      <td>29.0</td>\n",
       "      <td>89.0</td>\n",
       "    </tr>\n",
       "    <tr>\n",
       "      <th>42638</th>\n",
       "      <td>20.0</td>\n",
       "      <td>22.0</td>\n",
       "      <td>7.0</td>\n",
       "      <td>9.0</td>\n",
       "      <td>NaN</td>\n",
       "      <td>5.0</td>\n",
       "      <td>NaN</td>\n",
       "      <td>5.0</td>\n",
       "      <td>2.0</td>\n",
       "      <td>3.0</td>\n",
       "      <td>...</td>\n",
       "      <td>5.0</td>\n",
       "      <td>32.0</td>\n",
       "      <td>68.0</td>\n",
       "      <td>37.0</td>\n",
       "      <td>36.0</td>\n",
       "      <td>41.0</td>\n",
       "      <td>6.0</td>\n",
       "      <td>21.0</td>\n",
       "      <td>29.0</td>\n",
       "      <td>14.0</td>\n",
       "    </tr>\n",
       "  </tbody>\n",
       "</table>\n",
       "<p>5 rows × 86 columns</p>\n",
       "</div>"
      ],
      "text/plain": [
       "date         -18   -17  -16  -15  -14  -13  -12  -11   -10   -9   ...   58  \\\n",
       "id_student                                                        ...        \n",
       "28418        NaN   NaN  NaN  NaN  NaN  NaN  NaN  NaN   NaN   NaN  ...  NaN   \n",
       "29764       13.0  15.0  1.0  NaN  NaN  NaN  NaN  NaN   NaN   NaN  ...  NaN   \n",
       "29820        2.0   NaN  NaN  NaN  NaN  NaN  NaN  NaN   NaN   NaN  ...  NaN   \n",
       "40604        NaN   NaN  4.0  9.0  NaN  NaN  9.0  NaN  24.0  10.0  ...  NaN   \n",
       "42638       20.0  22.0  7.0  9.0  NaN  5.0  NaN  5.0   2.0   3.0  ...  5.0   \n",
       "\n",
       "date          59    60    61    62     63   64    65    66     67  \n",
       "id_student                                                         \n",
       "28418        NaN   NaN   NaN   NaN    NaN  5.0  37.0   NaN   16.0  \n",
       "29764       44.0   9.0   5.0  30.0    NaN  6.0  82.0   NaN  103.0  \n",
       "29820        NaN   NaN   NaN   NaN  124.0  NaN   1.0  33.0    NaN  \n",
       "40604        NaN   NaN   NaN   NaN    NaN  NaN   NaN  29.0   89.0  \n",
       "42638       32.0  68.0  37.0  36.0   41.0  6.0  21.0  29.0   14.0  \n",
       "\n",
       "[5 rows x 86 columns]"
      ]
     },
     "execution_count": 33,
     "metadata": {},
     "output_type": "execute_result"
    }
   ],
   "source": [
    "stvl_piv.head()"
   ]
  },
  {
   "cell_type": "code",
   "execution_count": null,
   "metadata": {},
   "outputs": [],
   "source": []
  },
  {
   "cell_type": "markdown",
   "metadata": {},
   "source": [
    "### Make students the features (for LSTM)"
   ]
  },
  {
   "cell_type": "code",
   "execution_count": 50,
   "metadata": {},
   "outputs": [],
   "source": [
    "stvl_piv2 = stvl_tst.reset_index().pivot(index='date', columns='id_student', values='sum_click')"
   ]
  },
  {
   "cell_type": "code",
   "execution_count": 54,
   "metadata": {},
   "outputs": [],
   "source": [
    "stvl_piv2.fillna(0, inplace=True)"
   ]
  },
  {
   "cell_type": "code",
   "execution_count": 55,
   "metadata": {},
   "outputs": [
    {
     "data": {
      "text/html": [
       "<div>\n",
       "<style scoped>\n",
       "    .dataframe tbody tr th:only-of-type {\n",
       "        vertical-align: middle;\n",
       "    }\n",
       "\n",
       "    .dataframe tbody tr th {\n",
       "        vertical-align: top;\n",
       "    }\n",
       "\n",
       "    .dataframe thead th {\n",
       "        text-align: right;\n",
       "    }\n",
       "</style>\n",
       "<table border=\"1\" class=\"dataframe\">\n",
       "  <thead>\n",
       "    <tr style=\"text-align: right;\">\n",
       "      <th>id_student</th>\n",
       "      <th>28418</th>\n",
       "      <th>29764</th>\n",
       "      <th>29820</th>\n",
       "      <th>40604</th>\n",
       "      <th>42638</th>\n",
       "      <th>45664</th>\n",
       "      <th>46605</th>\n",
       "      <th>49119</th>\n",
       "      <th>54391</th>\n",
       "      <th>57340</th>\n",
       "      <th>...</th>\n",
       "      <th>2659556</th>\n",
       "      <th>2665399</th>\n",
       "      <th>2668550</th>\n",
       "      <th>2677969</th>\n",
       "      <th>2680742</th>\n",
       "      <th>2681198</th>\n",
       "      <th>2686578</th>\n",
       "      <th>2692327</th>\n",
       "      <th>2697181</th>\n",
       "      <th>2698535</th>\n",
       "    </tr>\n",
       "    <tr>\n",
       "      <th>date</th>\n",
       "      <th></th>\n",
       "      <th></th>\n",
       "      <th></th>\n",
       "      <th></th>\n",
       "      <th></th>\n",
       "      <th></th>\n",
       "      <th></th>\n",
       "      <th></th>\n",
       "      <th></th>\n",
       "      <th></th>\n",
       "      <th></th>\n",
       "      <th></th>\n",
       "      <th></th>\n",
       "      <th></th>\n",
       "      <th></th>\n",
       "      <th></th>\n",
       "      <th></th>\n",
       "      <th></th>\n",
       "      <th></th>\n",
       "      <th></th>\n",
       "      <th></th>\n",
       "    </tr>\n",
       "  </thead>\n",
       "  <tbody>\n",
       "    <tr>\n",
       "      <th>-18</th>\n",
       "      <td>0.0</td>\n",
       "      <td>13.0</td>\n",
       "      <td>2.0</td>\n",
       "      <td>0.0</td>\n",
       "      <td>20.0</td>\n",
       "      <td>0.0</td>\n",
       "      <td>23.0</td>\n",
       "      <td>0.0</td>\n",
       "      <td>0.0</td>\n",
       "      <td>1.0</td>\n",
       "      <td>...</td>\n",
       "      <td>0.0</td>\n",
       "      <td>0.0</td>\n",
       "      <td>0.0</td>\n",
       "      <td>0.0</td>\n",
       "      <td>32.0</td>\n",
       "      <td>13.0</td>\n",
       "      <td>0.0</td>\n",
       "      <td>17.0</td>\n",
       "      <td>31.0</td>\n",
       "      <td>1.0</td>\n",
       "    </tr>\n",
       "    <tr>\n",
       "      <th>-17</th>\n",
       "      <td>0.0</td>\n",
       "      <td>15.0</td>\n",
       "      <td>0.0</td>\n",
       "      <td>0.0</td>\n",
       "      <td>22.0</td>\n",
       "      <td>0.0</td>\n",
       "      <td>13.0</td>\n",
       "      <td>1.0</td>\n",
       "      <td>0.0</td>\n",
       "      <td>0.0</td>\n",
       "      <td>...</td>\n",
       "      <td>0.0</td>\n",
       "      <td>0.0</td>\n",
       "      <td>0.0</td>\n",
       "      <td>0.0</td>\n",
       "      <td>0.0</td>\n",
       "      <td>0.0</td>\n",
       "      <td>0.0</td>\n",
       "      <td>30.0</td>\n",
       "      <td>0.0</td>\n",
       "      <td>0.0</td>\n",
       "    </tr>\n",
       "    <tr>\n",
       "      <th>-16</th>\n",
       "      <td>0.0</td>\n",
       "      <td>1.0</td>\n",
       "      <td>0.0</td>\n",
       "      <td>4.0</td>\n",
       "      <td>7.0</td>\n",
       "      <td>0.0</td>\n",
       "      <td>10.0</td>\n",
       "      <td>17.0</td>\n",
       "      <td>0.0</td>\n",
       "      <td>2.0</td>\n",
       "      <td>...</td>\n",
       "      <td>0.0</td>\n",
       "      <td>0.0</td>\n",
       "      <td>1.0</td>\n",
       "      <td>0.0</td>\n",
       "      <td>0.0</td>\n",
       "      <td>0.0</td>\n",
       "      <td>0.0</td>\n",
       "      <td>0.0</td>\n",
       "      <td>5.0</td>\n",
       "      <td>0.0</td>\n",
       "    </tr>\n",
       "    <tr>\n",
       "      <th>-15</th>\n",
       "      <td>0.0</td>\n",
       "      <td>0.0</td>\n",
       "      <td>0.0</td>\n",
       "      <td>9.0</td>\n",
       "      <td>9.0</td>\n",
       "      <td>0.0</td>\n",
       "      <td>0.0</td>\n",
       "      <td>0.0</td>\n",
       "      <td>0.0</td>\n",
       "      <td>0.0</td>\n",
       "      <td>...</td>\n",
       "      <td>0.0</td>\n",
       "      <td>0.0</td>\n",
       "      <td>0.0</td>\n",
       "      <td>0.0</td>\n",
       "      <td>1.0</td>\n",
       "      <td>0.0</td>\n",
       "      <td>0.0</td>\n",
       "      <td>0.0</td>\n",
       "      <td>23.0</td>\n",
       "      <td>0.0</td>\n",
       "    </tr>\n",
       "    <tr>\n",
       "      <th>-14</th>\n",
       "      <td>0.0</td>\n",
       "      <td>0.0</td>\n",
       "      <td>0.0</td>\n",
       "      <td>0.0</td>\n",
       "      <td>0.0</td>\n",
       "      <td>0.0</td>\n",
       "      <td>0.0</td>\n",
       "      <td>0.0</td>\n",
       "      <td>0.0</td>\n",
       "      <td>0.0</td>\n",
       "      <td>...</td>\n",
       "      <td>0.0</td>\n",
       "      <td>0.0</td>\n",
       "      <td>0.0</td>\n",
       "      <td>1.0</td>\n",
       "      <td>0.0</td>\n",
       "      <td>0.0</td>\n",
       "      <td>0.0</td>\n",
       "      <td>105.0</td>\n",
       "      <td>4.0</td>\n",
       "      <td>1.0</td>\n",
       "    </tr>\n",
       "  </tbody>\n",
       "</table>\n",
       "<p>5 rows × 1299 columns</p>\n",
       "</div>"
      ],
      "text/plain": [
       "id_student  28418    29764    29820    40604    42638    45664    46605    \\\n",
       "date                                                                        \n",
       "-18             0.0     13.0      2.0      0.0     20.0      0.0     23.0   \n",
       "-17             0.0     15.0      0.0      0.0     22.0      0.0     13.0   \n",
       "-16             0.0      1.0      0.0      4.0      7.0      0.0     10.0   \n",
       "-15             0.0      0.0      0.0      9.0      9.0      0.0      0.0   \n",
       "-14             0.0      0.0      0.0      0.0      0.0      0.0      0.0   \n",
       "\n",
       "id_student  49119    54391    57340    ...  2659556  2665399  2668550  \\\n",
       "date                                   ...                              \n",
       "-18             0.0      0.0      1.0  ...      0.0      0.0      0.0   \n",
       "-17             1.0      0.0      0.0  ...      0.0      0.0      0.0   \n",
       "-16            17.0      0.0      2.0  ...      0.0      0.0      1.0   \n",
       "-15             0.0      0.0      0.0  ...      0.0      0.0      0.0   \n",
       "-14             0.0      0.0      0.0  ...      0.0      0.0      0.0   \n",
       "\n",
       "id_student  2677969  2680742  2681198  2686578  2692327  2697181  2698535  \n",
       "date                                                                       \n",
       "-18             0.0     32.0     13.0      0.0     17.0     31.0      1.0  \n",
       "-17             0.0      0.0      0.0      0.0     30.0      0.0      0.0  \n",
       "-16             0.0      0.0      0.0      0.0      0.0      5.0      0.0  \n",
       "-15             0.0      1.0      0.0      0.0      0.0     23.0      0.0  \n",
       "-14             1.0      0.0      0.0      0.0    105.0      4.0      1.0  \n",
       "\n",
       "[5 rows x 1299 columns]"
      ]
     },
     "execution_count": 55,
     "metadata": {},
     "output_type": "execute_result"
    }
   ],
   "source": [
    "stvl_piv2.head()"
   ]
  },
  {
   "cell_type": "markdown",
   "metadata": {},
   "source": [
    "#### Convert to diffs"
   ]
  },
  {
   "cell_type": "code",
   "execution_count": 112,
   "metadata": {},
   "outputs": [],
   "source": [
    "stvl_dif2 = stvl_piv2.diff()"
   ]
  },
  {
   "cell_type": "code",
   "execution_count": 113,
   "metadata": {},
   "outputs": [
    {
     "data": {
      "text/html": [
       "<div>\n",
       "<style scoped>\n",
       "    .dataframe tbody tr th:only-of-type {\n",
       "        vertical-align: middle;\n",
       "    }\n",
       "\n",
       "    .dataframe tbody tr th {\n",
       "        vertical-align: top;\n",
       "    }\n",
       "\n",
       "    .dataframe thead th {\n",
       "        text-align: right;\n",
       "    }\n",
       "</style>\n",
       "<table border=\"1\" class=\"dataframe\">\n",
       "  <thead>\n",
       "    <tr style=\"text-align: right;\">\n",
       "      <th>id_student</th>\n",
       "      <th>28418</th>\n",
       "      <th>29764</th>\n",
       "      <th>29820</th>\n",
       "      <th>40604</th>\n",
       "      <th>42638</th>\n",
       "      <th>45664</th>\n",
       "      <th>46605</th>\n",
       "      <th>49119</th>\n",
       "      <th>54391</th>\n",
       "      <th>57340</th>\n",
       "      <th>...</th>\n",
       "      <th>2659556</th>\n",
       "      <th>2665399</th>\n",
       "      <th>2668550</th>\n",
       "      <th>2677969</th>\n",
       "      <th>2680742</th>\n",
       "      <th>2681198</th>\n",
       "      <th>2686578</th>\n",
       "      <th>2692327</th>\n",
       "      <th>2697181</th>\n",
       "      <th>2698535</th>\n",
       "    </tr>\n",
       "    <tr>\n",
       "      <th>date</th>\n",
       "      <th></th>\n",
       "      <th></th>\n",
       "      <th></th>\n",
       "      <th></th>\n",
       "      <th></th>\n",
       "      <th></th>\n",
       "      <th></th>\n",
       "      <th></th>\n",
       "      <th></th>\n",
       "      <th></th>\n",
       "      <th></th>\n",
       "      <th></th>\n",
       "      <th></th>\n",
       "      <th></th>\n",
       "      <th></th>\n",
       "      <th></th>\n",
       "      <th></th>\n",
       "      <th></th>\n",
       "      <th></th>\n",
       "      <th></th>\n",
       "      <th></th>\n",
       "    </tr>\n",
       "  </thead>\n",
       "  <tbody>\n",
       "    <tr>\n",
       "      <th>-18</th>\n",
       "      <td>NaN</td>\n",
       "      <td>NaN</td>\n",
       "      <td>NaN</td>\n",
       "      <td>NaN</td>\n",
       "      <td>NaN</td>\n",
       "      <td>NaN</td>\n",
       "      <td>NaN</td>\n",
       "      <td>NaN</td>\n",
       "      <td>NaN</td>\n",
       "      <td>NaN</td>\n",
       "      <td>...</td>\n",
       "      <td>NaN</td>\n",
       "      <td>NaN</td>\n",
       "      <td>NaN</td>\n",
       "      <td>NaN</td>\n",
       "      <td>NaN</td>\n",
       "      <td>NaN</td>\n",
       "      <td>NaN</td>\n",
       "      <td>NaN</td>\n",
       "      <td>NaN</td>\n",
       "      <td>NaN</td>\n",
       "    </tr>\n",
       "    <tr>\n",
       "      <th>-17</th>\n",
       "      <td>0.0</td>\n",
       "      <td>2.0</td>\n",
       "      <td>-2.0</td>\n",
       "      <td>0.0</td>\n",
       "      <td>2.0</td>\n",
       "      <td>0.0</td>\n",
       "      <td>-10.0</td>\n",
       "      <td>1.0</td>\n",
       "      <td>0.0</td>\n",
       "      <td>-1.0</td>\n",
       "      <td>...</td>\n",
       "      <td>0.0</td>\n",
       "      <td>0.0</td>\n",
       "      <td>0.0</td>\n",
       "      <td>0.0</td>\n",
       "      <td>-32.0</td>\n",
       "      <td>-13.0</td>\n",
       "      <td>0.0</td>\n",
       "      <td>13.0</td>\n",
       "      <td>-31.0</td>\n",
       "      <td>-1.0</td>\n",
       "    </tr>\n",
       "    <tr>\n",
       "      <th>-16</th>\n",
       "      <td>0.0</td>\n",
       "      <td>-14.0</td>\n",
       "      <td>0.0</td>\n",
       "      <td>4.0</td>\n",
       "      <td>-15.0</td>\n",
       "      <td>0.0</td>\n",
       "      <td>-3.0</td>\n",
       "      <td>16.0</td>\n",
       "      <td>0.0</td>\n",
       "      <td>2.0</td>\n",
       "      <td>...</td>\n",
       "      <td>0.0</td>\n",
       "      <td>0.0</td>\n",
       "      <td>1.0</td>\n",
       "      <td>0.0</td>\n",
       "      <td>0.0</td>\n",
       "      <td>0.0</td>\n",
       "      <td>0.0</td>\n",
       "      <td>-30.0</td>\n",
       "      <td>5.0</td>\n",
       "      <td>0.0</td>\n",
       "    </tr>\n",
       "    <tr>\n",
       "      <th>-15</th>\n",
       "      <td>0.0</td>\n",
       "      <td>-1.0</td>\n",
       "      <td>0.0</td>\n",
       "      <td>5.0</td>\n",
       "      <td>2.0</td>\n",
       "      <td>0.0</td>\n",
       "      <td>-10.0</td>\n",
       "      <td>-17.0</td>\n",
       "      <td>0.0</td>\n",
       "      <td>-2.0</td>\n",
       "      <td>...</td>\n",
       "      <td>0.0</td>\n",
       "      <td>0.0</td>\n",
       "      <td>-1.0</td>\n",
       "      <td>0.0</td>\n",
       "      <td>1.0</td>\n",
       "      <td>0.0</td>\n",
       "      <td>0.0</td>\n",
       "      <td>0.0</td>\n",
       "      <td>18.0</td>\n",
       "      <td>0.0</td>\n",
       "    </tr>\n",
       "    <tr>\n",
       "      <th>-14</th>\n",
       "      <td>0.0</td>\n",
       "      <td>0.0</td>\n",
       "      <td>0.0</td>\n",
       "      <td>-9.0</td>\n",
       "      <td>-9.0</td>\n",
       "      <td>0.0</td>\n",
       "      <td>0.0</td>\n",
       "      <td>0.0</td>\n",
       "      <td>0.0</td>\n",
       "      <td>0.0</td>\n",
       "      <td>...</td>\n",
       "      <td>0.0</td>\n",
       "      <td>0.0</td>\n",
       "      <td>0.0</td>\n",
       "      <td>1.0</td>\n",
       "      <td>-1.0</td>\n",
       "      <td>0.0</td>\n",
       "      <td>0.0</td>\n",
       "      <td>105.0</td>\n",
       "      <td>-19.0</td>\n",
       "      <td>1.0</td>\n",
       "    </tr>\n",
       "  </tbody>\n",
       "</table>\n",
       "<p>5 rows × 1299 columns</p>\n",
       "</div>"
      ],
      "text/plain": [
       "id_student  28418    29764    29820    40604    42638    45664    46605    \\\n",
       "date                                                                        \n",
       "-18             NaN      NaN      NaN      NaN      NaN      NaN      NaN   \n",
       "-17             0.0      2.0     -2.0      0.0      2.0      0.0    -10.0   \n",
       "-16             0.0    -14.0      0.0      4.0    -15.0      0.0     -3.0   \n",
       "-15             0.0     -1.0      0.0      5.0      2.0      0.0    -10.0   \n",
       "-14             0.0      0.0      0.0     -9.0     -9.0      0.0      0.0   \n",
       "\n",
       "id_student  49119    54391    57340    ...  2659556  2665399  2668550  \\\n",
       "date                                   ...                              \n",
       "-18             NaN      NaN      NaN  ...      NaN      NaN      NaN   \n",
       "-17             1.0      0.0     -1.0  ...      0.0      0.0      0.0   \n",
       "-16            16.0      0.0      2.0  ...      0.0      0.0      1.0   \n",
       "-15           -17.0      0.0     -2.0  ...      0.0      0.0     -1.0   \n",
       "-14             0.0      0.0      0.0  ...      0.0      0.0      0.0   \n",
       "\n",
       "id_student  2677969  2680742  2681198  2686578  2692327  2697181  2698535  \n",
       "date                                                                       \n",
       "-18             NaN      NaN      NaN      NaN      NaN      NaN      NaN  \n",
       "-17             0.0    -32.0    -13.0      0.0     13.0    -31.0     -1.0  \n",
       "-16             0.0      0.0      0.0      0.0    -30.0      5.0      0.0  \n",
       "-15             0.0      1.0      0.0      0.0      0.0     18.0      0.0  \n",
       "-14             1.0     -1.0      0.0      0.0    105.0    -19.0      1.0  \n",
       "\n",
       "[5 rows x 1299 columns]"
      ]
     },
     "execution_count": 113,
     "metadata": {},
     "output_type": "execute_result"
    }
   ],
   "source": [
    "stvl_dif2.head()"
   ]
  },
  {
   "cell_type": "code",
   "execution_count": 115,
   "metadata": {},
   "outputs": [],
   "source": [
    "stvl_dif2.drop([-18], inplace=True)"
   ]
  },
  {
   "cell_type": "code",
   "execution_count": 176,
   "metadata": {},
   "outputs": [
    {
     "data": {
      "text/html": [
       "<div>\n",
       "<style scoped>\n",
       "    .dataframe tbody tr th:only-of-type {\n",
       "        vertical-align: middle;\n",
       "    }\n",
       "\n",
       "    .dataframe tbody tr th {\n",
       "        vertical-align: top;\n",
       "    }\n",
       "\n",
       "    .dataframe thead th {\n",
       "        text-align: right;\n",
       "    }\n",
       "</style>\n",
       "<table border=\"1\" class=\"dataframe\">\n",
       "  <thead>\n",
       "    <tr style=\"text-align: right;\">\n",
       "      <th>id_student</th>\n",
       "      <th>28418</th>\n",
       "      <th>29764</th>\n",
       "      <th>29820</th>\n",
       "      <th>40604</th>\n",
       "      <th>42638</th>\n",
       "      <th>45664</th>\n",
       "      <th>46605</th>\n",
       "      <th>49119</th>\n",
       "      <th>54391</th>\n",
       "      <th>57340</th>\n",
       "      <th>...</th>\n",
       "      <th>2659556</th>\n",
       "      <th>2665399</th>\n",
       "      <th>2668550</th>\n",
       "      <th>2677969</th>\n",
       "      <th>2680742</th>\n",
       "      <th>2681198</th>\n",
       "      <th>2686578</th>\n",
       "      <th>2692327</th>\n",
       "      <th>2697181</th>\n",
       "      <th>2698535</th>\n",
       "    </tr>\n",
       "    <tr>\n",
       "      <th>date</th>\n",
       "      <th></th>\n",
       "      <th></th>\n",
       "      <th></th>\n",
       "      <th></th>\n",
       "      <th></th>\n",
       "      <th></th>\n",
       "      <th></th>\n",
       "      <th></th>\n",
       "      <th></th>\n",
       "      <th></th>\n",
       "      <th></th>\n",
       "      <th></th>\n",
       "      <th></th>\n",
       "      <th></th>\n",
       "      <th></th>\n",
       "      <th></th>\n",
       "      <th></th>\n",
       "      <th></th>\n",
       "      <th></th>\n",
       "      <th></th>\n",
       "      <th></th>\n",
       "    </tr>\n",
       "  </thead>\n",
       "  <tbody>\n",
       "    <tr>\n",
       "      <th>-17</th>\n",
       "      <td>0.0</td>\n",
       "      <td>2.0</td>\n",
       "      <td>-2.0</td>\n",
       "      <td>0.0</td>\n",
       "      <td>2.0</td>\n",
       "      <td>0.0</td>\n",
       "      <td>-10.0</td>\n",
       "      <td>1.0</td>\n",
       "      <td>0.0</td>\n",
       "      <td>-1.0</td>\n",
       "      <td>...</td>\n",
       "      <td>0.0</td>\n",
       "      <td>0.0</td>\n",
       "      <td>0.0</td>\n",
       "      <td>0.0</td>\n",
       "      <td>-32.0</td>\n",
       "      <td>-13.0</td>\n",
       "      <td>0.0</td>\n",
       "      <td>13.0</td>\n",
       "      <td>-31.0</td>\n",
       "      <td>-1.0</td>\n",
       "    </tr>\n",
       "    <tr>\n",
       "      <th>-16</th>\n",
       "      <td>0.0</td>\n",
       "      <td>-14.0</td>\n",
       "      <td>0.0</td>\n",
       "      <td>4.0</td>\n",
       "      <td>-15.0</td>\n",
       "      <td>0.0</td>\n",
       "      <td>-3.0</td>\n",
       "      <td>16.0</td>\n",
       "      <td>0.0</td>\n",
       "      <td>2.0</td>\n",
       "      <td>...</td>\n",
       "      <td>0.0</td>\n",
       "      <td>0.0</td>\n",
       "      <td>1.0</td>\n",
       "      <td>0.0</td>\n",
       "      <td>0.0</td>\n",
       "      <td>0.0</td>\n",
       "      <td>0.0</td>\n",
       "      <td>-30.0</td>\n",
       "      <td>5.0</td>\n",
       "      <td>0.0</td>\n",
       "    </tr>\n",
       "    <tr>\n",
       "      <th>-15</th>\n",
       "      <td>0.0</td>\n",
       "      <td>-1.0</td>\n",
       "      <td>0.0</td>\n",
       "      <td>5.0</td>\n",
       "      <td>2.0</td>\n",
       "      <td>0.0</td>\n",
       "      <td>-10.0</td>\n",
       "      <td>-17.0</td>\n",
       "      <td>0.0</td>\n",
       "      <td>-2.0</td>\n",
       "      <td>...</td>\n",
       "      <td>0.0</td>\n",
       "      <td>0.0</td>\n",
       "      <td>-1.0</td>\n",
       "      <td>0.0</td>\n",
       "      <td>1.0</td>\n",
       "      <td>0.0</td>\n",
       "      <td>0.0</td>\n",
       "      <td>0.0</td>\n",
       "      <td>18.0</td>\n",
       "      <td>0.0</td>\n",
       "    </tr>\n",
       "    <tr>\n",
       "      <th>-14</th>\n",
       "      <td>0.0</td>\n",
       "      <td>0.0</td>\n",
       "      <td>0.0</td>\n",
       "      <td>-9.0</td>\n",
       "      <td>-9.0</td>\n",
       "      <td>0.0</td>\n",
       "      <td>0.0</td>\n",
       "      <td>0.0</td>\n",
       "      <td>0.0</td>\n",
       "      <td>0.0</td>\n",
       "      <td>...</td>\n",
       "      <td>0.0</td>\n",
       "      <td>0.0</td>\n",
       "      <td>0.0</td>\n",
       "      <td>1.0</td>\n",
       "      <td>-1.0</td>\n",
       "      <td>0.0</td>\n",
       "      <td>0.0</td>\n",
       "      <td>105.0</td>\n",
       "      <td>-19.0</td>\n",
       "      <td>1.0</td>\n",
       "    </tr>\n",
       "    <tr>\n",
       "      <th>-13</th>\n",
       "      <td>0.0</td>\n",
       "      <td>0.0</td>\n",
       "      <td>0.0</td>\n",
       "      <td>0.0</td>\n",
       "      <td>5.0</td>\n",
       "      <td>0.0</td>\n",
       "      <td>10.0</td>\n",
       "      <td>0.0</td>\n",
       "      <td>0.0</td>\n",
       "      <td>0.0</td>\n",
       "      <td>...</td>\n",
       "      <td>0.0</td>\n",
       "      <td>0.0</td>\n",
       "      <td>0.0</td>\n",
       "      <td>-1.0</td>\n",
       "      <td>0.0</td>\n",
       "      <td>0.0</td>\n",
       "      <td>0.0</td>\n",
       "      <td>-103.0</td>\n",
       "      <td>-4.0</td>\n",
       "      <td>3.0</td>\n",
       "    </tr>\n",
       "  </tbody>\n",
       "</table>\n",
       "<p>5 rows × 1299 columns</p>\n",
       "</div>"
      ],
      "text/plain": [
       "id_student  28418    29764    29820    40604    42638    45664    46605    \\\n",
       "date                                                                        \n",
       "-17             0.0      2.0     -2.0      0.0      2.0      0.0    -10.0   \n",
       "-16             0.0    -14.0      0.0      4.0    -15.0      0.0     -3.0   \n",
       "-15             0.0     -1.0      0.0      5.0      2.0      0.0    -10.0   \n",
       "-14             0.0      0.0      0.0     -9.0     -9.0      0.0      0.0   \n",
       "-13             0.0      0.0      0.0      0.0      5.0      0.0     10.0   \n",
       "\n",
       "id_student  49119    54391    57340    ...  2659556  2665399  2668550  \\\n",
       "date                                   ...                              \n",
       "-17             1.0      0.0     -1.0  ...      0.0      0.0      0.0   \n",
       "-16            16.0      0.0      2.0  ...      0.0      0.0      1.0   \n",
       "-15           -17.0      0.0     -2.0  ...      0.0      0.0     -1.0   \n",
       "-14             0.0      0.0      0.0  ...      0.0      0.0      0.0   \n",
       "-13             0.0      0.0      0.0  ...      0.0      0.0      0.0   \n",
       "\n",
       "id_student  2677969  2680742  2681198  2686578  2692327  2697181  2698535  \n",
       "date                                                                       \n",
       "-17             0.0    -32.0    -13.0      0.0     13.0    -31.0     -1.0  \n",
       "-16             0.0      0.0      0.0      0.0    -30.0      5.0      0.0  \n",
       "-15             0.0      1.0      0.0      0.0      0.0     18.0      0.0  \n",
       "-14             1.0     -1.0      0.0      0.0    105.0    -19.0      1.0  \n",
       "-13            -1.0      0.0      0.0      0.0   -103.0     -4.0      3.0  \n",
       "\n",
       "[5 rows x 1299 columns]"
      ]
     },
     "execution_count": 176,
     "metadata": {},
     "output_type": "execute_result"
    }
   ],
   "source": [
    "stvl_dif2.head()"
   ]
  },
  {
   "cell_type": "markdown",
   "metadata": {},
   "source": [
    "#### Convert to numpy array, reshape into 3D for LSTM input"
   ]
  },
  {
   "cell_type": "code",
   "execution_count": 250,
   "metadata": {},
   "outputs": [],
   "source": [
    "stvl_arr2 = stvl_dif2.values"
   ]
  },
  {
   "cell_type": "code",
   "execution_count": 251,
   "metadata": {},
   "outputs": [
    {
     "data": {
      "text/plain": [
       "array([[  0.,   2.,  -2., ...,  13., -31.,  -1.],\n",
       "       [  0., -14.,   0., ..., -30.,   5.,   0.],\n",
       "       [  0.,  -1.,   0., ...,   0.,  18.,   0.],\n",
       "       ...,\n",
       "       [ 32.,  76.,   1., ...,   9.,  15.,  54.],\n",
       "       [-37., -82.,  32., ..., -29., -19., -54.],\n",
       "       [ 16., 103., -33., ...,   0.,  -5.,   0.]])"
      ]
     },
     "execution_count": 251,
     "metadata": {},
     "output_type": "execute_result"
    }
   ],
   "source": [
    "stvl_arr2"
   ]
  },
  {
   "cell_type": "code",
   "execution_count": 252,
   "metadata": {},
   "outputs": [
    {
     "data": {
      "text/plain": [
       "(85, 1299)"
      ]
     },
     "execution_count": 252,
     "metadata": {},
     "output_type": "execute_result"
    }
   ],
   "source": [
    "stvl_arr2.shape"
   ]
  },
  {
   "cell_type": "code",
   "execution_count": 253,
   "metadata": {},
   "outputs": [],
   "source": [
    "#input_arr2 = stvl_arr2.reshape(85, 1, 1299)\n",
    "#input_arr2 = stvl_arr2.reshape(1, 85, 1299)\n",
    "input_arr2 = stvl_arr2.reshape(1, 85, 1299)"
   ]
  },
  {
   "cell_type": "code",
   "execution_count": 254,
   "metadata": {},
   "outputs": [
    {
     "data": {
      "text/plain": [
       "array([[[  0.,   2.,  -2., ...,  13., -31.,  -1.],\n",
       "        [  0., -14.,   0., ..., -30.,   5.,   0.],\n",
       "        [  0.,  -1.,   0., ...,   0.,  18.,   0.],\n",
       "        ...,\n",
       "        [ 32.,  76.,   1., ...,   9.,  15.,  54.],\n",
       "        [-37., -82.,  32., ..., -29., -19., -54.],\n",
       "        [ 16., 103., -33., ...,   0.,  -5.,   0.]]])"
      ]
     },
     "execution_count": 254,
     "metadata": {},
     "output_type": "execute_result"
    }
   ],
   "source": [
    "input_arr2"
   ]
  },
  {
   "cell_type": "code",
   "execution_count": null,
   "metadata": {},
   "outputs": [],
   "source": []
  },
  {
   "cell_type": "markdown",
   "metadata": {},
   "source": [
    "#### Create targets"
   ]
  },
  {
   "cell_type": "code",
   "execution_count": 64,
   "metadata": {},
   "outputs": [],
   "source": [
    "students = stvl_piv2.columns.tolist()"
   ]
  },
  {
   "cell_type": "code",
   "execution_count": 106,
   "metadata": {},
   "outputs": [],
   "source": [
    "final_results = np.empty(shape=(len(students),))"
   ]
  },
  {
   "cell_type": "code",
   "execution_count": 107,
   "metadata": {},
   "outputs": [],
   "source": [
    "for i, stu in enumerate(students):\n",
    "    if stu_info[stu_info.id_student == stu]['final_result'].values[0] == 'Fail' or stu_info[stu_info.id_student == stu]['final_result'].values[0] == 'Withdrawn':\n",
    "        final_results[i] = 0\n",
    "    else:\n",
    "        final_results[i] = 1"
   ]
  },
  {
   "cell_type": "code",
   "execution_count": 108,
   "metadata": {},
   "outputs": [
    {
     "data": {
      "text/plain": [
       "array([0., 1., 1., ..., 1., 1., 0.])"
      ]
     },
     "execution_count": 108,
     "metadata": {},
     "output_type": "execute_result"
    }
   ],
   "source": [
    "final_results"
   ]
  },
  {
   "cell_type": "markdown",
   "metadata": {},
   "source": [
    "### Add classes - RF CONT"
   ]
  },
  {
   "cell_type": "code",
   "execution_count": 34,
   "metadata": {},
   "outputs": [],
   "source": [
    "stvl_piv['final_result'] = stvl_piv.index.map(stu_info.set_index('id_student')['final_result'])"
   ]
  },
  {
   "cell_type": "code",
   "execution_count": 35,
   "metadata": {},
   "outputs": [],
   "source": [
    "stvl_piv.final_result.replace(to_replace=dict(Pass=1, Distinction=1, Fail=0, Withdrawn=0), inplace=True)"
   ]
  },
  {
   "cell_type": "code",
   "execution_count": 36,
   "metadata": {},
   "outputs": [],
   "source": [
    "stvl_piv.fillna(0, inplace=True)"
   ]
  },
  {
   "cell_type": "code",
   "execution_count": 37,
   "metadata": {},
   "outputs": [
    {
     "data": {
      "text/html": [
       "<div>\n",
       "<style scoped>\n",
       "    .dataframe tbody tr th:only-of-type {\n",
       "        vertical-align: middle;\n",
       "    }\n",
       "\n",
       "    .dataframe tbody tr th {\n",
       "        vertical-align: top;\n",
       "    }\n",
       "\n",
       "    .dataframe thead th {\n",
       "        text-align: right;\n",
       "    }\n",
       "</style>\n",
       "<table border=\"1\" class=\"dataframe\">\n",
       "  <thead>\n",
       "    <tr style=\"text-align: right;\">\n",
       "      <th>date</th>\n",
       "      <th>-18</th>\n",
       "      <th>-17</th>\n",
       "      <th>-16</th>\n",
       "      <th>-15</th>\n",
       "      <th>-14</th>\n",
       "      <th>-13</th>\n",
       "      <th>-12</th>\n",
       "      <th>-11</th>\n",
       "      <th>-10</th>\n",
       "      <th>-9</th>\n",
       "      <th>...</th>\n",
       "      <th>59</th>\n",
       "      <th>60</th>\n",
       "      <th>61</th>\n",
       "      <th>62</th>\n",
       "      <th>63</th>\n",
       "      <th>64</th>\n",
       "      <th>65</th>\n",
       "      <th>66</th>\n",
       "      <th>67</th>\n",
       "      <th>final_result</th>\n",
       "    </tr>\n",
       "    <tr>\n",
       "      <th>id_student</th>\n",
       "      <th></th>\n",
       "      <th></th>\n",
       "      <th></th>\n",
       "      <th></th>\n",
       "      <th></th>\n",
       "      <th></th>\n",
       "      <th></th>\n",
       "      <th></th>\n",
       "      <th></th>\n",
       "      <th></th>\n",
       "      <th></th>\n",
       "      <th></th>\n",
       "      <th></th>\n",
       "      <th></th>\n",
       "      <th></th>\n",
       "      <th></th>\n",
       "      <th></th>\n",
       "      <th></th>\n",
       "      <th></th>\n",
       "      <th></th>\n",
       "      <th></th>\n",
       "    </tr>\n",
       "  </thead>\n",
       "  <tbody>\n",
       "    <tr>\n",
       "      <th>28418</th>\n",
       "      <td>0.0</td>\n",
       "      <td>0.0</td>\n",
       "      <td>0.0</td>\n",
       "      <td>0.0</td>\n",
       "      <td>0.0</td>\n",
       "      <td>0.0</td>\n",
       "      <td>0.0</td>\n",
       "      <td>0.0</td>\n",
       "      <td>0.0</td>\n",
       "      <td>0.0</td>\n",
       "      <td>...</td>\n",
       "      <td>0.0</td>\n",
       "      <td>0.0</td>\n",
       "      <td>0.0</td>\n",
       "      <td>0.0</td>\n",
       "      <td>0.0</td>\n",
       "      <td>5.0</td>\n",
       "      <td>37.0</td>\n",
       "      <td>0.0</td>\n",
       "      <td>16.0</td>\n",
       "      <td>0</td>\n",
       "    </tr>\n",
       "    <tr>\n",
       "      <th>29764</th>\n",
       "      <td>13.0</td>\n",
       "      <td>15.0</td>\n",
       "      <td>1.0</td>\n",
       "      <td>0.0</td>\n",
       "      <td>0.0</td>\n",
       "      <td>0.0</td>\n",
       "      <td>0.0</td>\n",
       "      <td>0.0</td>\n",
       "      <td>0.0</td>\n",
       "      <td>0.0</td>\n",
       "      <td>...</td>\n",
       "      <td>44.0</td>\n",
       "      <td>9.0</td>\n",
       "      <td>5.0</td>\n",
       "      <td>30.0</td>\n",
       "      <td>0.0</td>\n",
       "      <td>6.0</td>\n",
       "      <td>82.0</td>\n",
       "      <td>0.0</td>\n",
       "      <td>103.0</td>\n",
       "      <td>1</td>\n",
       "    </tr>\n",
       "    <tr>\n",
       "      <th>29820</th>\n",
       "      <td>2.0</td>\n",
       "      <td>0.0</td>\n",
       "      <td>0.0</td>\n",
       "      <td>0.0</td>\n",
       "      <td>0.0</td>\n",
       "      <td>0.0</td>\n",
       "      <td>0.0</td>\n",
       "      <td>0.0</td>\n",
       "      <td>0.0</td>\n",
       "      <td>0.0</td>\n",
       "      <td>...</td>\n",
       "      <td>0.0</td>\n",
       "      <td>0.0</td>\n",
       "      <td>0.0</td>\n",
       "      <td>0.0</td>\n",
       "      <td>124.0</td>\n",
       "      <td>0.0</td>\n",
       "      <td>1.0</td>\n",
       "      <td>33.0</td>\n",
       "      <td>0.0</td>\n",
       "      <td>1</td>\n",
       "    </tr>\n",
       "    <tr>\n",
       "      <th>40604</th>\n",
       "      <td>0.0</td>\n",
       "      <td>0.0</td>\n",
       "      <td>4.0</td>\n",
       "      <td>9.0</td>\n",
       "      <td>0.0</td>\n",
       "      <td>0.0</td>\n",
       "      <td>9.0</td>\n",
       "      <td>0.0</td>\n",
       "      <td>24.0</td>\n",
       "      <td>10.0</td>\n",
       "      <td>...</td>\n",
       "      <td>0.0</td>\n",
       "      <td>0.0</td>\n",
       "      <td>0.0</td>\n",
       "      <td>0.0</td>\n",
       "      <td>0.0</td>\n",
       "      <td>0.0</td>\n",
       "      <td>0.0</td>\n",
       "      <td>29.0</td>\n",
       "      <td>89.0</td>\n",
       "      <td>1</td>\n",
       "    </tr>\n",
       "    <tr>\n",
       "      <th>42638</th>\n",
       "      <td>20.0</td>\n",
       "      <td>22.0</td>\n",
       "      <td>7.0</td>\n",
       "      <td>9.0</td>\n",
       "      <td>0.0</td>\n",
       "      <td>5.0</td>\n",
       "      <td>0.0</td>\n",
       "      <td>5.0</td>\n",
       "      <td>2.0</td>\n",
       "      <td>3.0</td>\n",
       "      <td>...</td>\n",
       "      <td>32.0</td>\n",
       "      <td>68.0</td>\n",
       "      <td>37.0</td>\n",
       "      <td>36.0</td>\n",
       "      <td>41.0</td>\n",
       "      <td>6.0</td>\n",
       "      <td>21.0</td>\n",
       "      <td>29.0</td>\n",
       "      <td>14.0</td>\n",
       "      <td>1</td>\n",
       "    </tr>\n",
       "  </tbody>\n",
       "</table>\n",
       "<p>5 rows × 87 columns</p>\n",
       "</div>"
      ],
      "text/plain": [
       "date         -18   -17  -16  -15  -14  -13  -12  -11   -10    -9  ...    59  \\\n",
       "id_student                                                        ...         \n",
       "28418        0.0   0.0  0.0  0.0  0.0  0.0  0.0  0.0   0.0   0.0  ...   0.0   \n",
       "29764       13.0  15.0  1.0  0.0  0.0  0.0  0.0  0.0   0.0   0.0  ...  44.0   \n",
       "29820        2.0   0.0  0.0  0.0  0.0  0.0  0.0  0.0   0.0   0.0  ...   0.0   \n",
       "40604        0.0   0.0  4.0  9.0  0.0  0.0  9.0  0.0  24.0  10.0  ...   0.0   \n",
       "42638       20.0  22.0  7.0  9.0  0.0  5.0  0.0  5.0   2.0   3.0  ...  32.0   \n",
       "\n",
       "date          60    61    62     63   64    65    66     67  final_result  \n",
       "id_student                                                                 \n",
       "28418        0.0   0.0   0.0    0.0  5.0  37.0   0.0   16.0             0  \n",
       "29764        9.0   5.0  30.0    0.0  6.0  82.0   0.0  103.0             1  \n",
       "29820        0.0   0.0   0.0  124.0  0.0   1.0  33.0    0.0             1  \n",
       "40604        0.0   0.0   0.0    0.0  0.0   0.0  29.0   89.0             1  \n",
       "42638       68.0  37.0  36.0   41.0  6.0  21.0  29.0   14.0             1  \n",
       "\n",
       "[5 rows x 87 columns]"
      ]
     },
     "execution_count": 37,
     "metadata": {},
     "output_type": "execute_result"
    }
   ],
   "source": [
    "stvl_piv.head()"
   ]
  },
  {
   "cell_type": "code",
   "execution_count": null,
   "metadata": {},
   "outputs": [],
   "source": []
  },
  {
   "cell_type": "markdown",
   "metadata": {},
   "source": [
    "### Convert to diffs"
   ]
  },
  {
   "cell_type": "code",
   "execution_count": 38,
   "metadata": {},
   "outputs": [],
   "source": [
    "stvl_dif = stvl_piv.diff(axis=1)"
   ]
  },
  {
   "cell_type": "code",
   "execution_count": 39,
   "metadata": {},
   "outputs": [],
   "source": [
    "stvl_dif.drop(-18, axis=1, inplace=True) #drop first column which becomes all NaNs after diff"
   ]
  },
  {
   "cell_type": "markdown",
   "metadata": {},
   "source": [
    "Oops, gotta put final result class back in. The diff did away with it"
   ]
  },
  {
   "cell_type": "code",
   "execution_count": 40,
   "metadata": {},
   "outputs": [],
   "source": [
    "stvl_dif['final_result'] = stvl_dif.index.map(stu_info.set_index('id_student')['final_result'])"
   ]
  },
  {
   "cell_type": "code",
   "execution_count": 41,
   "metadata": {},
   "outputs": [],
   "source": [
    "stvl_dif.final_result.replace(to_replace=dict(Pass=1, Distinction=1, Fail=0, Withdrawn=0), inplace=True)"
   ]
  },
  {
   "cell_type": "code",
   "execution_count": 42,
   "metadata": {},
   "outputs": [
    {
     "data": {
      "text/html": [
       "<div>\n",
       "<style scoped>\n",
       "    .dataframe tbody tr th:only-of-type {\n",
       "        vertical-align: middle;\n",
       "    }\n",
       "\n",
       "    .dataframe tbody tr th {\n",
       "        vertical-align: top;\n",
       "    }\n",
       "\n",
       "    .dataframe thead th {\n",
       "        text-align: right;\n",
       "    }\n",
       "</style>\n",
       "<table border=\"1\" class=\"dataframe\">\n",
       "  <thead>\n",
       "    <tr style=\"text-align: right;\">\n",
       "      <th>date</th>\n",
       "      <th>-17</th>\n",
       "      <th>-16</th>\n",
       "      <th>-15</th>\n",
       "      <th>-14</th>\n",
       "      <th>-13</th>\n",
       "      <th>-12</th>\n",
       "      <th>-11</th>\n",
       "      <th>-10</th>\n",
       "      <th>-9</th>\n",
       "      <th>-8</th>\n",
       "      <th>...</th>\n",
       "      <th>59</th>\n",
       "      <th>60</th>\n",
       "      <th>61</th>\n",
       "      <th>62</th>\n",
       "      <th>63</th>\n",
       "      <th>64</th>\n",
       "      <th>65</th>\n",
       "      <th>66</th>\n",
       "      <th>67</th>\n",
       "      <th>final_result</th>\n",
       "    </tr>\n",
       "    <tr>\n",
       "      <th>id_student</th>\n",
       "      <th></th>\n",
       "      <th></th>\n",
       "      <th></th>\n",
       "      <th></th>\n",
       "      <th></th>\n",
       "      <th></th>\n",
       "      <th></th>\n",
       "      <th></th>\n",
       "      <th></th>\n",
       "      <th></th>\n",
       "      <th></th>\n",
       "      <th></th>\n",
       "      <th></th>\n",
       "      <th></th>\n",
       "      <th></th>\n",
       "      <th></th>\n",
       "      <th></th>\n",
       "      <th></th>\n",
       "      <th></th>\n",
       "      <th></th>\n",
       "      <th></th>\n",
       "    </tr>\n",
       "  </thead>\n",
       "  <tbody>\n",
       "    <tr>\n",
       "      <th>28418</th>\n",
       "      <td>0.0</td>\n",
       "      <td>0.0</td>\n",
       "      <td>0.0</td>\n",
       "      <td>0.0</td>\n",
       "      <td>0.0</td>\n",
       "      <td>0.0</td>\n",
       "      <td>0.0</td>\n",
       "      <td>0.0</td>\n",
       "      <td>0.0</td>\n",
       "      <td>0.0</td>\n",
       "      <td>...</td>\n",
       "      <td>0.0</td>\n",
       "      <td>0.0</td>\n",
       "      <td>0.0</td>\n",
       "      <td>0.0</td>\n",
       "      <td>0.0</td>\n",
       "      <td>5.0</td>\n",
       "      <td>32.0</td>\n",
       "      <td>-37.0</td>\n",
       "      <td>16.0</td>\n",
       "      <td>0</td>\n",
       "    </tr>\n",
       "    <tr>\n",
       "      <th>29764</th>\n",
       "      <td>2.0</td>\n",
       "      <td>-14.0</td>\n",
       "      <td>-1.0</td>\n",
       "      <td>0.0</td>\n",
       "      <td>0.0</td>\n",
       "      <td>0.0</td>\n",
       "      <td>0.0</td>\n",
       "      <td>0.0</td>\n",
       "      <td>0.0</td>\n",
       "      <td>0.0</td>\n",
       "      <td>...</td>\n",
       "      <td>44.0</td>\n",
       "      <td>-35.0</td>\n",
       "      <td>-4.0</td>\n",
       "      <td>25.0</td>\n",
       "      <td>-30.0</td>\n",
       "      <td>6.0</td>\n",
       "      <td>76.0</td>\n",
       "      <td>-82.0</td>\n",
       "      <td>103.0</td>\n",
       "      <td>1</td>\n",
       "    </tr>\n",
       "    <tr>\n",
       "      <th>29820</th>\n",
       "      <td>-2.0</td>\n",
       "      <td>0.0</td>\n",
       "      <td>0.0</td>\n",
       "      <td>0.0</td>\n",
       "      <td>0.0</td>\n",
       "      <td>0.0</td>\n",
       "      <td>0.0</td>\n",
       "      <td>0.0</td>\n",
       "      <td>0.0</td>\n",
       "      <td>0.0</td>\n",
       "      <td>...</td>\n",
       "      <td>0.0</td>\n",
       "      <td>0.0</td>\n",
       "      <td>0.0</td>\n",
       "      <td>0.0</td>\n",
       "      <td>124.0</td>\n",
       "      <td>-124.0</td>\n",
       "      <td>1.0</td>\n",
       "      <td>32.0</td>\n",
       "      <td>-33.0</td>\n",
       "      <td>1</td>\n",
       "    </tr>\n",
       "    <tr>\n",
       "      <th>40604</th>\n",
       "      <td>0.0</td>\n",
       "      <td>4.0</td>\n",
       "      <td>5.0</td>\n",
       "      <td>-9.0</td>\n",
       "      <td>0.0</td>\n",
       "      <td>9.0</td>\n",
       "      <td>-9.0</td>\n",
       "      <td>24.0</td>\n",
       "      <td>-14.0</td>\n",
       "      <td>-3.0</td>\n",
       "      <td>...</td>\n",
       "      <td>0.0</td>\n",
       "      <td>0.0</td>\n",
       "      <td>0.0</td>\n",
       "      <td>0.0</td>\n",
       "      <td>0.0</td>\n",
       "      <td>0.0</td>\n",
       "      <td>0.0</td>\n",
       "      <td>29.0</td>\n",
       "      <td>60.0</td>\n",
       "      <td>1</td>\n",
       "    </tr>\n",
       "    <tr>\n",
       "      <th>42638</th>\n",
       "      <td>2.0</td>\n",
       "      <td>-15.0</td>\n",
       "      <td>2.0</td>\n",
       "      <td>-9.0</td>\n",
       "      <td>5.0</td>\n",
       "      <td>-5.0</td>\n",
       "      <td>5.0</td>\n",
       "      <td>-3.0</td>\n",
       "      <td>1.0</td>\n",
       "      <td>-3.0</td>\n",
       "      <td>...</td>\n",
       "      <td>27.0</td>\n",
       "      <td>36.0</td>\n",
       "      <td>-31.0</td>\n",
       "      <td>-1.0</td>\n",
       "      <td>5.0</td>\n",
       "      <td>-35.0</td>\n",
       "      <td>15.0</td>\n",
       "      <td>8.0</td>\n",
       "      <td>-15.0</td>\n",
       "      <td>1</td>\n",
       "    </tr>\n",
       "  </tbody>\n",
       "</table>\n",
       "<p>5 rows × 86 columns</p>\n",
       "</div>"
      ],
      "text/plain": [
       "date        -17   -16  -15  -14  -13  -12  -11   -10    -9   -8  ...    59  \\\n",
       "id_student                                                       ...         \n",
       "28418       0.0   0.0  0.0  0.0  0.0  0.0  0.0   0.0   0.0  0.0  ...   0.0   \n",
       "29764       2.0 -14.0 -1.0  0.0  0.0  0.0  0.0   0.0   0.0  0.0  ...  44.0   \n",
       "29820      -2.0   0.0  0.0  0.0  0.0  0.0  0.0   0.0   0.0  0.0  ...   0.0   \n",
       "40604       0.0   4.0  5.0 -9.0  0.0  9.0 -9.0  24.0 -14.0 -3.0  ...   0.0   \n",
       "42638       2.0 -15.0  2.0 -9.0  5.0 -5.0  5.0  -3.0   1.0 -3.0  ...  27.0   \n",
       "\n",
       "date          60    61    62     63     64    65    66     67  final_result  \n",
       "id_student                                                                   \n",
       "28418        0.0   0.0   0.0    0.0    5.0  32.0 -37.0   16.0             0  \n",
       "29764      -35.0  -4.0  25.0  -30.0    6.0  76.0 -82.0  103.0             1  \n",
       "29820        0.0   0.0   0.0  124.0 -124.0   1.0  32.0  -33.0             1  \n",
       "40604        0.0   0.0   0.0    0.0    0.0   0.0  29.0   60.0             1  \n",
       "42638       36.0 -31.0  -1.0    5.0  -35.0  15.0   8.0  -15.0             1  \n",
       "\n",
       "[5 rows x 86 columns]"
      ]
     },
     "execution_count": 42,
     "metadata": {},
     "output_type": "execute_result"
    }
   ],
   "source": [
    "stvl_dif.head()"
   ]
  },
  {
   "cell_type": "markdown",
   "metadata": {},
   "source": [
    "### Convert to array"
   ]
  },
  {
   "cell_type": "code",
   "execution_count": 148,
   "metadata": {},
   "outputs": [],
   "source": [
    "y_in = stvl_dif['final_result'].values"
   ]
  },
  {
   "cell_type": "code",
   "execution_count": 188,
   "metadata": {},
   "outputs": [],
   "source": [
    "stvl_arr1 = stvl_dif.drop(['final_result'], axis=1).values"
   ]
  },
  {
   "cell_type": "code",
   "execution_count": 215,
   "metadata": {},
   "outputs": [
    {
     "data": {
      "text/plain": [
       "array([[  0.,   0.,   0., ...,  32., -37.,  16.],\n",
       "       [  2., -14.,  -1., ...,  76., -82., 103.],\n",
       "       [ -2.,   0.,   0., ...,   1.,  32., -33.],\n",
       "       ...,\n",
       "       [ 13., -30.,   0., ...,   9., -29.,   0.],\n",
       "       [-31.,   5.,  18., ...,  15., -19.,  -5.],\n",
       "       [ -1.,   0.,   0., ...,  54., -54.,   0.]])"
      ]
     },
     "execution_count": 215,
     "metadata": {},
     "output_type": "execute_result"
    }
   ],
   "source": [
    "stvl_arr1"
   ]
  },
  {
   "cell_type": "code",
   "execution_count": 216,
   "metadata": {},
   "outputs": [
    {
     "data": {
      "text/plain": [
       "(1299, 85)"
      ]
     },
     "execution_count": 216,
     "metadata": {},
     "output_type": "execute_result"
    }
   ],
   "source": [
    "stvl_arr1.shape"
   ]
  },
  {
   "cell_type": "code",
   "execution_count": null,
   "metadata": {},
   "outputs": [],
   "source": []
  },
  {
   "cell_type": "code",
   "execution_count": 264,
   "metadata": {},
   "outputs": [],
   "source": [
    "#input_arr1 = stvl_arr1.reshape(1, 1299, 85)\n",
    "#input_arr1 = stvl_arr1.reshape(1299, 1, 85) \n",
    "# input_arr1 = stvl_arr1.reshape(1, 1299, 85)\n",
    "input_arr1 = stvl_arr1.reshape(1299, 85, 1) "
   ]
  },
  {
   "cell_type": "code",
   "execution_count": 265,
   "metadata": {},
   "outputs": [
    {
     "data": {
      "text/plain": [
       "array([[[  0.],\n",
       "        [  0.],\n",
       "        [  0.],\n",
       "        ...,\n",
       "        [ 32.],\n",
       "        [-37.],\n",
       "        [ 16.]],\n",
       "\n",
       "       [[  2.],\n",
       "        [-14.],\n",
       "        [ -1.],\n",
       "        ...,\n",
       "        [ 76.],\n",
       "        [-82.],\n",
       "        [103.]],\n",
       "\n",
       "       [[ -2.],\n",
       "        [  0.],\n",
       "        [  0.],\n",
       "        ...,\n",
       "        [  1.],\n",
       "        [ 32.],\n",
       "        [-33.]],\n",
       "\n",
       "       ...,\n",
       "\n",
       "       [[ 13.],\n",
       "        [-30.],\n",
       "        [  0.],\n",
       "        ...,\n",
       "        [  9.],\n",
       "        [-29.],\n",
       "        [  0.]],\n",
       "\n",
       "       [[-31.],\n",
       "        [  5.],\n",
       "        [ 18.],\n",
       "        ...,\n",
       "        [ 15.],\n",
       "        [-19.],\n",
       "        [ -5.]],\n",
       "\n",
       "       [[ -1.],\n",
       "        [  0.],\n",
       "        [  0.],\n",
       "        ...,\n",
       "        [ 54.],\n",
       "        [-54.],\n",
       "        [  0.]]])"
      ]
     },
     "execution_count": 265,
     "metadata": {},
     "output_type": "execute_result"
    }
   ],
   "source": [
    "input_arr1"
   ]
  },
  {
   "cell_type": "code",
   "execution_count": 266,
   "metadata": {},
   "outputs": [
    {
     "data": {
      "text/plain": [
       "(1299, 85, 1)"
      ]
     },
     "execution_count": 266,
     "metadata": {},
     "output_type": "execute_result"
    }
   ],
   "source": [
    "input_arr1.shape"
   ]
  },
  {
   "cell_type": "markdown",
   "metadata": {},
   "source": [
    "# Random Forest run"
   ]
  },
  {
   "cell_type": "code",
   "execution_count": 43,
   "metadata": {},
   "outputs": [],
   "source": [
    "from sklearn.model_selection import train_test_split\n",
    "from sklearn.ensemble import RandomForestClassifier"
   ]
  },
  {
   "cell_type": "code",
   "execution_count": 44,
   "metadata": {},
   "outputs": [],
   "source": [
    "X = stvl_dif.drop(['final_result'], axis=1).values"
   ]
  },
  {
   "cell_type": "code",
   "execution_count": 45,
   "metadata": {},
   "outputs": [],
   "source": [
    "y = stvl_dif['final_result'].values"
   ]
  },
  {
   "cell_type": "code",
   "execution_count": 46,
   "metadata": {},
   "outputs": [],
   "source": [
    "X_train, X_test, y_train, y_test = train_test_split(X, y, random_state=21)"
   ]
  },
  {
   "cell_type": "code",
   "execution_count": 47,
   "metadata": {},
   "outputs": [
    {
     "data": {
      "text/plain": [
       "RandomForestClassifier(bootstrap=True, class_weight=None, criterion='gini',\n",
       "                       max_depth=3, max_features='auto', max_leaf_nodes=None,\n",
       "                       min_impurity_decrease=0.0, min_impurity_split=None,\n",
       "                       min_samples_leaf=1, min_samples_split=2,\n",
       "                       min_weight_fraction_leaf=0.0, n_estimators=50,\n",
       "                       n_jobs=None, oob_score=False, random_state=21, verbose=0,\n",
       "                       warm_start=False)"
      ]
     },
     "execution_count": 47,
     "metadata": {},
     "output_type": "execute_result"
    }
   ],
   "source": [
    "rf_clf = RandomForestClassifier(n_estimators = 50, \n",
    "                                max_depth    =  3,\n",
    "                                random_state = 21)\n",
    "rf_clf.fit(X_train, y_train)"
   ]
  },
  {
   "cell_type": "code",
   "execution_count": 48,
   "metadata": {},
   "outputs": [
    {
     "data": {
      "text/plain": [
       "0.6984615384615385"
      ]
     },
     "execution_count": 48,
     "metadata": {},
     "output_type": "execute_result"
    }
   ],
   "source": [
    "rf_clf.score(X_test, y_test)"
   ]
  },
  {
   "cell_type": "markdown",
   "metadata": {},
   "source": [
    "# LSTM run"
   ]
  },
  {
   "cell_type": "code",
   "execution_count": 119,
   "metadata": {},
   "outputs": [
    {
     "name": "stderr",
     "output_type": "stream",
     "text": [
      "Using TensorFlow backend.\n"
     ]
    }
   ],
   "source": [
    "from keras.preprocessing import sequence\n",
    "import tensorflow as tf\n",
    "from keras.models import Sequential\n",
    "from keras.layers import Dense\n",
    "from keras.layers import LSTM\n",
    "\n",
    "from keras.optimizers import Adam\n",
    "from keras.models import load_model\n",
    "from keras.callbacks import ModelCheckpoint"
   ]
  },
  {
   "cell_type": "code",
   "execution_count": 267,
   "metadata": {},
   "outputs": [],
   "source": [
    "X_tr, X_te, y_tr, y_te = train_test_split(input_arr1, y_in, random_state=21)"
   ]
  },
  {
   "cell_type": "code",
   "execution_count": 268,
   "metadata": {},
   "outputs": [],
   "source": [
    "model = Sequential()\n",
    "model.add(LSTM(128, input_shape=(85, 1)))\n",
    "model.add(Dense(1, activation='sigmoid'))"
   ]
  },
  {
   "cell_type": "code",
   "execution_count": 269,
   "metadata": {},
   "outputs": [
    {
     "name": "stdout",
     "output_type": "stream",
     "text": [
      "_________________________________________________________________\n",
      "Layer (type)                 Output Shape              Param #   \n",
      "=================================================================\n",
      "lstm_9 (LSTM)                (None, 128)               66560     \n",
      "_________________________________________________________________\n",
      "dense_9 (Dense)              (None, 1)                 129       \n",
      "=================================================================\n",
      "Total params: 66,689\n",
      "Trainable params: 66,689\n",
      "Non-trainable params: 0\n",
      "_________________________________________________________________\n"
     ]
    }
   ],
   "source": [
    "model.summary()"
   ]
  },
  {
   "cell_type": "code",
   "execution_count": 270,
   "metadata": {},
   "outputs": [
    {
     "name": "stdout",
     "output_type": "stream",
     "text": [
      "Epoch 1/10\n",
      "974/974 [==============================] - 5s 5ms/step - loss: 0.6620 - acc: 0.6540\n",
      "Epoch 2/10\n",
      "974/974 [==============================] - 2s 2ms/step - loss: 0.6435 - acc: 0.6889\n",
      "Epoch 3/10\n",
      "974/974 [==============================] - 2s 2ms/step - loss: 0.5953 - acc: 0.7033\n",
      "Epoch 4/10\n",
      "974/974 [==============================] - 2s 2ms/step - loss: 0.5688 - acc: 0.7043\n",
      "Epoch 5/10\n",
      "974/974 [==============================] - 2s 2ms/step - loss: 0.5480 - acc: 0.7115\n",
      "Epoch 6/10\n",
      "974/974 [==============================] - 2s 2ms/step - loss: 0.5432 - acc: 0.7074\n",
      "Epoch 7/10\n",
      "974/974 [==============================] - 2s 2ms/step - loss: 0.5424 - acc: 0.7115\n",
      "Epoch 8/10\n",
      "974/974 [==============================] - 2s 2ms/step - loss: 0.5339 - acc: 0.7248\n",
      "Epoch 9/10\n",
      "974/974 [==============================] - 2s 2ms/step - loss: 0.5353 - acc: 0.7310\n",
      "Epoch 10/10\n",
      "974/974 [==============================] - 2s 2ms/step - loss: 0.5317 - acc: 0.7248\n"
     ]
    },
    {
     "data": {
      "text/plain": [
       "<keras.callbacks.History at 0x1a5ac7fb38>"
      ]
     },
     "execution_count": 270,
     "metadata": {},
     "output_type": "execute_result"
    }
   ],
   "source": [
    "adam = Adam(lr=0.001)\n",
    "chk = ModelCheckpoint('best_model.pkl', monitor='val_acc', save_best_only=True, mode='max', verbose=1)\n",
    "model.compile(loss='binary_crossentropy', optimizer=adam, metrics=['accuracy'])\n",
    "model.fit(X_tr, y_tr, epochs=10, batch_size=128, callbacks=[chk])"
   ]
  },
  {
   "cell_type": "code",
   "execution_count": 271,
   "metadata": {},
   "outputs": [
    {
     "data": {
      "text/plain": [
       "0.7230769230769231"
      ]
     },
     "execution_count": 271,
     "metadata": {},
     "output_type": "execute_result"
    }
   ],
   "source": [
    "from sklearn.metrics import accuracy_score\n",
    "test_preds = model.predict_classes(X_te)\n",
    "accuracy_score(y_te, test_preds)"
   ]
  },
  {
   "cell_type": "code",
   "execution_count": 278,
   "metadata": {},
   "outputs": [
    {
     "name": "stdout",
     "output_type": "stream",
     "text": [
      "_________________________________________________________________\n",
      "Layer (type)                 Output Shape              Param #   \n",
      "=================================================================\n",
      "lstm_12 (LSTM)               (None, 32)                4352      \n",
      "_________________________________________________________________\n",
      "dense_12 (Dense)             (None, 1)                 33        \n",
      "=================================================================\n",
      "Total params: 4,385\n",
      "Trainable params: 4,385\n",
      "Non-trainable params: 0\n",
      "_________________________________________________________________\n"
     ]
    }
   ],
   "source": [
    "model2 = Sequential()\n",
    "model2.add(LSTM(32, input_shape=(85, 1)))\n",
    "model2.add(Dense(1, activation='sigmoid'))\n",
    "model2.summary()"
   ]
  },
  {
   "cell_type": "code",
   "execution_count": 281,
   "metadata": {},
   "outputs": [
    {
     "name": "stdout",
     "output_type": "stream",
     "text": [
      "Epoch 1/200\n",
      "974/974 [==============================] - 4s 4ms/step - loss: 0.5318 - acc: 0.7228\n",
      "Epoch 2/200\n",
      "974/974 [==============================] - 0s 408us/step - loss: 0.5313 - acc: 0.7228\n",
      "Epoch 3/200\n",
      "974/974 [==============================] - 0s 386us/step - loss: 0.5309 - acc: 0.7248\n",
      "Epoch 4/200\n",
      "974/974 [==============================] - 0s 402us/step - loss: 0.5303 - acc: 0.7248\n",
      "Epoch 5/200\n",
      "974/974 [==============================] - 0s 390us/step - loss: 0.5299 - acc: 0.7228\n",
      "Epoch 6/200\n",
      "974/974 [==============================] - 0s 382us/step - loss: 0.5294 - acc: 0.7248\n",
      "Epoch 7/200\n",
      "974/974 [==============================] - 0s 387us/step - loss: 0.5289 - acc: 0.7248\n",
      "Epoch 8/200\n",
      "974/974 [==============================] - 0s 380us/step - loss: 0.5285 - acc: 0.7238\n",
      "Epoch 9/200\n",
      "974/974 [==============================] - 0s 380us/step - loss: 0.5279 - acc: 0.7259\n",
      "Epoch 10/200\n",
      "974/974 [==============================] - 0s 387us/step - loss: 0.5274 - acc: 0.7279\n",
      "Epoch 11/200\n",
      "974/974 [==============================] - 0s 383us/step - loss: 0.5269 - acc: 0.7269\n",
      "Epoch 12/200\n",
      "974/974 [==============================] - 0s 390us/step - loss: 0.5264 - acc: 0.7238\n",
      "Epoch 13/200\n",
      "974/974 [==============================] - 0s 386us/step - loss: 0.5258 - acc: 0.7238\n",
      "Epoch 14/200\n",
      "974/974 [==============================] - 0s 386us/step - loss: 0.5253 - acc: 0.7238\n",
      "Epoch 15/200\n",
      "974/974 [==============================] - 0s 391us/step - loss: 0.5247 - acc: 0.7248\n",
      "Epoch 16/200\n",
      "974/974 [==============================] - 0s 385us/step - loss: 0.5241 - acc: 0.7290\n",
      "Epoch 17/200\n",
      "974/974 [==============================] - 0s 393us/step - loss: 0.5234 - acc: 0.7279\n",
      "Epoch 18/200\n",
      "974/974 [==============================] - 0s 394us/step - loss: 0.5228 - acc: 0.7248\n",
      "Epoch 19/200\n",
      "974/974 [==============================] - 0s 385us/step - loss: 0.5221 - acc: 0.7269\n",
      "Epoch 20/200\n",
      "974/974 [==============================] - 0s 388us/step - loss: 0.5214 - acc: 0.7259\n",
      "Epoch 21/200\n",
      "974/974 [==============================] - 0s 381us/step - loss: 0.5207 - acc: 0.7259\n",
      "Epoch 22/200\n",
      "974/974 [==============================] - 0s 374us/step - loss: 0.5200 - acc: 0.7269\n",
      "Epoch 23/200\n",
      "974/974 [==============================] - 0s 377us/step - loss: 0.5192 - acc: 0.7279\n",
      "Epoch 24/200\n",
      "974/974 [==============================] - 0s 363us/step - loss: 0.5183 - acc: 0.7310\n",
      "Epoch 25/200\n",
      "974/974 [==============================] - 0s 375us/step - loss: 0.5174 - acc: 0.7310\n",
      "Epoch 26/200\n",
      "974/974 [==============================] - 0s 407us/step - loss: 0.5165 - acc: 0.7300\n",
      "Epoch 27/200\n",
      "974/974 [==============================] - 0s 413us/step - loss: 0.5156 - acc: 0.7361\n",
      "Epoch 28/200\n",
      "974/974 [==============================] - 0s 439us/step - loss: 0.5147 - acc: 0.7372\n",
      "Epoch 29/200\n",
      "974/974 [==============================] - 0s 414us/step - loss: 0.5138 - acc: 0.7372\n",
      "Epoch 30/200\n",
      "974/974 [==============================] - 0s 401us/step - loss: 0.5129 - acc: 0.7382\n",
      "Epoch 31/200\n",
      "974/974 [==============================] - 0s 415us/step - loss: 0.5122 - acc: 0.7361\n",
      "Epoch 32/200\n",
      "974/974 [==============================] - 0s 406us/step - loss: 0.5115 - acc: 0.7444\n",
      "Epoch 33/200\n",
      "974/974 [==============================] - 0s 408us/step - loss: 0.5110 - acc: 0.7413\n",
      "Epoch 34/200\n",
      "974/974 [==============================] - 0s 399us/step - loss: 0.5103 - acc: 0.7464\n",
      "Epoch 35/200\n",
      "974/974 [==============================] - 0s 391us/step - loss: 0.5098 - acc: 0.7454\n",
      "Epoch 36/200\n",
      "974/974 [==============================] - 0s 396us/step - loss: 0.5094 - acc: 0.7433\n",
      "Epoch 37/200\n",
      "974/974 [==============================] - 0s 390us/step - loss: 0.5087 - acc: 0.7433\n",
      "Epoch 38/200\n",
      "974/974 [==============================] - 0s 398us/step - loss: 0.5080 - acc: 0.7423\n",
      "Epoch 39/200\n",
      "974/974 [==============================] - 0s 392us/step - loss: 0.5075 - acc: 0.7423\n",
      "Epoch 40/200\n",
      "974/974 [==============================] - 0s 389us/step - loss: 0.5068 - acc: 0.7423\n",
      "Epoch 41/200\n",
      "974/974 [==============================] - 0s 395us/step - loss: 0.5061 - acc: 0.7382\n",
      "Epoch 42/200\n",
      "974/974 [==============================] - 0s 391us/step - loss: 0.5054 - acc: 0.7402\n",
      "Epoch 43/200\n",
      "974/974 [==============================] - 0s 405us/step - loss: 0.5047 - acc: 0.7433\n",
      "Epoch 44/200\n",
      "974/974 [==============================] - 0s 391us/step - loss: 0.5040 - acc: 0.7413\n",
      "Epoch 45/200\n",
      "974/974 [==============================] - 0s 384us/step - loss: 0.5032 - acc: 0.7392\n",
      "Epoch 46/200\n",
      "974/974 [==============================] - 0s 403us/step - loss: 0.5025 - acc: 0.7413\n",
      "Epoch 47/200\n",
      "974/974 [==============================] - 0s 393us/step - loss: 0.5018 - acc: 0.7423\n",
      "Epoch 48/200\n",
      "974/974 [==============================] - 0s 396us/step - loss: 0.5013 - acc: 0.7454\n",
      "Epoch 49/200\n",
      "974/974 [==============================] - 0s 383us/step - loss: 0.5013 - acc: 0.7505\n",
      "Epoch 50/200\n",
      "974/974 [==============================] - 0s 388us/step - loss: 0.5009 - acc: 0.7495\n",
      "Epoch 51/200\n",
      "974/974 [==============================] - 0s 401us/step - loss: 0.4991 - acc: 0.7485\n",
      "Epoch 52/200\n",
      "974/974 [==============================] - 0s 397us/step - loss: 0.4993 - acc: 0.7505\n",
      "Epoch 53/200\n",
      "974/974 [==============================] - 0s 399us/step - loss: 0.4981 - acc: 0.7526\n",
      "Epoch 54/200\n",
      "974/974 [==============================] - 0s 410us/step - loss: 0.4977 - acc: 0.7536\n",
      "Epoch 55/200\n",
      "974/974 [==============================] - 0s 414us/step - loss: 0.4972 - acc: 0.7526\n",
      "Epoch 56/200\n",
      "974/974 [==============================] - 0s 383us/step - loss: 0.4962 - acc: 0.7526\n",
      "Epoch 57/200\n",
      "974/974 [==============================] - 0s 393us/step - loss: 0.4962 - acc: 0.7515\n",
      "Epoch 58/200\n",
      "974/974 [==============================] - 0s 391us/step - loss: 0.4950 - acc: 0.7536\n",
      "Epoch 59/200\n",
      "974/974 [==============================] - 0s 417us/step - loss: 0.4949 - acc: 0.7546\n",
      "Epoch 60/200\n",
      "974/974 [==============================] - 0s 400us/step - loss: 0.4939 - acc: 0.7546\n",
      "Epoch 61/200\n",
      "974/974 [==============================] - 0s 401us/step - loss: 0.4933 - acc: 0.7556\n",
      "Epoch 62/200\n",
      "974/974 [==============================] - 0s 403us/step - loss: 0.4930 - acc: 0.7546\n",
      "Epoch 63/200\n",
      "974/974 [==============================] - 0s 391us/step - loss: 0.4919 - acc: 0.7536\n",
      "Epoch 64/200\n",
      "974/974 [==============================] - 0s 439us/step - loss: 0.4916 - acc: 0.7567\n",
      "Epoch 65/200\n",
      "974/974 [==============================] - 0s 440us/step - loss: 0.4910 - acc: 0.7546\n",
      "Epoch 66/200\n",
      "974/974 [==============================] - 0s 391us/step - loss: 0.4900 - acc: 0.7577\n",
      "Epoch 67/200\n",
      "974/974 [==============================] - 0s 410us/step - loss: 0.4898 - acc: 0.7587\n",
      "Epoch 68/200\n",
      "974/974 [==============================] - 0s 391us/step - loss: 0.4892 - acc: 0.7546\n",
      "Epoch 69/200\n",
      "974/974 [==============================] - 0s 396us/step - loss: 0.4882 - acc: 0.7598\n",
      "Epoch 70/200\n",
      "974/974 [==============================] - 0s 394us/step - loss: 0.4878 - acc: 0.7618\n",
      "Epoch 71/200\n",
      "974/974 [==============================] - 0s 386us/step - loss: 0.4874 - acc: 0.7577\n",
      "Epoch 72/200\n",
      "974/974 [==============================] - 0s 394us/step - loss: 0.4865 - acc: 0.7618\n",
      "Epoch 73/200\n",
      "974/974 [==============================] - 0s 394us/step - loss: 0.4858 - acc: 0.7608\n",
      "Epoch 74/200\n",
      "974/974 [==============================] - 0s 407us/step - loss: 0.4854 - acc: 0.7587\n",
      "Epoch 75/200\n",
      "974/974 [==============================] - 0s 406us/step - loss: 0.4849 - acc: 0.7608\n",
      "Epoch 76/200\n",
      "974/974 [==============================] - 0s 409us/step - loss: 0.4840 - acc: 0.7598\n",
      "Epoch 77/200\n",
      "974/974 [==============================] - 0s 448us/step - loss: 0.4831 - acc: 0.7639\n",
      "Epoch 78/200\n",
      "974/974 [==============================] - 0s 389us/step - loss: 0.4824 - acc: 0.7639\n",
      "Epoch 79/200\n",
      "974/974 [==============================] - 0s 403us/step - loss: 0.4818 - acc: 0.7628\n",
      "Epoch 80/200\n",
      "974/974 [==============================] - 0s 393us/step - loss: 0.4818 - acc: 0.7639\n",
      "Epoch 81/200\n",
      "974/974 [==============================] - 0s 457us/step - loss: 0.4830 - acc: 0.7649\n",
      "Epoch 82/200\n",
      "974/974 [==============================] - 0s 477us/step - loss: 0.4842 - acc: 0.7587\n",
      "Epoch 83/200\n",
      "974/974 [==============================] - 1s 942us/step - loss: 0.4798 - acc: 0.7690\n"
     ]
    },
    {
     "name": "stdout",
     "output_type": "stream",
     "text": [
      "Epoch 84/200\n",
      "974/974 [==============================] - 1s 581us/step - loss: 0.4802 - acc: 0.7639\n",
      "Epoch 85/200\n",
      "974/974 [==============================] - 1s 541us/step - loss: 0.4802 - acc: 0.7639\n",
      "Epoch 86/200\n",
      "974/974 [==============================] - 0s 416us/step - loss: 0.4775 - acc: 0.7649\n",
      "Epoch 87/200\n",
      "974/974 [==============================] - 0s 417us/step - loss: 0.4792 - acc: 0.7690\n",
      "Epoch 88/200\n",
      "974/974 [==============================] - 0s 414us/step - loss: 0.4765 - acc: 0.7649\n",
      "Epoch 89/200\n",
      "974/974 [==============================] - 0s 413us/step - loss: 0.4773 - acc: 0.7649\n",
      "Epoch 90/200\n",
      "974/974 [==============================] - 0s 422us/step - loss: 0.4757 - acc: 0.7721\n",
      "Epoch 91/200\n",
      "974/974 [==============================] - 0s 406us/step - loss: 0.4756 - acc: 0.7731\n",
      "Epoch 92/200\n",
      "974/974 [==============================] - 0s 430us/step - loss: 0.4748 - acc: 0.7659\n",
      "Epoch 93/200\n",
      "974/974 [==============================] - 0s 411us/step - loss: 0.4736 - acc: 0.7669\n",
      "Epoch 94/200\n",
      "974/974 [==============================] - 0s 407us/step - loss: 0.4739 - acc: 0.7741\n",
      "Epoch 95/200\n",
      "974/974 [==============================] - 0s 403us/step - loss: 0.4718 - acc: 0.7680\n",
      "Epoch 96/200\n",
      "974/974 [==============================] - 0s 395us/step - loss: 0.4724 - acc: 0.7649\n",
      "Epoch 97/200\n",
      "974/974 [==============================] - 0s 407us/step - loss: 0.4715 - acc: 0.7741\n",
      "Epoch 98/200\n",
      "974/974 [==============================] - 0s 393us/step - loss: 0.4698 - acc: 0.7700\n",
      "Epoch 99/200\n",
      "974/974 [==============================] - 0s 397us/step - loss: 0.4704 - acc: 0.7608\n",
      "Epoch 100/200\n",
      "974/974 [==============================] - 0s 400us/step - loss: 0.4694 - acc: 0.7721\n",
      "Epoch 101/200\n",
      "974/974 [==============================] - 0s 406us/step - loss: 0.4678 - acc: 0.7690\n",
      "Epoch 102/200\n",
      "974/974 [==============================] - 0s 435us/step - loss: 0.4683 - acc: 0.7587\n",
      "Epoch 103/200\n",
      "974/974 [==============================] - 0s 396us/step - loss: 0.4678 - acc: 0.7721\n",
      "Epoch 104/200\n",
      "974/974 [==============================] - 0s 392us/step - loss: 0.4661 - acc: 0.7649\n",
      "Epoch 105/200\n",
      "974/974 [==============================] - 0s 416us/step - loss: 0.4652 - acc: 0.7659\n",
      "Epoch 106/200\n",
      "974/974 [==============================] - 0s 443us/step - loss: 0.4655 - acc: 0.7710\n",
      "Epoch 107/200\n",
      "974/974 [==============================] - 0s 414us/step - loss: 0.4659 - acc: 0.7577\n",
      "Epoch 108/200\n",
      "974/974 [==============================] - 0s 413us/step - loss: 0.4647 - acc: 0.7731\n",
      "Epoch 109/200\n",
      "974/974 [==============================] - 0s 408us/step - loss: 0.4639 - acc: 0.7618\n",
      "Epoch 110/200\n",
      "974/974 [==============================] - 0s 438us/step - loss: 0.4619 - acc: 0.7710\n",
      "Epoch 111/200\n",
      "974/974 [==============================] - 0s 420us/step - loss: 0.4622 - acc: 0.7721\n",
      "Epoch 112/200\n",
      "974/974 [==============================] - 0s 415us/step - loss: 0.4628 - acc: 0.7608\n",
      "Epoch 113/200\n",
      "974/974 [==============================] - 0s 402us/step - loss: 0.4609 - acc: 0.7721\n",
      "Epoch 114/200\n",
      "974/974 [==============================] - 0s 412us/step - loss: 0.4596 - acc: 0.7700\n",
      "Epoch 115/200\n",
      "974/974 [==============================] - 0s 393us/step - loss: 0.4597 - acc: 0.7659\n",
      "Epoch 116/200\n",
      "974/974 [==============================] - 0s 407us/step - loss: 0.4587 - acc: 0.7710\n",
      "Epoch 117/200\n",
      "974/974 [==============================] - 0s 402us/step - loss: 0.4577 - acc: 0.7721\n",
      "Epoch 118/200\n",
      "974/974 [==============================] - 0s 412us/step - loss: 0.4574 - acc: 0.7690\n",
      "Epoch 119/200\n",
      "974/974 [==============================] - 0s 418us/step - loss: 0.4568 - acc: 0.7721\n",
      "Epoch 120/200\n",
      "974/974 [==============================] - 0s 389us/step - loss: 0.4560 - acc: 0.7710\n",
      "Epoch 121/200\n",
      "974/974 [==============================] - 0s 392us/step - loss: 0.4551 - acc: 0.7710\n",
      "Epoch 122/200\n",
      "974/974 [==============================] - 0s 408us/step - loss: 0.4546 - acc: 0.7731\n",
      "Epoch 123/200\n",
      "974/974 [==============================] - 0s 414us/step - loss: 0.4544 - acc: 0.7741\n",
      "Epoch 124/200\n",
      "974/974 [==============================] - 0s 400us/step - loss: 0.4546 - acc: 0.7721\n",
      "Epoch 125/200\n",
      "974/974 [==============================] - 0s 399us/step - loss: 0.4591 - acc: 0.7669\n",
      "Epoch 126/200\n",
      "974/974 [==============================] - 0s 384us/step - loss: 0.4811 - acc: 0.7546\n",
      "Epoch 127/200\n",
      "974/974 [==============================] - 0s 390us/step - loss: 0.4526 - acc: 0.7752\n",
      "Epoch 128/200\n",
      "974/974 [==============================] - 0s 381us/step - loss: 0.4762 - acc: 0.7598\n",
      "Epoch 129/200\n",
      "974/974 [==============================] - 0s 411us/step - loss: 0.4568 - acc: 0.7762\n",
      "Epoch 130/200\n",
      "974/974 [==============================] - 0s 447us/step - loss: 0.4668 - acc: 0.7639\n",
      "Epoch 131/200\n",
      "974/974 [==============================] - 0s 407us/step - loss: 0.4561 - acc: 0.7762\n",
      "Epoch 132/200\n",
      "974/974 [==============================] - 0s 393us/step - loss: 0.4625 - acc: 0.7669\n",
      "Epoch 133/200\n",
      "974/974 [==============================] - 0s 406us/step - loss: 0.4558 - acc: 0.7700\n",
      "Epoch 134/200\n",
      "974/974 [==============================] - 0s 407us/step - loss: 0.4558 - acc: 0.7731\n",
      "Epoch 135/200\n",
      "974/974 [==============================] - 0s 421us/step - loss: 0.4577 - acc: 0.7731\n",
      "Epoch 136/200\n",
      "974/974 [==============================] - 0s 396us/step - loss: 0.4507 - acc: 0.7752\n",
      "Epoch 137/200\n",
      "974/974 [==============================] - 0s 403us/step - loss: 0.4568 - acc: 0.7762\n",
      "Epoch 138/200\n",
      "974/974 [==============================] - 0s 433us/step - loss: 0.4497 - acc: 0.7752\n",
      "Epoch 139/200\n",
      "974/974 [==============================] - 0s 420us/step - loss: 0.4552 - acc: 0.7772\n",
      "Epoch 140/200\n",
      "974/974 [==============================] - 0s 387us/step - loss: 0.4486 - acc: 0.7752\n",
      "Epoch 141/200\n",
      "974/974 [==============================] - 0s 397us/step - loss: 0.4517 - acc: 0.7772\n",
      "Epoch 142/200\n",
      "974/974 [==============================] - 0s 388us/step - loss: 0.4480 - acc: 0.7731\n",
      "Epoch 143/200\n",
      "974/974 [==============================] - 0s 394us/step - loss: 0.4493 - acc: 0.7782\n",
      "Epoch 144/200\n",
      "974/974 [==============================] - 0s 427us/step - loss: 0.4467 - acc: 0.7793\n",
      "Epoch 145/200\n",
      "974/974 [==============================] - 0s 398us/step - loss: 0.4475 - acc: 0.7772\n",
      "Epoch 146/200\n",
      "974/974 [==============================] - 0s 416us/step - loss: 0.4455 - acc: 0.7782\n",
      "Epoch 147/200\n",
      "974/974 [==============================] - 0s 414us/step - loss: 0.4463 - acc: 0.7782\n",
      "Epoch 148/200\n",
      "974/974 [==============================] - 0s 385us/step - loss: 0.4441 - acc: 0.7782\n",
      "Epoch 149/200\n",
      "974/974 [==============================] - 0s 383us/step - loss: 0.4451 - acc: 0.7793\n",
      "Epoch 150/200\n",
      "974/974 [==============================] - 0s 404us/step - loss: 0.4434 - acc: 0.7834\n",
      "Epoch 151/200\n",
      "974/974 [==============================] - 0s 391us/step - loss: 0.4434 - acc: 0.7793\n",
      "Epoch 152/200\n",
      "974/974 [==============================] - 0s 396us/step - loss: 0.4430 - acc: 0.7823\n",
      "Epoch 153/200\n",
      "974/974 [==============================] - 0s 400us/step - loss: 0.4420 - acc: 0.7823\n",
      "Epoch 154/200\n",
      "974/974 [==============================] - 0s 413us/step - loss: 0.4422 - acc: 0.7844\n",
      "Epoch 155/200\n",
      "974/974 [==============================] - 0s 441us/step - loss: 0.4409 - acc: 0.7844\n",
      "Epoch 156/200\n",
      "974/974 [==============================] - 0s 409us/step - loss: 0.4412 - acc: 0.7813\n",
      "Epoch 157/200\n",
      "974/974 [==============================] - 0s 394us/step - loss: 0.4401 - acc: 0.7854\n",
      "Epoch 158/200\n",
      "974/974 [==============================] - 0s 411us/step - loss: 0.4395 - acc: 0.7864\n",
      "Epoch 159/200\n",
      "974/974 [==============================] - 0s 406us/step - loss: 0.4397 - acc: 0.7854\n",
      "Epoch 160/200\n",
      "974/974 [==============================] - 0s 423us/step - loss: 0.4387 - acc: 0.7854\n",
      "Epoch 161/200\n",
      "974/974 [==============================] - 0s 410us/step - loss: 0.4382 - acc: 0.7854\n",
      "Epoch 162/200\n",
      "974/974 [==============================] - 0s 408us/step - loss: 0.4381 - acc: 0.7844\n",
      "Epoch 163/200\n",
      "974/974 [==============================] - 0s 406us/step - loss: 0.4372 - acc: 0.7885\n",
      "Epoch 164/200\n",
      "974/974 [==============================] - 0s 391us/step - loss: 0.4369 - acc: 0.7885\n",
      "Epoch 165/200\n",
      "974/974 [==============================] - 0s 408us/step - loss: 0.4368 - acc: 0.7885\n",
      "Epoch 166/200\n"
     ]
    },
    {
     "name": "stdout",
     "output_type": "stream",
     "text": [
      "974/974 [==============================] - 0s 401us/step - loss: 0.4360 - acc: 0.7885\n",
      "Epoch 167/200\n",
      "974/974 [==============================] - 0s 386us/step - loss: 0.4353 - acc: 0.7906\n",
      "Epoch 168/200\n",
      "974/974 [==============================] - 0s 391us/step - loss: 0.4350 - acc: 0.7895\n",
      "Epoch 169/200\n",
      "974/974 [==============================] - 0s 441us/step - loss: 0.4347 - acc: 0.7947\n",
      "Epoch 170/200\n",
      "974/974 [==============================] - 0s 442us/step - loss: 0.4344 - acc: 0.7926\n",
      "Epoch 171/200\n",
      "974/974 [==============================] - 0s 391us/step - loss: 0.4338 - acc: 0.7947\n",
      "Epoch 172/200\n",
      "974/974 [==============================] - 0s 405us/step - loss: 0.4335 - acc: 0.7916\n",
      "Epoch 173/200\n",
      "974/974 [==============================] - 0s 454us/step - loss: 0.4328 - acc: 0.7957\n",
      "Epoch 174/200\n",
      "974/974 [==============================] - 0s 407us/step - loss: 0.4321 - acc: 0.7957\n",
      "Epoch 175/200\n",
      "974/974 [==============================] - 0s 420us/step - loss: 0.4317 - acc: 0.7957\n",
      "Epoch 176/200\n",
      "974/974 [==============================] - 0s 414us/step - loss: 0.4313 - acc: 0.7977\n",
      "Epoch 177/200\n",
      "974/974 [==============================] - 0s 409us/step - loss: 0.4310 - acc: 0.7988\n",
      "Epoch 178/200\n",
      "974/974 [==============================] - 0s 423us/step - loss: 0.4306 - acc: 0.7988\n",
      "Epoch 179/200\n",
      "974/974 [==============================] - 0s 394us/step - loss: 0.4305 - acc: 0.7977\n",
      "Epoch 180/200\n",
      "974/974 [==============================] - 0s 391us/step - loss: 0.4304 - acc: 0.8018\n",
      "Epoch 181/200\n",
      "974/974 [==============================] - 0s 396us/step - loss: 0.4333 - acc: 0.7906\n",
      "Epoch 182/200\n",
      "974/974 [==============================] - 0s 388us/step - loss: 0.4435 - acc: 0.7834\n",
      "Epoch 183/200\n",
      "974/974 [==============================] - 0s 395us/step - loss: 0.4415 - acc: 0.7875\n",
      "Epoch 184/200\n",
      "974/974 [==============================] - 0s 375us/step - loss: 0.4317 - acc: 0.7957\n",
      "Epoch 185/200\n",
      "974/974 [==============================] - 0s 399us/step - loss: 0.4295 - acc: 0.8018\n",
      "Epoch 186/200\n",
      "974/974 [==============================] - 0s 399us/step - loss: 0.4317 - acc: 0.7926\n",
      "Epoch 187/200\n",
      "974/974 [==============================] - 0s 415us/step - loss: 0.4286 - acc: 0.7998\n",
      "Epoch 188/200\n",
      "974/974 [==============================] - 0s 422us/step - loss: 0.4311 - acc: 0.7977\n",
      "Epoch 189/200\n",
      "974/974 [==============================] - 0s 422us/step - loss: 0.4280 - acc: 0.7936\n",
      "Epoch 190/200\n",
      "974/974 [==============================] - 0s 463us/step - loss: 0.4286 - acc: 0.7936\n",
      "Epoch 191/200\n",
      "974/974 [==============================] - 0s 451us/step - loss: 0.4272 - acc: 0.8008\n",
      "Epoch 192/200\n",
      "974/974 [==============================] - 0s 407us/step - loss: 0.4258 - acc: 0.7998\n",
      "Epoch 193/200\n",
      "974/974 [==============================] - 0s 413us/step - loss: 0.4267 - acc: 0.7998\n",
      "Epoch 194/200\n",
      "974/974 [==============================] - 0s 401us/step - loss: 0.4246 - acc: 0.8008\n",
      "Epoch 195/200\n",
      "974/974 [==============================] - 0s 408us/step - loss: 0.4249 - acc: 0.8060\n",
      "Epoch 196/200\n",
      "974/974 [==============================] - 0s 397us/step - loss: 0.4261 - acc: 0.7957\n",
      "Epoch 197/200\n",
      "974/974 [==============================] - 0s 397us/step - loss: 0.4241 - acc: 0.8060\n",
      "Epoch 198/200\n",
      "974/974 [==============================] - 0s 408us/step - loss: 0.4228 - acc: 0.8039\n",
      "Epoch 199/200\n",
      "974/974 [==============================] - 0s 428us/step - loss: 0.4230 - acc: 0.8018\n",
      "Epoch 200/200\n",
      "974/974 [==============================] - 0s 413us/step - loss: 0.4224 - acc: 0.8060\n"
     ]
    },
    {
     "data": {
      "text/plain": [
       "<keras.callbacks.History at 0x1a611dae10>"
      ]
     },
     "execution_count": 281,
     "metadata": {},
     "output_type": "execute_result"
    }
   ],
   "source": [
    "adam = Adam(lr=0.001)\n",
    "chk = ModelCheckpoint('best_model.pkl', monitor='val_acc', save_best_only=True, mode='max', verbose=1)\n",
    "model2.compile(loss='binary_crossentropy', optimizer=adam, metrics=['accuracy'])\n",
    "model2.fit(X_tr, y_tr, epochs=200, batch_size=1299, callbacks=[chk])"
   ]
  },
  {
   "cell_type": "code",
   "execution_count": 282,
   "metadata": {},
   "outputs": [
    {
     "data": {
      "text/plain": [
       "0.7107692307692308"
      ]
     },
     "execution_count": 282,
     "metadata": {},
     "output_type": "execute_result"
    }
   ],
   "source": [
    "test_preds = model2.predict_classes(X_te)\n",
    "accuracy_score(y_te, test_preds)"
   ]
  },
  {
   "cell_type": "markdown",
   "metadata": {},
   "source": [
    "# Adding 3-day window sum feature"
   ]
  },
  {
   "cell_type": "markdown",
   "metadata": {},
   "source": [
    "### For LSTM"
   ]
  },
  {
   "cell_type": "code",
   "execution_count": 381,
   "metadata": {},
   "outputs": [
    {
     "data": {
      "text/html": [
       "<div>\n",
       "<style scoped>\n",
       "    .dataframe tbody tr th:only-of-type {\n",
       "        vertical-align: middle;\n",
       "    }\n",
       "\n",
       "    .dataframe tbody tr th {\n",
       "        vertical-align: top;\n",
       "    }\n",
       "\n",
       "    .dataframe thead th {\n",
       "        text-align: right;\n",
       "    }\n",
       "</style>\n",
       "<table border=\"1\" class=\"dataframe\">\n",
       "  <thead>\n",
       "    <tr style=\"text-align: right;\">\n",
       "      <th></th>\n",
       "      <th>-18</th>\n",
       "      <th>-17</th>\n",
       "      <th>-16</th>\n",
       "      <th>-15</th>\n",
       "      <th>-14</th>\n",
       "      <th>-13</th>\n",
       "      <th>-12</th>\n",
       "      <th>-11</th>\n",
       "      <th>-10</th>\n",
       "      <th>-9</th>\n",
       "      <th>...</th>\n",
       "      <th>59</th>\n",
       "      <th>60</th>\n",
       "      <th>61</th>\n",
       "      <th>62</th>\n",
       "      <th>63</th>\n",
       "      <th>64</th>\n",
       "      <th>65</th>\n",
       "      <th>66</th>\n",
       "      <th>67</th>\n",
       "      <th>final_result</th>\n",
       "    </tr>\n",
       "    <tr>\n",
       "      <th>id_student</th>\n",
       "      <th></th>\n",
       "      <th></th>\n",
       "      <th></th>\n",
       "      <th></th>\n",
       "      <th></th>\n",
       "      <th></th>\n",
       "      <th></th>\n",
       "      <th></th>\n",
       "      <th></th>\n",
       "      <th></th>\n",
       "      <th></th>\n",
       "      <th></th>\n",
       "      <th></th>\n",
       "      <th></th>\n",
       "      <th></th>\n",
       "      <th></th>\n",
       "      <th></th>\n",
       "      <th></th>\n",
       "      <th></th>\n",
       "      <th></th>\n",
       "      <th></th>\n",
       "    </tr>\n",
       "  </thead>\n",
       "  <tbody>\n",
       "    <tr>\n",
       "      <th>28418</th>\n",
       "      <td>0.0</td>\n",
       "      <td>0.0</td>\n",
       "      <td>0.0</td>\n",
       "      <td>0.0</td>\n",
       "      <td>0.0</td>\n",
       "      <td>0.0</td>\n",
       "      <td>0.0</td>\n",
       "      <td>0.0</td>\n",
       "      <td>0.0</td>\n",
       "      <td>0.0</td>\n",
       "      <td>...</td>\n",
       "      <td>0.0</td>\n",
       "      <td>0.0</td>\n",
       "      <td>0.0</td>\n",
       "      <td>0.0</td>\n",
       "      <td>0.0</td>\n",
       "      <td>5.0</td>\n",
       "      <td>37.0</td>\n",
       "      <td>0.0</td>\n",
       "      <td>16.0</td>\n",
       "      <td>0</td>\n",
       "    </tr>\n",
       "    <tr>\n",
       "      <th>29764</th>\n",
       "      <td>13.0</td>\n",
       "      <td>15.0</td>\n",
       "      <td>1.0</td>\n",
       "      <td>0.0</td>\n",
       "      <td>0.0</td>\n",
       "      <td>0.0</td>\n",
       "      <td>0.0</td>\n",
       "      <td>0.0</td>\n",
       "      <td>0.0</td>\n",
       "      <td>0.0</td>\n",
       "      <td>...</td>\n",
       "      <td>44.0</td>\n",
       "      <td>9.0</td>\n",
       "      <td>5.0</td>\n",
       "      <td>30.0</td>\n",
       "      <td>0.0</td>\n",
       "      <td>6.0</td>\n",
       "      <td>82.0</td>\n",
       "      <td>0.0</td>\n",
       "      <td>103.0</td>\n",
       "      <td>1</td>\n",
       "    </tr>\n",
       "    <tr>\n",
       "      <th>29820</th>\n",
       "      <td>2.0</td>\n",
       "      <td>0.0</td>\n",
       "      <td>0.0</td>\n",
       "      <td>0.0</td>\n",
       "      <td>0.0</td>\n",
       "      <td>0.0</td>\n",
       "      <td>0.0</td>\n",
       "      <td>0.0</td>\n",
       "      <td>0.0</td>\n",
       "      <td>0.0</td>\n",
       "      <td>...</td>\n",
       "      <td>0.0</td>\n",
       "      <td>0.0</td>\n",
       "      <td>0.0</td>\n",
       "      <td>0.0</td>\n",
       "      <td>124.0</td>\n",
       "      <td>0.0</td>\n",
       "      <td>1.0</td>\n",
       "      <td>33.0</td>\n",
       "      <td>0.0</td>\n",
       "      <td>1</td>\n",
       "    </tr>\n",
       "    <tr>\n",
       "      <th>40604</th>\n",
       "      <td>0.0</td>\n",
       "      <td>0.0</td>\n",
       "      <td>4.0</td>\n",
       "      <td>9.0</td>\n",
       "      <td>0.0</td>\n",
       "      <td>0.0</td>\n",
       "      <td>9.0</td>\n",
       "      <td>0.0</td>\n",
       "      <td>24.0</td>\n",
       "      <td>10.0</td>\n",
       "      <td>...</td>\n",
       "      <td>0.0</td>\n",
       "      <td>0.0</td>\n",
       "      <td>0.0</td>\n",
       "      <td>0.0</td>\n",
       "      <td>0.0</td>\n",
       "      <td>0.0</td>\n",
       "      <td>0.0</td>\n",
       "      <td>29.0</td>\n",
       "      <td>89.0</td>\n",
       "      <td>1</td>\n",
       "    </tr>\n",
       "    <tr>\n",
       "      <th>42638</th>\n",
       "      <td>20.0</td>\n",
       "      <td>22.0</td>\n",
       "      <td>7.0</td>\n",
       "      <td>9.0</td>\n",
       "      <td>0.0</td>\n",
       "      <td>5.0</td>\n",
       "      <td>0.0</td>\n",
       "      <td>5.0</td>\n",
       "      <td>2.0</td>\n",
       "      <td>3.0</td>\n",
       "      <td>...</td>\n",
       "      <td>32.0</td>\n",
       "      <td>68.0</td>\n",
       "      <td>37.0</td>\n",
       "      <td>36.0</td>\n",
       "      <td>41.0</td>\n",
       "      <td>6.0</td>\n",
       "      <td>21.0</td>\n",
       "      <td>29.0</td>\n",
       "      <td>14.0</td>\n",
       "      <td>1</td>\n",
       "    </tr>\n",
       "  </tbody>\n",
       "</table>\n",
       "<p>5 rows × 87 columns</p>\n",
       "</div>"
      ],
      "text/plain": [
       "             -18   -17  -16  -15  -14  -13  -12  -11   -10    -9  ...    59  \\\n",
       "id_student                                                        ...         \n",
       "28418        0.0   0.0  0.0  0.0  0.0  0.0  0.0  0.0   0.0   0.0  ...   0.0   \n",
       "29764       13.0  15.0  1.0  0.0  0.0  0.0  0.0  0.0   0.0   0.0  ...  44.0   \n",
       "29820        2.0   0.0  0.0  0.0  0.0  0.0  0.0  0.0   0.0   0.0  ...   0.0   \n",
       "40604        0.0   0.0  4.0  9.0  0.0  0.0  9.0  0.0  24.0  10.0  ...   0.0   \n",
       "42638       20.0  22.0  7.0  9.0  0.0  5.0  0.0  5.0   2.0   3.0  ...  32.0   \n",
       "\n",
       "              60    61    62     63   64    65    66     67  final_result  \n",
       "id_student                                                                 \n",
       "28418        0.0   0.0   0.0    0.0  5.0  37.0   0.0   16.0             0  \n",
       "29764        9.0   5.0  30.0    0.0  6.0  82.0   0.0  103.0             1  \n",
       "29820        0.0   0.0   0.0  124.0  0.0   1.0  33.0    0.0             1  \n",
       "40604        0.0   0.0   0.0    0.0  0.0   0.0  29.0   89.0             1  \n",
       "42638       68.0  37.0  36.0   41.0  6.0  21.0  29.0   14.0             1  \n",
       "\n",
       "[5 rows x 87 columns]"
      ]
     },
     "execution_count": 381,
     "metadata": {},
     "output_type": "execute_result"
    }
   ],
   "source": [
    "stvl_piv_cp = stvl_piv.copy()\n",
    "stvl_piv_cp.head()"
   ]
  },
  {
   "cell_type": "code",
   "execution_count": 382,
   "metadata": {},
   "outputs": [],
   "source": [
    "y_col = stvl_piv_cp['final_result']"
   ]
  },
  {
   "cell_type": "code",
   "execution_count": 383,
   "metadata": {},
   "outputs": [],
   "source": [
    "stvl_piv_cp.drop(['final_result'], axis=1, inplace=True)"
   ]
  },
  {
   "cell_type": "code",
   "execution_count": 385,
   "metadata": {},
   "outputs": [
    {
     "data": {
      "text/html": [
       "<div>\n",
       "<style scoped>\n",
       "    .dataframe tbody tr th:only-of-type {\n",
       "        vertical-align: middle;\n",
       "    }\n",
       "\n",
       "    .dataframe tbody tr th {\n",
       "        vertical-align: top;\n",
       "    }\n",
       "\n",
       "    .dataframe thead th {\n",
       "        text-align: right;\n",
       "    }\n",
       "</style>\n",
       "<table border=\"1\" class=\"dataframe\">\n",
       "  <thead>\n",
       "    <tr style=\"text-align: right;\">\n",
       "      <th></th>\n",
       "      <th>-18</th>\n",
       "      <th>-17</th>\n",
       "      <th>-16</th>\n",
       "      <th>-15</th>\n",
       "      <th>-14</th>\n",
       "      <th>-13</th>\n",
       "      <th>-12</th>\n",
       "      <th>-11</th>\n",
       "      <th>-10</th>\n",
       "      <th>-9</th>\n",
       "      <th>...</th>\n",
       "      <th>58</th>\n",
       "      <th>59</th>\n",
       "      <th>60</th>\n",
       "      <th>61</th>\n",
       "      <th>62</th>\n",
       "      <th>63</th>\n",
       "      <th>64</th>\n",
       "      <th>65</th>\n",
       "      <th>66</th>\n",
       "      <th>67</th>\n",
       "    </tr>\n",
       "    <tr>\n",
       "      <th>id_student</th>\n",
       "      <th></th>\n",
       "      <th></th>\n",
       "      <th></th>\n",
       "      <th></th>\n",
       "      <th></th>\n",
       "      <th></th>\n",
       "      <th></th>\n",
       "      <th></th>\n",
       "      <th></th>\n",
       "      <th></th>\n",
       "      <th></th>\n",
       "      <th></th>\n",
       "      <th></th>\n",
       "      <th></th>\n",
       "      <th></th>\n",
       "      <th></th>\n",
       "      <th></th>\n",
       "      <th></th>\n",
       "      <th></th>\n",
       "      <th></th>\n",
       "      <th></th>\n",
       "    </tr>\n",
       "  </thead>\n",
       "  <tbody>\n",
       "    <tr>\n",
       "      <th>28418</th>\n",
       "      <td>NaN</td>\n",
       "      <td>NaN</td>\n",
       "      <td>0.0</td>\n",
       "      <td>0.0</td>\n",
       "      <td>0.0</td>\n",
       "      <td>0.0</td>\n",
       "      <td>0.0</td>\n",
       "      <td>0.0</td>\n",
       "      <td>0.0</td>\n",
       "      <td>0.0</td>\n",
       "      <td>...</td>\n",
       "      <td>4.0</td>\n",
       "      <td>4.0</td>\n",
       "      <td>0.0</td>\n",
       "      <td>0.0</td>\n",
       "      <td>0.0</td>\n",
       "      <td>0.0</td>\n",
       "      <td>5.0</td>\n",
       "      <td>42.0</td>\n",
       "      <td>42.0</td>\n",
       "      <td>53.0</td>\n",
       "    </tr>\n",
       "    <tr>\n",
       "      <th>29764</th>\n",
       "      <td>NaN</td>\n",
       "      <td>NaN</td>\n",
       "      <td>29.0</td>\n",
       "      <td>16.0</td>\n",
       "      <td>1.0</td>\n",
       "      <td>0.0</td>\n",
       "      <td>0.0</td>\n",
       "      <td>0.0</td>\n",
       "      <td>0.0</td>\n",
       "      <td>0.0</td>\n",
       "      <td>...</td>\n",
       "      <td>0.0</td>\n",
       "      <td>44.0</td>\n",
       "      <td>53.0</td>\n",
       "      <td>58.0</td>\n",
       "      <td>44.0</td>\n",
       "      <td>35.0</td>\n",
       "      <td>36.0</td>\n",
       "      <td>88.0</td>\n",
       "      <td>88.0</td>\n",
       "      <td>185.0</td>\n",
       "    </tr>\n",
       "    <tr>\n",
       "      <th>29820</th>\n",
       "      <td>NaN</td>\n",
       "      <td>NaN</td>\n",
       "      <td>2.0</td>\n",
       "      <td>0.0</td>\n",
       "      <td>0.0</td>\n",
       "      <td>0.0</td>\n",
       "      <td>0.0</td>\n",
       "      <td>0.0</td>\n",
       "      <td>0.0</td>\n",
       "      <td>0.0</td>\n",
       "      <td>...</td>\n",
       "      <td>0.0</td>\n",
       "      <td>0.0</td>\n",
       "      <td>0.0</td>\n",
       "      <td>0.0</td>\n",
       "      <td>0.0</td>\n",
       "      <td>124.0</td>\n",
       "      <td>124.0</td>\n",
       "      <td>125.0</td>\n",
       "      <td>34.0</td>\n",
       "      <td>34.0</td>\n",
       "    </tr>\n",
       "    <tr>\n",
       "      <th>40604</th>\n",
       "      <td>NaN</td>\n",
       "      <td>NaN</td>\n",
       "      <td>4.0</td>\n",
       "      <td>13.0</td>\n",
       "      <td>13.0</td>\n",
       "      <td>9.0</td>\n",
       "      <td>9.0</td>\n",
       "      <td>9.0</td>\n",
       "      <td>33.0</td>\n",
       "      <td>34.0</td>\n",
       "      <td>...</td>\n",
       "      <td>0.0</td>\n",
       "      <td>0.0</td>\n",
       "      <td>0.0</td>\n",
       "      <td>0.0</td>\n",
       "      <td>0.0</td>\n",
       "      <td>0.0</td>\n",
       "      <td>0.0</td>\n",
       "      <td>0.0</td>\n",
       "      <td>29.0</td>\n",
       "      <td>118.0</td>\n",
       "    </tr>\n",
       "    <tr>\n",
       "      <th>42638</th>\n",
       "      <td>NaN</td>\n",
       "      <td>NaN</td>\n",
       "      <td>49.0</td>\n",
       "      <td>38.0</td>\n",
       "      <td>16.0</td>\n",
       "      <td>14.0</td>\n",
       "      <td>5.0</td>\n",
       "      <td>10.0</td>\n",
       "      <td>7.0</td>\n",
       "      <td>10.0</td>\n",
       "      <td>...</td>\n",
       "      <td>5.0</td>\n",
       "      <td>37.0</td>\n",
       "      <td>105.0</td>\n",
       "      <td>137.0</td>\n",
       "      <td>141.0</td>\n",
       "      <td>114.0</td>\n",
       "      <td>83.0</td>\n",
       "      <td>68.0</td>\n",
       "      <td>56.0</td>\n",
       "      <td>64.0</td>\n",
       "    </tr>\n",
       "  </tbody>\n",
       "</table>\n",
       "<p>5 rows × 86 columns</p>\n",
       "</div>"
      ],
      "text/plain": [
       "            -18  -17   -16   -15   -14   -13  -12   -11   -10   -9   ...   58  \\\n",
       "id_student                                                           ...        \n",
       "28418       NaN  NaN   0.0   0.0   0.0   0.0  0.0   0.0   0.0   0.0  ...  4.0   \n",
       "29764       NaN  NaN  29.0  16.0   1.0   0.0  0.0   0.0   0.0   0.0  ...  0.0   \n",
       "29820       NaN  NaN   2.0   0.0   0.0   0.0  0.0   0.0   0.0   0.0  ...  0.0   \n",
       "40604       NaN  NaN   4.0  13.0  13.0   9.0  9.0   9.0  33.0  34.0  ...  0.0   \n",
       "42638       NaN  NaN  49.0  38.0  16.0  14.0  5.0  10.0   7.0  10.0  ...  5.0   \n",
       "\n",
       "              59     60     61     62     63     64     65    66     67  \n",
       "id_student                                                               \n",
       "28418        4.0    0.0    0.0    0.0    0.0    5.0   42.0  42.0   53.0  \n",
       "29764       44.0   53.0   58.0   44.0   35.0   36.0   88.0  88.0  185.0  \n",
       "29820        0.0    0.0    0.0    0.0  124.0  124.0  125.0  34.0   34.0  \n",
       "40604        0.0    0.0    0.0    0.0    0.0    0.0    0.0  29.0  118.0  \n",
       "42638       37.0  105.0  137.0  141.0  114.0   83.0   68.0  56.0   64.0  \n",
       "\n",
       "[5 rows x 86 columns]"
      ]
     },
     "execution_count": 385,
     "metadata": {},
     "output_type": "execute_result"
    }
   ],
   "source": [
    "stvl_threes = stvl_piv_cp.rolling(3, axis=1).sum()\n",
    "stvl_threes.head()"
   ]
  },
  {
   "cell_type": "code",
   "execution_count": 386,
   "metadata": {},
   "outputs": [],
   "source": [
    "stvl_conc = pd.concat([stvl_piv_cp, stvl_threes], axis=1)"
   ]
  },
  {
   "cell_type": "code",
   "execution_count": 387,
   "metadata": {},
   "outputs": [
    {
     "data": {
      "text/html": [
       "<div>\n",
       "<style scoped>\n",
       "    .dataframe tbody tr th:only-of-type {\n",
       "        vertical-align: middle;\n",
       "    }\n",
       "\n",
       "    .dataframe tbody tr th {\n",
       "        vertical-align: top;\n",
       "    }\n",
       "\n",
       "    .dataframe thead th {\n",
       "        text-align: right;\n",
       "    }\n",
       "</style>\n",
       "<table border=\"1\" class=\"dataframe\">\n",
       "  <thead>\n",
       "    <tr style=\"text-align: right;\">\n",
       "      <th></th>\n",
       "      <th>-18</th>\n",
       "      <th>-17</th>\n",
       "      <th>-16</th>\n",
       "      <th>-15</th>\n",
       "      <th>-14</th>\n",
       "      <th>-13</th>\n",
       "      <th>-12</th>\n",
       "      <th>-11</th>\n",
       "      <th>-10</th>\n",
       "      <th>-9</th>\n",
       "      <th>...</th>\n",
       "      <th>58</th>\n",
       "      <th>59</th>\n",
       "      <th>60</th>\n",
       "      <th>61</th>\n",
       "      <th>62</th>\n",
       "      <th>63</th>\n",
       "      <th>64</th>\n",
       "      <th>65</th>\n",
       "      <th>66</th>\n",
       "      <th>67</th>\n",
       "    </tr>\n",
       "    <tr>\n",
       "      <th>id_student</th>\n",
       "      <th></th>\n",
       "      <th></th>\n",
       "      <th></th>\n",
       "      <th></th>\n",
       "      <th></th>\n",
       "      <th></th>\n",
       "      <th></th>\n",
       "      <th></th>\n",
       "      <th></th>\n",
       "      <th></th>\n",
       "      <th></th>\n",
       "      <th></th>\n",
       "      <th></th>\n",
       "      <th></th>\n",
       "      <th></th>\n",
       "      <th></th>\n",
       "      <th></th>\n",
       "      <th></th>\n",
       "      <th></th>\n",
       "      <th></th>\n",
       "      <th></th>\n",
       "    </tr>\n",
       "  </thead>\n",
       "  <tbody>\n",
       "    <tr>\n",
       "      <th>28418</th>\n",
       "      <td>0.0</td>\n",
       "      <td>0.0</td>\n",
       "      <td>0.0</td>\n",
       "      <td>0.0</td>\n",
       "      <td>0.0</td>\n",
       "      <td>0.0</td>\n",
       "      <td>0.0</td>\n",
       "      <td>0.0</td>\n",
       "      <td>0.0</td>\n",
       "      <td>0.0</td>\n",
       "      <td>...</td>\n",
       "      <td>4.0</td>\n",
       "      <td>4.0</td>\n",
       "      <td>0.0</td>\n",
       "      <td>0.0</td>\n",
       "      <td>0.0</td>\n",
       "      <td>0.0</td>\n",
       "      <td>5.0</td>\n",
       "      <td>42.0</td>\n",
       "      <td>42.0</td>\n",
       "      <td>53.0</td>\n",
       "    </tr>\n",
       "    <tr>\n",
       "      <th>29764</th>\n",
       "      <td>13.0</td>\n",
       "      <td>15.0</td>\n",
       "      <td>1.0</td>\n",
       "      <td>0.0</td>\n",
       "      <td>0.0</td>\n",
       "      <td>0.0</td>\n",
       "      <td>0.0</td>\n",
       "      <td>0.0</td>\n",
       "      <td>0.0</td>\n",
       "      <td>0.0</td>\n",
       "      <td>...</td>\n",
       "      <td>0.0</td>\n",
       "      <td>44.0</td>\n",
       "      <td>53.0</td>\n",
       "      <td>58.0</td>\n",
       "      <td>44.0</td>\n",
       "      <td>35.0</td>\n",
       "      <td>36.0</td>\n",
       "      <td>88.0</td>\n",
       "      <td>88.0</td>\n",
       "      <td>185.0</td>\n",
       "    </tr>\n",
       "    <tr>\n",
       "      <th>29820</th>\n",
       "      <td>2.0</td>\n",
       "      <td>0.0</td>\n",
       "      <td>0.0</td>\n",
       "      <td>0.0</td>\n",
       "      <td>0.0</td>\n",
       "      <td>0.0</td>\n",
       "      <td>0.0</td>\n",
       "      <td>0.0</td>\n",
       "      <td>0.0</td>\n",
       "      <td>0.0</td>\n",
       "      <td>...</td>\n",
       "      <td>0.0</td>\n",
       "      <td>0.0</td>\n",
       "      <td>0.0</td>\n",
       "      <td>0.0</td>\n",
       "      <td>0.0</td>\n",
       "      <td>124.0</td>\n",
       "      <td>124.0</td>\n",
       "      <td>125.0</td>\n",
       "      <td>34.0</td>\n",
       "      <td>34.0</td>\n",
       "    </tr>\n",
       "    <tr>\n",
       "      <th>40604</th>\n",
       "      <td>0.0</td>\n",
       "      <td>0.0</td>\n",
       "      <td>4.0</td>\n",
       "      <td>9.0</td>\n",
       "      <td>0.0</td>\n",
       "      <td>0.0</td>\n",
       "      <td>9.0</td>\n",
       "      <td>0.0</td>\n",
       "      <td>24.0</td>\n",
       "      <td>10.0</td>\n",
       "      <td>...</td>\n",
       "      <td>0.0</td>\n",
       "      <td>0.0</td>\n",
       "      <td>0.0</td>\n",
       "      <td>0.0</td>\n",
       "      <td>0.0</td>\n",
       "      <td>0.0</td>\n",
       "      <td>0.0</td>\n",
       "      <td>0.0</td>\n",
       "      <td>29.0</td>\n",
       "      <td>118.0</td>\n",
       "    </tr>\n",
       "    <tr>\n",
       "      <th>42638</th>\n",
       "      <td>20.0</td>\n",
       "      <td>22.0</td>\n",
       "      <td>7.0</td>\n",
       "      <td>9.0</td>\n",
       "      <td>0.0</td>\n",
       "      <td>5.0</td>\n",
       "      <td>0.0</td>\n",
       "      <td>5.0</td>\n",
       "      <td>2.0</td>\n",
       "      <td>3.0</td>\n",
       "      <td>...</td>\n",
       "      <td>5.0</td>\n",
       "      <td>37.0</td>\n",
       "      <td>105.0</td>\n",
       "      <td>137.0</td>\n",
       "      <td>141.0</td>\n",
       "      <td>114.0</td>\n",
       "      <td>83.0</td>\n",
       "      <td>68.0</td>\n",
       "      <td>56.0</td>\n",
       "      <td>64.0</td>\n",
       "    </tr>\n",
       "  </tbody>\n",
       "</table>\n",
       "<p>5 rows × 172 columns</p>\n",
       "</div>"
      ],
      "text/plain": [
       "             -18   -17  -16  -15  -14  -13  -12  -11   -10   -9   ...   58  \\\n",
       "id_student                                                        ...        \n",
       "28418        0.0   0.0  0.0  0.0  0.0  0.0  0.0  0.0   0.0   0.0  ...  4.0   \n",
       "29764       13.0  15.0  1.0  0.0  0.0  0.0  0.0  0.0   0.0   0.0  ...  0.0   \n",
       "29820        2.0   0.0  0.0  0.0  0.0  0.0  0.0  0.0   0.0   0.0  ...  0.0   \n",
       "40604        0.0   0.0  4.0  9.0  0.0  0.0  9.0  0.0  24.0  10.0  ...  0.0   \n",
       "42638       20.0  22.0  7.0  9.0  0.0  5.0  0.0  5.0   2.0   3.0  ...  5.0   \n",
       "\n",
       "              59     60     61     62     63     64     65    66     67  \n",
       "id_student                                                               \n",
       "28418        4.0    0.0    0.0    0.0    0.0    5.0   42.0  42.0   53.0  \n",
       "29764       44.0   53.0   58.0   44.0   35.0   36.0   88.0  88.0  185.0  \n",
       "29820        0.0    0.0    0.0    0.0  124.0  124.0  125.0  34.0   34.0  \n",
       "40604        0.0    0.0    0.0    0.0    0.0    0.0    0.0  29.0  118.0  \n",
       "42638       37.0  105.0  137.0  141.0  114.0   83.0   68.0  56.0   64.0  \n",
       "\n",
       "[5 rows x 172 columns]"
      ]
     },
     "execution_count": 387,
     "metadata": {},
     "output_type": "execute_result"
    }
   ],
   "source": [
    "stvl_conc.head()"
   ]
  },
  {
   "cell_type": "code",
   "execution_count": 388,
   "metadata": {},
   "outputs": [
    {
     "data": {
      "text/plain": [
       "(1299, 172)"
      ]
     },
     "execution_count": 388,
     "metadata": {},
     "output_type": "execute_result"
    }
   ],
   "source": [
    "stvl_conc.shape"
   ]
  },
  {
   "cell_type": "code",
   "execution_count": 389,
   "metadata": {},
   "outputs": [
    {
     "data": {
      "text/plain": [
       "86.0"
      ]
     },
     "execution_count": 389,
     "metadata": {},
     "output_type": "execute_result"
    }
   ],
   "source": [
    "172/2"
   ]
  },
  {
   "cell_type": "code",
   "execution_count": 390,
   "metadata": {},
   "outputs": [
    {
     "data": {
      "text/plain": [
       "array([[[  0.,   0.,   0., ...,  37.,   0.,  16.],\n",
       "        [ nan,  nan,   0., ...,  42.,  42.,  53.]],\n",
       "\n",
       "       [[ 13.,  15.,   1., ...,  82.,   0., 103.],\n",
       "        [ nan,  nan,  29., ...,  88.,  88., 185.]],\n",
       "\n",
       "       [[  2.,   0.,   0., ...,   1.,  33.,   0.],\n",
       "        [ nan,  nan,   2., ..., 125.,  34.,  34.]],\n",
       "\n",
       "       ...,\n",
       "\n",
       "       [[ 17.,  30.,   0., ...,  29.,   0.,   0.],\n",
       "        [ nan,  nan,  47., ..., 101.,  49.,  29.]],\n",
       "\n",
       "       [[ 31.,   0.,   5., ...,  33.,  14.,   9.],\n",
       "        [ nan,  nan,  36., ...,  97.,  65.,  56.]],\n",
       "\n",
       "       [[  1.,   0.,   0., ...,  54.,   0.,   0.],\n",
       "        [ nan,  nan,   1., ...,  54.,  54.,  54.]]])"
      ]
     },
     "execution_count": 390,
     "metadata": {},
     "output_type": "execute_result"
    }
   ],
   "source": [
    "stvl_conc.values.reshape(1299, 2, 86)"
   ]
  },
  {
   "cell_type": "markdown",
   "metadata": {},
   "source": [
    "Ok, above it is like it is in the pivot table, with two rows per user. Now to reshape for the neural net...."
   ]
  },
  {
   "cell_type": "code",
   "execution_count": 391,
   "metadata": {},
   "outputs": [],
   "source": [
    "stvl_ftr = stvl_conc.values.reshape(1299, 2, 86)"
   ]
  },
  {
   "cell_type": "code",
   "execution_count": 393,
   "metadata": {},
   "outputs": [],
   "source": [
    "stvl_ftr = stvl_ftr.reshape(1299, 86, 2)"
   ]
  },
  {
   "cell_type": "code",
   "execution_count": 395,
   "metadata": {},
   "outputs": [
    {
     "data": {
      "text/plain": [
       "array([[[  0.,   0.],\n",
       "        [  0.,   0.],\n",
       "        [  0.,   0.],\n",
       "        ...,\n",
       "        [  0.,   0.],\n",
       "        [  5.,  42.],\n",
       "        [ 42.,  53.]],\n",
       "\n",
       "       [[ 13.,  15.],\n",
       "        [  1.,   0.],\n",
       "        [  0.,   0.],\n",
       "        ...,\n",
       "        [ 44.,  35.],\n",
       "        [ 36.,  88.],\n",
       "        [ 88., 185.]],\n",
       "\n",
       "       [[  2.,   0.],\n",
       "        [  0.,   0.],\n",
       "        [  0.,   0.],\n",
       "        ...,\n",
       "        [  0., 124.],\n",
       "        [124., 125.],\n",
       "        [ 34.,  34.]],\n",
       "\n",
       "       ...,\n",
       "\n",
       "       [[ 17.,  30.],\n",
       "        [  0.,   0.],\n",
       "        [105.,   2.],\n",
       "        ...,\n",
       "        [126.,  52.],\n",
       "        [ 72., 101.],\n",
       "        [ 49.,  29.]],\n",
       "\n",
       "       [[ 31.,   0.],\n",
       "        [  5.,  23.],\n",
       "        [  4.,   0.],\n",
       "        ...,\n",
       "        [ 55., 101.],\n",
       "        [101.,  97.],\n",
       "        [ 65.,  56.]],\n",
       "\n",
       "       [[  1.,   0.],\n",
       "        [  0.,   0.],\n",
       "        [  1.,   4.],\n",
       "        ...,\n",
       "        [  4.,   0.],\n",
       "        [  0.,  54.],\n",
       "        [ 54.,  54.]]])"
      ]
     },
     "execution_count": 395,
     "metadata": {},
     "output_type": "execute_result"
    }
   ],
   "source": [
    "stvl_ftr"
   ]
  },
  {
   "cell_type": "markdown",
   "metadata": {},
   "source": [
    "#### run"
   ]
  },
  {
   "cell_type": "code",
   "execution_count": 396,
   "metadata": {},
   "outputs": [],
   "source": [
    "X_trn, X_tet, y_trn, y_tet = train_test_split(stvl_ftr, y_in, random_state=21)"
   ]
  },
  {
   "cell_type": "code",
   "execution_count": 397,
   "metadata": {},
   "outputs": [],
   "source": [
    "model11 = Sequential()\n",
    "model11.add(LSTM(128, input_shape=(86, 2)))\n",
    "model11.add(Dense(1, activation='sigmoid'))"
   ]
  },
  {
   "cell_type": "code",
   "execution_count": 398,
   "metadata": {},
   "outputs": [
    {
     "name": "stdout",
     "output_type": "stream",
     "text": [
      "Epoch 1/20\n",
      "974/974 [==============================] - 5s 5ms/step - loss: nan - acc: 0.0000e+00\n",
      "Epoch 2/20\n",
      "974/974 [==============================] - 1s 1ms/step - loss: nan - acc: 0.0000e+00\n",
      "Epoch 3/20\n",
      "974/974 [==============================] - 1s 1ms/step - loss: nan - acc: 0.0000e+00\n",
      "Epoch 4/20\n",
      "974/974 [==============================] - 1s 1ms/step - loss: nan - acc: 0.0000e+00\n",
      "Epoch 5/20\n",
      "974/974 [==============================] - 1s 1ms/step - loss: nan - acc: 0.0000e+00\n",
      "Epoch 6/20\n",
      "974/974 [==============================] - 1s 1ms/step - loss: nan - acc: 0.0000e+00\n",
      "Epoch 7/20\n",
      "974/974 [==============================] - 1s 1ms/step - loss: nan - acc: 0.0000e+00\n",
      "Epoch 8/20\n",
      "974/974 [==============================] - 1s 1ms/step - loss: nan - acc: 0.0000e+00\n",
      "Epoch 9/20\n",
      "974/974 [==============================] - 1s 1ms/step - loss: nan - acc: 0.0000e+00\n",
      "Epoch 10/20\n",
      "974/974 [==============================] - 1s 1ms/step - loss: nan - acc: 0.0000e+00\n",
      "Epoch 11/20\n",
      "974/974 [==============================] - 1s 1ms/step - loss: nan - acc: 0.0000e+00\n",
      "Epoch 12/20\n",
      "974/974 [==============================] - 1s 1ms/step - loss: nan - acc: 0.0000e+00\n",
      "Epoch 13/20\n",
      "974/974 [==============================] - 1s 1ms/step - loss: nan - acc: 0.0000e+00\n",
      "Epoch 14/20\n",
      "974/974 [==============================] - 1s 1ms/step - loss: nan - acc: 0.0000e+00\n",
      "Epoch 15/20\n",
      "974/974 [==============================] - 1s 1ms/step - loss: nan - acc: 0.0000e+00\n",
      "Epoch 16/20\n",
      "974/974 [==============================] - 1s 1ms/step - loss: nan - acc: 0.0000e+00\n",
      "Epoch 17/20\n",
      "974/974 [==============================] - 1s 1ms/step - loss: nan - acc: 0.0000e+00\n",
      "Epoch 18/20\n",
      "974/974 [==============================] - 1s 1ms/step - loss: nan - acc: 0.0000e+00\n",
      "Epoch 19/20\n",
      "974/974 [==============================] - 1s 1ms/step - loss: nan - acc: 0.0000e+00\n",
      "Epoch 20/20\n",
      "974/974 [==============================] - 1s 1ms/step - loss: nan - acc: 0.0000e+00\n"
     ]
    },
    {
     "data": {
      "text/plain": [
       "<keras.callbacks.History at 0x1a6dbe4cf8>"
      ]
     },
     "execution_count": 398,
     "metadata": {},
     "output_type": "execute_result"
    }
   ],
   "source": [
    "model11.compile(loss='binary_crossentropy', optimizer=adam, metrics=['accuracy'])\n",
    "model11.fit(X_trn, y_trn, epochs=20, batch_size=1299, callbacks=[chk])"
   ]
  },
  {
   "cell_type": "code",
   "execution_count": 399,
   "metadata": {},
   "outputs": [
    {
     "name": "stderr",
     "output_type": "stream",
     "text": [
      "//anaconda3/lib/python3.7/site-packages/keras/engine/sequential.py:271: RuntimeWarning: invalid value encountered in greater\n",
      "  return (proba > 0.5).astype('int32')\n"
     ]
    },
    {
     "data": {
      "text/plain": [
       "0.4646153846153846"
      ]
     },
     "execution_count": 399,
     "metadata": {},
     "output_type": "execute_result"
    }
   ],
   "source": [
    "test_preds = model11.predict_classes(X_tet)\n",
    "accuracy_score(y_tet, test_preds)"
   ]
  }
 ],
 "metadata": {
  "kernelspec": {
   "display_name": "Python 3",
   "language": "python",
   "name": "python3"
  },
  "language_info": {
   "codemirror_mode": {
    "name": "ipython",
    "version": 3
   },
   "file_extension": ".py",
   "mimetype": "text/x-python",
   "name": "python",
   "nbconvert_exporter": "python",
   "pygments_lexer": "ipython3",
   "version": "3.7.3"
  }
 },
 "nbformat": 4,
 "nbformat_minor": 2
}
