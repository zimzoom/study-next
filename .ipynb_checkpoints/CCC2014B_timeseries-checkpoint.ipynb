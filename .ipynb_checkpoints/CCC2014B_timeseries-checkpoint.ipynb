{
 "cells": [
  {
   "cell_type": "code",
   "execution_count": 1,
   "metadata": {},
   "outputs": [],
   "source": [
    "import numpy as np\n",
    "import pandas as pd\n",
    "\n",
    "import matplotlib.pyplot as plt\n",
    "%matplotlib inline"
   ]
  },
  {
   "cell_type": "code",
   "execution_count": 2,
   "metadata": {},
   "outputs": [],
   "source": [
    "from tsfresh import extract_features, select_features, extract_relevant_features\n",
    "from tsfresh.utilities.dataframe_functions import impute"
   ]
  },
  {
   "cell_type": "code",
   "execution_count": 3,
   "metadata": {},
   "outputs": [],
   "source": [
    "from sklearn.model_selection import train_test_split\n",
    "from sklearn.ensemble import RandomForestClassifier\n",
    "import xgboost as xgb"
   ]
  },
  {
   "cell_type": "code",
   "execution_count": 4,
   "metadata": {},
   "outputs": [],
   "source": [
    "stu_vle = pd.read_csv('data/stvl_ccc14b.csv')\n",
    "stu_as = pd.read_csv('data/stas_ccc14b.csv')\n",
    "ass = pd.read_csv('data/ass_ccc14b.csv')\n",
    "vle = pd.read_csv('data/vle_ccc14b.csv')\n",
    "stu_info = pd.read_csv('data/stuinfo_ccc14b.csv')\n",
    "stu_reg = pd.read_csv('data/stureg_ccc14b.csv')"
   ]
  },
  {
   "cell_type": "markdown",
   "metadata": {},
   "source": [
    "# Preprocessing"
   ]
  },
  {
   "cell_type": "markdown",
   "metadata": {},
   "source": [
    "### Drop early withdrawal students"
   ]
  },
  {
   "cell_type": "markdown",
   "metadata": {},
   "source": [
    "Or rather, determine which students to keep."
   ]
  },
  {
   "cell_type": "code",
   "execution_count": 5,
   "metadata": {},
   "outputs": [
    {
     "data": {
      "text/html": [
       "<div>\n",
       "<style scoped>\n",
       "    .dataframe tbody tr th:only-of-type {\n",
       "        vertical-align: middle;\n",
       "    }\n",
       "\n",
       "    .dataframe tbody tr th {\n",
       "        vertical-align: top;\n",
       "    }\n",
       "\n",
       "    .dataframe thead th {\n",
       "        text-align: right;\n",
       "    }\n",
       "</style>\n",
       "<table border=\"1\" class=\"dataframe\">\n",
       "  <thead>\n",
       "    <tr style=\"text-align: right;\">\n",
       "      <th></th>\n",
       "      <th>code_module</th>\n",
       "      <th>code_presentation</th>\n",
       "      <th>id_student</th>\n",
       "      <th>date_registration</th>\n",
       "      <th>date_unregistration</th>\n",
       "    </tr>\n",
       "  </thead>\n",
       "  <tbody>\n",
       "    <tr>\n",
       "      <th>0</th>\n",
       "      <td>CCC</td>\n",
       "      <td>2014B</td>\n",
       "      <td>28418</td>\n",
       "      <td>-37.0</td>\n",
       "      <td>NaN</td>\n",
       "    </tr>\n",
       "    <tr>\n",
       "      <th>1</th>\n",
       "      <td>CCC</td>\n",
       "      <td>2014B</td>\n",
       "      <td>29764</td>\n",
       "      <td>-34.0</td>\n",
       "      <td>NaN</td>\n",
       "    </tr>\n",
       "    <tr>\n",
       "      <th>2</th>\n",
       "      <td>CCC</td>\n",
       "      <td>2014B</td>\n",
       "      <td>29820</td>\n",
       "      <td>-57.0</td>\n",
       "      <td>NaN</td>\n",
       "    </tr>\n",
       "    <tr>\n",
       "      <th>3</th>\n",
       "      <td>CCC</td>\n",
       "      <td>2014B</td>\n",
       "      <td>40333</td>\n",
       "      <td>-30.0</td>\n",
       "      <td>17.0</td>\n",
       "    </tr>\n",
       "    <tr>\n",
       "      <th>4</th>\n",
       "      <td>CCC</td>\n",
       "      <td>2014B</td>\n",
       "      <td>40604</td>\n",
       "      <td>-17.0</td>\n",
       "      <td>NaN</td>\n",
       "    </tr>\n",
       "  </tbody>\n",
       "</table>\n",
       "</div>"
      ],
      "text/plain": [
       "  code_module code_presentation  id_student  date_registration  \\\n",
       "0         CCC             2014B       28418              -37.0   \n",
       "1         CCC             2014B       29764              -34.0   \n",
       "2         CCC             2014B       29820              -57.0   \n",
       "3         CCC             2014B       40333              -30.0   \n",
       "4         CCC             2014B       40604              -17.0   \n",
       "\n",
       "   date_unregistration  \n",
       "0                  NaN  \n",
       "1                  NaN  \n",
       "2                  NaN  \n",
       "3                 17.0  \n",
       "4                  NaN  "
      ]
     },
     "execution_count": 5,
     "metadata": {},
     "output_type": "execute_result"
    }
   ],
   "source": [
    "stu_reg.head()"
   ]
  },
  {
   "cell_type": "code",
   "execution_count": 6,
   "metadata": {},
   "outputs": [],
   "source": [
    "pop_of_interest = stu_reg.drop(stu_reg[stu_reg.date_unregistration <= 67].index)['id_student'].unique()"
   ]
  },
  {
   "cell_type": "code",
   "execution_count": 7,
   "metadata": {},
   "outputs": [
    {
     "data": {
      "text/plain": [
       "1300"
      ]
     },
     "execution_count": 7,
     "metadata": {},
     "output_type": "execute_result"
    }
   ],
   "source": [
    "len(stu_vle.drop(stu_vle[~stu_vle.id_student.isin(pop_of_interest)].index)['id_student'].unique()) # num students left in course who clicked"
   ]
  },
  {
   "cell_type": "code",
   "execution_count": 12,
   "metadata": {},
   "outputs": [],
   "source": [
    "clkd_pop_of_interest = stu_vle.drop(stu_vle[~stu_vle.id_student.isin(pop_of_interest)].index)['id_student'].unique()"
   ]
  },
  {
   "cell_type": "markdown",
   "metadata": {},
   "source": [
    "### Make y (targets) column"
   ]
  },
  {
   "cell_type": "code",
   "execution_count": 10,
   "metadata": {},
   "outputs": [
    {
     "data": {
      "text/html": [
       "<div>\n",
       "<style scoped>\n",
       "    .dataframe tbody tr th:only-of-type {\n",
       "        vertical-align: middle;\n",
       "    }\n",
       "\n",
       "    .dataframe tbody tr th {\n",
       "        vertical-align: top;\n",
       "    }\n",
       "\n",
       "    .dataframe thead th {\n",
       "        text-align: right;\n",
       "    }\n",
       "</style>\n",
       "<table border=\"1\" class=\"dataframe\">\n",
       "  <thead>\n",
       "    <tr style=\"text-align: right;\">\n",
       "      <th></th>\n",
       "      <th>code_module</th>\n",
       "      <th>code_presentation</th>\n",
       "      <th>id_student</th>\n",
       "      <th>gender</th>\n",
       "      <th>region</th>\n",
       "      <th>highest_education</th>\n",
       "      <th>imd_band</th>\n",
       "      <th>age_band</th>\n",
       "      <th>num_of_prev_attempts</th>\n",
       "      <th>studied_credits</th>\n",
       "      <th>disability</th>\n",
       "      <th>final_result</th>\n",
       "    </tr>\n",
       "  </thead>\n",
       "  <tbody>\n",
       "    <tr>\n",
       "      <th>0</th>\n",
       "      <td>CCC</td>\n",
       "      <td>2014B</td>\n",
       "      <td>28418</td>\n",
       "      <td>F</td>\n",
       "      <td>West Midlands Region</td>\n",
       "      <td>A Level or Equivalent</td>\n",
       "      <td>20-30%</td>\n",
       "      <td>0-35</td>\n",
       "      <td>0</td>\n",
       "      <td>30</td>\n",
       "      <td>N</td>\n",
       "      <td>Fail</td>\n",
       "    </tr>\n",
       "    <tr>\n",
       "      <th>1</th>\n",
       "      <td>CCC</td>\n",
       "      <td>2014B</td>\n",
       "      <td>29764</td>\n",
       "      <td>M</td>\n",
       "      <td>East Anglian Region</td>\n",
       "      <td>A Level or Equivalent</td>\n",
       "      <td>50-60%</td>\n",
       "      <td>0-35</td>\n",
       "      <td>0</td>\n",
       "      <td>90</td>\n",
       "      <td>N</td>\n",
       "      <td>Distinction</td>\n",
       "    </tr>\n",
       "    <tr>\n",
       "      <th>2</th>\n",
       "      <td>CCC</td>\n",
       "      <td>2014B</td>\n",
       "      <td>29820</td>\n",
       "      <td>M</td>\n",
       "      <td>East Anglian Region</td>\n",
       "      <td>HE Qualification</td>\n",
       "      <td>40-50%</td>\n",
       "      <td>0-35</td>\n",
       "      <td>0</td>\n",
       "      <td>60</td>\n",
       "      <td>N</td>\n",
       "      <td>Pass</td>\n",
       "    </tr>\n",
       "    <tr>\n",
       "      <th>3</th>\n",
       "      <td>CCC</td>\n",
       "      <td>2014B</td>\n",
       "      <td>40333</td>\n",
       "      <td>M</td>\n",
       "      <td>North Region</td>\n",
       "      <td>HE Qualification</td>\n",
       "      <td>0-10%</td>\n",
       "      <td>35-55</td>\n",
       "      <td>0</td>\n",
       "      <td>30</td>\n",
       "      <td>N</td>\n",
       "      <td>Withdrawn</td>\n",
       "    </tr>\n",
       "    <tr>\n",
       "      <th>4</th>\n",
       "      <td>CCC</td>\n",
       "      <td>2014B</td>\n",
       "      <td>40604</td>\n",
       "      <td>M</td>\n",
       "      <td>Ireland</td>\n",
       "      <td>A Level or Equivalent</td>\n",
       "      <td>NaN</td>\n",
       "      <td>35-55</td>\n",
       "      <td>0</td>\n",
       "      <td>30</td>\n",
       "      <td>N</td>\n",
       "      <td>Pass</td>\n",
       "    </tr>\n",
       "  </tbody>\n",
       "</table>\n",
       "</div>"
      ],
      "text/plain": [
       "  code_module code_presentation  id_student gender                region  \\\n",
       "0         CCC             2014B       28418      F  West Midlands Region   \n",
       "1         CCC             2014B       29764      M   East Anglian Region   \n",
       "2         CCC             2014B       29820      M   East Anglian Region   \n",
       "3         CCC             2014B       40333      M          North Region   \n",
       "4         CCC             2014B       40604      M               Ireland   \n",
       "\n",
       "       highest_education imd_band age_band  num_of_prev_attempts  \\\n",
       "0  A Level or Equivalent   20-30%     0-35                     0   \n",
       "1  A Level or Equivalent   50-60%     0-35                     0   \n",
       "2       HE Qualification   40-50%     0-35                     0   \n",
       "3       HE Qualification    0-10%    35-55                     0   \n",
       "4  A Level or Equivalent      NaN    35-55                     0   \n",
       "\n",
       "   studied_credits disability final_result  \n",
       "0               30          N         Fail  \n",
       "1               90          N  Distinction  \n",
       "2               60          N         Pass  \n",
       "3               30          N    Withdrawn  \n",
       "4               30          N         Pass  "
      ]
     },
     "execution_count": 10,
     "metadata": {},
     "output_type": "execute_result"
    }
   ],
   "source": [
    "stu_info.head()"
   ]
  },
  {
   "cell_type": "code",
   "execution_count": 13,
   "metadata": {},
   "outputs": [],
   "source": [
    "y_col = stu_info.drop(stu_info[~stu_info.id_student.isin(clkd_pop_of_interest)].index)"
   ]
  },
  {
   "cell_type": "code",
   "execution_count": 14,
   "metadata": {},
   "outputs": [],
   "source": [
    "y_col = y_col.drop(['code_module', 'code_presentation', 'gender', 'region', 'highest_education', 'imd_band', 'age_band', 'num_of_prev_attempts', 'studied_credits', 'disability'], axis=1)\n",
    "y_col.final_result.replace(to_replace=dict(Pass=1, Distinction=1, Fail=0, Withdrawn=0), inplace=True)\n",
    "y_col = y_col.sort_values(by=['id_student'])"
   ]
  },
  {
   "cell_type": "code",
   "execution_count": 15,
   "metadata": {},
   "outputs": [
    {
     "data": {
      "text/html": [
       "<div>\n",
       "<style scoped>\n",
       "    .dataframe tbody tr th:only-of-type {\n",
       "        vertical-align: middle;\n",
       "    }\n",
       "\n",
       "    .dataframe tbody tr th {\n",
       "        vertical-align: top;\n",
       "    }\n",
       "\n",
       "    .dataframe thead th {\n",
       "        text-align: right;\n",
       "    }\n",
       "</style>\n",
       "<table border=\"1\" class=\"dataframe\">\n",
       "  <thead>\n",
       "    <tr style=\"text-align: right;\">\n",
       "      <th></th>\n",
       "      <th>id_student</th>\n",
       "      <th>final_result</th>\n",
       "    </tr>\n",
       "  </thead>\n",
       "  <tbody>\n",
       "    <tr>\n",
       "      <th>0</th>\n",
       "      <td>28418</td>\n",
       "      <td>0</td>\n",
       "    </tr>\n",
       "    <tr>\n",
       "      <th>1</th>\n",
       "      <td>29764</td>\n",
       "      <td>1</td>\n",
       "    </tr>\n",
       "    <tr>\n",
       "      <th>2</th>\n",
       "      <td>29820</td>\n",
       "      <td>1</td>\n",
       "    </tr>\n",
       "    <tr>\n",
       "      <th>4</th>\n",
       "      <td>40604</td>\n",
       "      <td>1</td>\n",
       "    </tr>\n",
       "    <tr>\n",
       "      <th>5</th>\n",
       "      <td>42638</td>\n",
       "      <td>1</td>\n",
       "    </tr>\n",
       "  </tbody>\n",
       "</table>\n",
       "</div>"
      ],
      "text/plain": [
       "   id_student  final_result\n",
       "0       28418             0\n",
       "1       29764             1\n",
       "2       29820             1\n",
       "4       40604             1\n",
       "5       42638             1"
      ]
     },
     "execution_count": 15,
     "metadata": {},
     "output_type": "execute_result"
    }
   ],
   "source": [
    "y_col.head()"
   ]
  },
  {
   "cell_type": "code",
   "execution_count": null,
   "metadata": {},
   "outputs": [],
   "source": []
  },
  {
   "cell_type": "markdown",
   "metadata": {},
   "source": [
    "### Train-test split BEFORE feature-extraction"
   ]
  },
  {
   "cell_type": "markdown",
   "metadata": {},
   "source": [
    "Very important or else this would perform significantly worse in production."
   ]
  },
  {
   "cell_type": "code",
   "execution_count": 16,
   "metadata": {},
   "outputs": [],
   "source": [
    "train, test = train_test_split(y_col, test_size=0.2)"
   ]
  },
  {
   "cell_type": "code",
   "execution_count": 19,
   "metadata": {},
   "outputs": [
    {
     "data": {
      "text/plain": [
       "(1040, 260)"
      ]
     },
     "execution_count": 19,
     "metadata": {},
     "output_type": "execute_result"
    }
   ],
   "source": [
    "len(train), len(test)"
   ]
  },
  {
   "cell_type": "code",
   "execution_count": 66,
   "metadata": {},
   "outputs": [],
   "source": [
    "y_train = train['final_result'].values\n",
    "y_test = test['final_result'].values"
   ]
  },
  {
   "cell_type": "code",
   "execution_count": null,
   "metadata": {},
   "outputs": [],
   "source": []
  },
  {
   "cell_type": "markdown",
   "metadata": {},
   "source": [
    "### Get students click stream data (from which to generate features)"
   ]
  },
  {
   "cell_type": "code",
   "execution_count": 28,
   "metadata": {},
   "outputs": [],
   "source": [
    "train_students = train['id_student'].values #To-do: assert .values == .unique"
   ]
  },
  {
   "cell_type": "code",
   "execution_count": 29,
   "metadata": {},
   "outputs": [],
   "source": [
    "test_students = test['id_student'].values"
   ]
  },
  {
   "cell_type": "code",
   "execution_count": 53,
   "metadata": {},
   "outputs": [],
   "source": [
    "stvl_train = stu_vle[stu_vle.id_student.isin(train_students)]\n",
    "stvl_test = stu_vle[stu_vle.id_student.isin(test_students)]"
   ]
  },
  {
   "cell_type": "code",
   "execution_count": 54,
   "metadata": {},
   "outputs": [],
   "source": [
    "stvl_train = stvl_train.drop(['code_module', 'code_presentation', 'id_site'], axis=1)"
   ]
  },
  {
   "cell_type": "code",
   "execution_count": 55,
   "metadata": {},
   "outputs": [],
   "source": [
    "stvl_train = stvl_train.groupby(['id_student', 'date']).sum() #sum daily clicks per student"
   ]
  },
  {
   "cell_type": "code",
   "execution_count": 56,
   "metadata": {},
   "outputs": [],
   "source": [
    "stvl_train = stvl_train.reset_index()"
   ]
  },
  {
   "cell_type": "code",
   "execution_count": 57,
   "metadata": {},
   "outputs": [],
   "source": [
    "stvl_test = stvl_test.drop(['code_module', 'code_presentation', 'id_site'], axis=1)\n",
    "stvl_test = stvl_test.groupby(['id_student', 'date']).sum()\n",
    "stvl_test = stvl_test.reset_index()"
   ]
  },
  {
   "cell_type": "code",
   "execution_count": 70,
   "metadata": {},
   "outputs": [
    {
     "data": {
      "text/html": [
       "<div>\n",
       "<style scoped>\n",
       "    .dataframe tbody tr th:only-of-type {\n",
       "        vertical-align: middle;\n",
       "    }\n",
       "\n",
       "    .dataframe tbody tr th {\n",
       "        vertical-align: top;\n",
       "    }\n",
       "\n",
       "    .dataframe thead th {\n",
       "        text-align: right;\n",
       "    }\n",
       "</style>\n",
       "<table border=\"1\" class=\"dataframe\">\n",
       "  <thead>\n",
       "    <tr style=\"text-align: right;\">\n",
       "      <th></th>\n",
       "      <th>id_student</th>\n",
       "      <th>date</th>\n",
       "      <th>sum_click</th>\n",
       "    </tr>\n",
       "  </thead>\n",
       "  <tbody>\n",
       "    <tr>\n",
       "      <th>0</th>\n",
       "      <td>28418</td>\n",
       "      <td>-5</td>\n",
       "      <td>1</td>\n",
       "    </tr>\n",
       "    <tr>\n",
       "      <th>1</th>\n",
       "      <td>28418</td>\n",
       "      <td>4</td>\n",
       "      <td>19</td>\n",
       "    </tr>\n",
       "    <tr>\n",
       "      <th>2</th>\n",
       "      <td>28418</td>\n",
       "      <td>11</td>\n",
       "      <td>52</td>\n",
       "    </tr>\n",
       "    <tr>\n",
       "      <th>3</th>\n",
       "      <td>28418</td>\n",
       "      <td>14</td>\n",
       "      <td>2</td>\n",
       "    </tr>\n",
       "    <tr>\n",
       "      <th>4</th>\n",
       "      <td>28418</td>\n",
       "      <td>15</td>\n",
       "      <td>5</td>\n",
       "    </tr>\n",
       "  </tbody>\n",
       "</table>\n",
       "</div>"
      ],
      "text/plain": [
       "   id_student  date  sum_click\n",
       "0       28418    -5          1\n",
       "1       28418     4         19\n",
       "2       28418    11         52\n",
       "3       28418    14          2\n",
       "4       28418    15          5"
      ]
     },
     "execution_count": 70,
     "metadata": {},
     "output_type": "execute_result"
    }
   ],
   "source": [
    "stvl_train.head()"
   ]
  },
  {
   "cell_type": "code",
   "execution_count": null,
   "metadata": {},
   "outputs": [],
   "source": []
  },
  {
   "cell_type": "code",
   "execution_count": null,
   "metadata": {},
   "outputs": [],
   "source": []
  },
  {
   "cell_type": "code",
   "execution_count": null,
   "metadata": {},
   "outputs": [],
   "source": []
  },
  {
   "cell_type": "code",
   "execution_count": null,
   "metadata": {},
   "outputs": [],
   "source": []
  },
  {
   "cell_type": "markdown",
   "metadata": {},
   "source": [
    "# Time Series Feature Extraction"
   ]
  },
  {
   "cell_type": "markdown",
   "metadata": {},
   "source": [
    "#### Note that this first run is without imputing the data first"
   ]
  },
  {
   "cell_type": "code",
   "execution_count": 60,
   "metadata": {},
   "outputs": [
    {
     "name": "stderr",
     "output_type": "stream",
     "text": [
      "Feature Extraction: 100%|██████████| 20/20 [00:46<00:00,  2.04s/it]\n"
     ]
    }
   ],
   "source": [
    "extracted_features = extract_features(stvl_ts, column_id=\"id_student\", column_sort=\"date\")"
   ]
  },
  {
   "cell_type": "code",
   "execution_count": 90,
   "metadata": {},
   "outputs": [
    {
     "name": "stderr",
     "output_type": "stream",
     "text": [
      "WARNING:tsfresh.feature_selection.relevance:Infered classification as machine learning task\n",
      "WARNING:tsfresh.feature_selection.relevance:[test_feature_significance] Feature sum_click__change_quantiles__f_agg_\"mean\"__isabs_False__qh_0.2__ql_0.2 is constant\n",
      "WARNING:tsfresh.feature_selection.relevance:[test_feature_significance] Feature sum_click__change_quantiles__f_agg_\"mean\"__isabs_True__qh_0.2__ql_0.2 is constant\n",
      "WARNING:tsfresh.feature_selection.relevance:[test_feature_significance] Feature sum_click__change_quantiles__f_agg_\"mean\"__isabs_False__qh_0.2__ql_0.4 is constant\n",
      "WARNING:tsfresh.feature_selection.relevance:[test_feature_significance] Feature sum_click__change_quantiles__f_agg_\"mean\"__isabs_True__qh_0.2__ql_0.4 is constant\n",
      "WARNING:tsfresh.feature_selection.relevance:[test_feature_significance] Feature sum_click__change_quantiles__f_agg_\"mean\"__isabs_True__qh_0.2__ql_0.6 is constant\n",
      "WARNING:tsfresh.feature_selection.relevance:[test_feature_significance] Feature sum_click__change_quantiles__f_agg_\"mean\"__isabs_False__qh_0.2__ql_0.6 is constant\n",
      "WARNING:tsfresh.feature_selection.relevance:[test_feature_significance] Feature sum_click__change_quantiles__f_agg_\"mean\"__isabs_False__qh_0.2__ql_0.8 is constant\n",
      "WARNING:tsfresh.feature_selection.relevance:[test_feature_significance] Feature sum_click__change_quantiles__f_agg_\"mean\"__isabs_True__qh_0.4__ql_0.6 is constant\n",
      "WARNING:tsfresh.feature_selection.relevance:[test_feature_significance] Feature sum_click__change_quantiles__f_agg_\"mean\"__isabs_True__qh_0.2__ql_0.8 is constant\n",
      "WARNING:tsfresh.feature_selection.relevance:[test_feature_significance] Feature sum_click__change_quantiles__f_agg_\"mean\"__isabs_False__qh_0.4__ql_0.4 is constant\n",
      "WARNING:tsfresh.feature_selection.relevance:[test_feature_significance] Feature sum_click__change_quantiles__f_agg_\"mean\"__isabs_True__qh_0.4__ql_0.4 is constant\n",
      "WARNING:tsfresh.feature_selection.relevance:[test_feature_significance] Feature sum_click__change_quantiles__f_agg_\"var\"__isabs_True__qh_0.2__ql_0.2 is constant\n",
      "WARNING:tsfresh.feature_selection.relevance:[test_feature_significance] Feature sum_click__change_quantiles__f_agg_\"mean\"__isabs_False__qh_0.4__ql_0.6 is constant\n",
      "WARNING:tsfresh.feature_selection.relevance:[test_feature_significance] Feature sum_click__change_quantiles__f_agg_\"var\"__isabs_True__qh_0.2__ql_0.4 is constant\n",
      "WARNING:tsfresh.feature_selection.relevance:[test_feature_significance] Feature sum_click__change_quantiles__f_agg_\"mean\"__isabs_True__qh_0.4__ql_0.8 is constant\n",
      "WARNING:tsfresh.feature_selection.relevance:[test_feature_significance] Feature sum_click__change_quantiles__f_agg_\"var\"__isabs_True__qh_0.2__ql_0.6 is constant\n",
      "WARNING:tsfresh.feature_selection.relevance:[test_feature_significance] Feature sum_click__change_quantiles__f_agg_\"mean\"__isabs_False__qh_0.4__ql_0.8 is constant\n",
      "WARNING:tsfresh.feature_selection.relevance:[test_feature_significance] Feature sum_click__change_quantiles__f_agg_\"mean\"__isabs_True__qh_0.6__ql_0.6 is constant\n",
      "WARNING:tsfresh.feature_selection.relevance:[test_feature_significance] Feature sum_click__change_quantiles__f_agg_\"var\"__isabs_True__qh_0.2__ql_0.8 is constant\n",
      "WARNING:tsfresh.feature_selection.relevance:[test_feature_significance] Feature sum_click__change_quantiles__f_agg_\"mean\"__isabs_True__qh_0.6__ql_0.8 is constant\n",
      "WARNING:tsfresh.feature_selection.relevance:[test_feature_significance] Feature sum_click__change_quantiles__f_agg_\"mean\"__isabs_False__qh_0.6__ql_0.6 is constant\n",
      "WARNING:tsfresh.feature_selection.relevance:[test_feature_significance] Feature sum_click__change_quantiles__f_agg_\"var\"__isabs_True__qh_0.4__ql_0.4 is constant\n",
      "WARNING:tsfresh.feature_selection.relevance:[test_feature_significance] Feature sum_click__change_quantiles__f_agg_\"mean\"__isabs_False__qh_0.6__ql_0.8 is constant\n",
      "WARNING:tsfresh.feature_selection.relevance:[test_feature_significance] Feature sum_click__change_quantiles__f_agg_\"mean\"__isabs_True__qh_0.8__ql_0.8 is constant\n",
      "WARNING:tsfresh.feature_selection.relevance:[test_feature_significance] Feature sum_click__change_quantiles__f_agg_\"var\"__isabs_True__qh_0.4__ql_0.6 is constant\n",
      "WARNING:tsfresh.feature_selection.relevance:[test_feature_significance] Feature sum_click__change_quantiles__f_agg_\"mean\"__isabs_False__qh_0.8__ql_0.8 is constant\n",
      "WARNING:tsfresh.feature_selection.relevance:[test_feature_significance] Feature sum_click__change_quantiles__f_agg_\"var\"__isabs_True__qh_0.4__ql_0.8 is constant\n",
      "WARNING:tsfresh.feature_selection.relevance:[test_feature_significance] Feature sum_click__change_quantiles__f_agg_\"var\"__isabs_False__qh_0.2__ql_0.2 is constant\n",
      "WARNING:tsfresh.feature_selection.relevance:[test_feature_significance] Feature sum_click__change_quantiles__f_agg_\"var\"__isabs_True__qh_0.6__ql_0.6 is constant\n",
      "WARNING:tsfresh.feature_selection.relevance:[test_feature_significance] Feature sum_click__change_quantiles__f_agg_\"var\"__isabs_False__qh_0.2__ql_0.4 is constant\n",
      "WARNING:tsfresh.feature_selection.relevance:[test_feature_significance] Feature sum_click__change_quantiles__f_agg_\"var\"__isabs_True__qh_0.6__ql_0.8 is constant\n",
      "WARNING:tsfresh.feature_selection.relevance:[test_feature_significance] Feature sum_click__change_quantiles__f_agg_\"var\"__isabs_False__qh_0.2__ql_0.6 is constant\n",
      "WARNING:tsfresh.feature_selection.relevance:[test_feature_significance] Feature sum_click__change_quantiles__f_agg_\"var\"__isabs_True__qh_0.8__ql_0.8 is constant\n",
      "WARNING:tsfresh.feature_selection.relevance:[test_feature_significance] Feature sum_click__change_quantiles__f_agg_\"var\"__isabs_False__qh_0.2__ql_0.8 is constant\n",
      "WARNING:tsfresh.feature_selection.relevance:[test_feature_significance] Feature sum_click__fft_coefficient__coeff_0__attr_\"angle\" is constant\n",
      "WARNING:tsfresh.feature_selection.relevance:[test_feature_significance] Feature sum_click__fft_coefficient__coeff_0__attr_\"imag\" is constant\n",
      "WARNING:tsfresh.feature_selection.relevance:[test_feature_significance] Feature sum_click__change_quantiles__f_agg_\"var\"__isabs_False__qh_0.4__ql_0.4 is constant\n",
      "WARNING:tsfresh.feature_selection.relevance:[test_feature_significance] Feature sum_click__change_quantiles__f_agg_\"var\"__isabs_False__qh_0.4__ql_0.6 is constant\n",
      "WARNING:tsfresh.feature_selection.relevance:[test_feature_significance] Feature sum_click__change_quantiles__f_agg_\"var\"__isabs_False__qh_0.4__ql_0.8 is constant\n",
      "WARNING:tsfresh.feature_selection.relevance:[test_feature_significance] Feature sum_click__change_quantiles__f_agg_\"var\"__isabs_False__qh_0.6__ql_0.6 is constant\n",
      "WARNING:tsfresh.feature_selection.relevance:[test_feature_significance] Feature sum_click__change_quantiles__f_agg_\"var\"__isabs_False__qh_0.6__ql_0.8 is constant\n",
      "WARNING:tsfresh.feature_selection.relevance:[test_feature_significance] Feature sum_click__change_quantiles__f_agg_\"var\"__isabs_False__qh_0.8__ql_0.8 is constant\n",
      "WARNING:tsfresh.feature_selection.relevance:[test_feature_significance] Feature sum_click__large_standard_deviation__r_0.5 is constant\n",
      "WARNING:tsfresh.feature_selection.relevance:[test_feature_significance] Feature sum_click__number_crossing_m__m_-1 is constant\n",
      "WARNING:tsfresh.feature_selection.relevance:[test_feature_significance] Feature sum_click__large_standard_deviation__r_0.55 is constant\n",
      "WARNING:tsfresh.feature_selection.relevance:[test_feature_significance] Feature sum_click__number_crossing_m__m_0 is constant\n",
      "WARNING:tsfresh.feature_selection.relevance:[test_feature_significance] Feature sum_click__large_standard_deviation__r_0.6000000000000001 is constant\n",
      "WARNING:tsfresh.feature_selection.relevance:[test_feature_significance] Feature sum_click__partial_autocorrelation__lag_0 is constant\n",
      "WARNING:tsfresh.feature_selection.relevance:[test_feature_significance] Feature sum_click__large_standard_deviation__r_0.65 is constant\n",
      "WARNING:tsfresh.feature_selection.relevance:[test_feature_significance] Feature sum_click__symmetry_looking__r_0.0 is constant\n",
      "WARNING:tsfresh.feature_selection.relevance:[test_feature_significance] Feature sum_click__large_standard_deviation__r_0.7000000000000001 is constant\n",
      "WARNING:tsfresh.feature_selection.relevance:[test_feature_significance] Feature sum_click__large_standard_deviation__r_0.75 is constant\n"
     ]
    },
    {
     "name": "stderr",
     "output_type": "stream",
     "text": [
      "WARNING:tsfresh.feature_selection.relevance:[test_feature_significance] Feature sum_click__large_standard_deviation__r_0.8 is constant\n",
      "WARNING:tsfresh.feature_selection.relevance:[test_feature_significance] Feature sum_click__range_count__max_0__min_1000000000000.0 is constant\n",
      "WARNING:tsfresh.feature_selection.relevance:[test_feature_significance] Feature sum_click__large_standard_deviation__r_0.8500000000000001 is constant\n",
      "WARNING:tsfresh.feature_selection.relevance:[test_feature_significance] Feature sum_click__range_count__max_1__min_-1 is constant\n",
      "WARNING:tsfresh.feature_selection.relevance:[test_feature_significance] Feature sum_click__value_count__value_-1 is constant\n",
      "WARNING:tsfresh.feature_selection.relevance:[test_feature_significance] Feature sum_click__large_standard_deviation__r_0.9 is constant\n",
      "WARNING:tsfresh.feature_selection.relevance:[test_feature_significance] Feature sum_click__value_count__value_0 is constant\n",
      "WARNING:tsfresh.feature_selection.relevance:[test_feature_significance] Feature sum_click__large_standard_deviation__r_0.9500000000000001 is constant\n"
     ]
    }
   ],
   "source": [
    "impute(extracted_features)\n",
    "features_filtered = select_features(extracted_features, y)"
   ]
  },
  {
   "cell_type": "code",
   "execution_count": 92,
   "metadata": {},
   "outputs": [
    {
     "data": {
      "text/plain": [
       "Index(['sum_click__count_below_mean',\n",
       "       'sum_click__fft_aggregated__aggtype_\"centroid\"',\n",
       "       'sum_click__range_count__max_1000000000000.0__min_0',\n",
       "       'sum_click__length', 'sum_click__fft_aggregated__aggtype_\"variance\"',\n",
       "       'sum_click__number_peaks__n_1', 'sum_click__number_peaks__n_3',\n",
       "       'sum_click__cid_ce__normalize_True', 'sum_click__number_peaks__n_5',\n",
       "       'sum_click__number_peaks__n_10',\n",
       "       ...\n",
       "       'sum_click__agg_linear_trend__f_agg_\"min\"__chunk_len_10__attr_\"intercept\"',\n",
       "       'sum_click__fft_coefficient__coeff_4__attr_\"angle\"',\n",
       "       'sum_click__fft_coefficient__coeff_25__attr_\"abs\"',\n",
       "       'sum_click__index_mass_quantile__q_0.9',\n",
       "       'sum_click__fft_coefficient__coeff_26__attr_\"abs\"',\n",
       "       'sum_click__cwt_coefficients__widths_(2, 5, 10, 20)__coeff_8__w_10',\n",
       "       'sum_click__fft_coefficient__coeff_3__attr_\"imag\"',\n",
       "       'sum_click__agg_linear_trend__f_agg_\"max\"__chunk_len_50__attr_\"slope\"',\n",
       "       'sum_click__agg_linear_trend__f_agg_\"mean\"__chunk_len_50__attr_\"rvalue\"',\n",
       "       'sum_click__fft_coefficient__coeff_20__attr_\"abs\"'],\n",
       "      dtype='object', name='variable', length=266)"
      ]
     },
     "execution_count": 92,
     "metadata": {},
     "output_type": "execute_result"
    }
   ],
   "source": [
    "features_filtered.columns"
   ]
  },
  {
   "cell_type": "code",
   "execution_count": 93,
   "metadata": {},
   "outputs": [
    {
     "data": {
      "text/html": [
       "<div>\n",
       "<style scoped>\n",
       "    .dataframe tbody tr th:only-of-type {\n",
       "        vertical-align: middle;\n",
       "    }\n",
       "\n",
       "    .dataframe tbody tr th {\n",
       "        vertical-align: top;\n",
       "    }\n",
       "\n",
       "    .dataframe thead th {\n",
       "        text-align: right;\n",
       "    }\n",
       "</style>\n",
       "<table border=\"1\" class=\"dataframe\">\n",
       "  <thead>\n",
       "    <tr style=\"text-align: right;\">\n",
       "      <th>variable</th>\n",
       "      <th>sum_click__count_below_mean</th>\n",
       "      <th>sum_click__fft_aggregated__aggtype_\"centroid\"</th>\n",
       "      <th>sum_click__range_count__max_1000000000000.0__min_0</th>\n",
       "      <th>sum_click__length</th>\n",
       "      <th>sum_click__fft_aggregated__aggtype_\"variance\"</th>\n",
       "      <th>sum_click__number_peaks__n_1</th>\n",
       "      <th>sum_click__number_peaks__n_3</th>\n",
       "      <th>sum_click__cid_ce__normalize_True</th>\n",
       "      <th>sum_click__number_peaks__n_5</th>\n",
       "      <th>sum_click__number_peaks__n_10</th>\n",
       "      <th>...</th>\n",
       "      <th>sum_click__agg_linear_trend__f_agg_\"min\"__chunk_len_10__attr_\"intercept\"</th>\n",
       "      <th>sum_click__fft_coefficient__coeff_4__attr_\"angle\"</th>\n",
       "      <th>sum_click__fft_coefficient__coeff_25__attr_\"abs\"</th>\n",
       "      <th>sum_click__index_mass_quantile__q_0.9</th>\n",
       "      <th>sum_click__fft_coefficient__coeff_26__attr_\"abs\"</th>\n",
       "      <th>sum_click__cwt_coefficients__widths_(2, 5, 10, 20)__coeff_8__w_10</th>\n",
       "      <th>sum_click__fft_coefficient__coeff_3__attr_\"imag\"</th>\n",
       "      <th>sum_click__agg_linear_trend__f_agg_\"max\"__chunk_len_50__attr_\"slope\"</th>\n",
       "      <th>sum_click__agg_linear_trend__f_agg_\"mean\"__chunk_len_50__attr_\"rvalue\"</th>\n",
       "      <th>sum_click__fft_coefficient__coeff_20__attr_\"abs\"</th>\n",
       "    </tr>\n",
       "    <tr>\n",
       "      <th>id</th>\n",
       "      <th></th>\n",
       "      <th></th>\n",
       "      <th></th>\n",
       "      <th></th>\n",
       "      <th></th>\n",
       "      <th></th>\n",
       "      <th></th>\n",
       "      <th></th>\n",
       "      <th></th>\n",
       "      <th></th>\n",
       "      <th></th>\n",
       "      <th></th>\n",
       "      <th></th>\n",
       "      <th></th>\n",
       "      <th></th>\n",
       "      <th></th>\n",
       "      <th></th>\n",
       "      <th></th>\n",
       "      <th></th>\n",
       "      <th></th>\n",
       "      <th></th>\n",
       "    </tr>\n",
       "  </thead>\n",
       "  <tbody>\n",
       "    <tr>\n",
       "      <th>28418</th>\n",
       "      <td>14.0</td>\n",
       "      <td>4.841238</td>\n",
       "      <td>22.0</td>\n",
       "      <td>22.0</td>\n",
       "      <td>14.731253</td>\n",
       "      <td>6.0</td>\n",
       "      <td>3.0</td>\n",
       "      <td>7.169995</td>\n",
       "      <td>1.0</td>\n",
       "      <td>0.0</td>\n",
       "      <td>...</td>\n",
       "      <td>1.000000</td>\n",
       "      <td>-74.332052</td>\n",
       "      <td>188.102563</td>\n",
       "      <td>0.818182</td>\n",
       "      <td>200.753009</td>\n",
       "      <td>45.676160</td>\n",
       "      <td>-27.308763</td>\n",
       "      <td>-19.5</td>\n",
       "      <td>-0.409204</td>\n",
       "      <td>180.925846</td>\n",
       "    </tr>\n",
       "    <tr>\n",
       "      <th>29764</th>\n",
       "      <td>65.0</td>\n",
       "      <td>18.875191</td>\n",
       "      <td>89.0</td>\n",
       "      <td>89.0</td>\n",
       "      <td>195.902422</td>\n",
       "      <td>27.0</td>\n",
       "      <td>13.0</td>\n",
       "      <td>12.631683</td>\n",
       "      <td>5.0</td>\n",
       "      <td>2.0</td>\n",
       "      <td>...</td>\n",
       "      <td>1.533333</td>\n",
       "      <td>151.464895</td>\n",
       "      <td>432.905438</td>\n",
       "      <td>0.955056</td>\n",
       "      <td>55.950577</td>\n",
       "      <td>20.014289</td>\n",
       "      <td>289.893523</td>\n",
       "      <td>175.0</td>\n",
       "      <td>1.000000</td>\n",
       "      <td>107.198076</td>\n",
       "    </tr>\n",
       "    <tr>\n",
       "      <th>29820</th>\n",
       "      <td>51.0</td>\n",
       "      <td>15.210297</td>\n",
       "      <td>71.0</td>\n",
       "      <td>71.0</td>\n",
       "      <td>136.989712</td>\n",
       "      <td>24.0</td>\n",
       "      <td>9.0</td>\n",
       "      <td>12.255684</td>\n",
       "      <td>8.0</td>\n",
       "      <td>3.0</td>\n",
       "      <td>...</td>\n",
       "      <td>1.166667</td>\n",
       "      <td>45.420070</td>\n",
       "      <td>272.938454</td>\n",
       "      <td>0.901408</td>\n",
       "      <td>183.493686</td>\n",
       "      <td>3.314806</td>\n",
       "      <td>78.307330</td>\n",
       "      <td>-66.0</td>\n",
       "      <td>-1.000000</td>\n",
       "      <td>48.151843</td>\n",
       "    </tr>\n",
       "    <tr>\n",
       "      <th>40604</th>\n",
       "      <td>39.0</td>\n",
       "      <td>10.010927</td>\n",
       "      <td>53.0</td>\n",
       "      <td>53.0</td>\n",
       "      <td>62.300896</td>\n",
       "      <td>15.0</td>\n",
       "      <td>6.0</td>\n",
       "      <td>8.495901</td>\n",
       "      <td>3.0</td>\n",
       "      <td>2.0</td>\n",
       "      <td>...</td>\n",
       "      <td>1.380952</td>\n",
       "      <td>-111.471014</td>\n",
       "      <td>34.401666</td>\n",
       "      <td>0.716981</td>\n",
       "      <td>72.829687</td>\n",
       "      <td>11.046074</td>\n",
       "      <td>80.002907</td>\n",
       "      <td>-82.0</td>\n",
       "      <td>-1.000000</td>\n",
       "      <td>88.076735</td>\n",
       "    </tr>\n",
       "    <tr>\n",
       "      <th>42638</th>\n",
       "      <td>132.0</td>\n",
       "      <td>37.899295</td>\n",
       "      <td>193.0</td>\n",
       "      <td>193.0</td>\n",
       "      <td>1009.906465</td>\n",
       "      <td>62.0</td>\n",
       "      <td>26.0</td>\n",
       "      <td>16.321515</td>\n",
       "      <td>10.0</td>\n",
       "      <td>8.0</td>\n",
       "      <td>...</td>\n",
       "      <td>3.728571</td>\n",
       "      <td>168.883418</td>\n",
       "      <td>564.108429</td>\n",
       "      <td>0.906736</td>\n",
       "      <td>249.458270</td>\n",
       "      <td>-5.925546</td>\n",
       "      <td>813.365024</td>\n",
       "      <td>67.5</td>\n",
       "      <td>0.891386</td>\n",
       "      <td>356.311709</td>\n",
       "    </tr>\n",
       "  </tbody>\n",
       "</table>\n",
       "<p>5 rows × 266 columns</p>\n",
       "</div>"
      ],
      "text/plain": [
       "variable  sum_click__count_below_mean  \\\n",
       "id                                      \n",
       "28418                            14.0   \n",
       "29764                            65.0   \n",
       "29820                            51.0   \n",
       "40604                            39.0   \n",
       "42638                           132.0   \n",
       "\n",
       "variable  sum_click__fft_aggregated__aggtype_\"centroid\"  \\\n",
       "id                                                        \n",
       "28418                                          4.841238   \n",
       "29764                                         18.875191   \n",
       "29820                                         15.210297   \n",
       "40604                                         10.010927   \n",
       "42638                                         37.899295   \n",
       "\n",
       "variable  sum_click__range_count__max_1000000000000.0__min_0  \\\n",
       "id                                                             \n",
       "28418                                                  22.0    \n",
       "29764                                                  89.0    \n",
       "29820                                                  71.0    \n",
       "40604                                                  53.0    \n",
       "42638                                                 193.0    \n",
       "\n",
       "variable  sum_click__length  sum_click__fft_aggregated__aggtype_\"variance\"  \\\n",
       "id                                                                           \n",
       "28418                  22.0                                      14.731253   \n",
       "29764                  89.0                                     195.902422   \n",
       "29820                  71.0                                     136.989712   \n",
       "40604                  53.0                                      62.300896   \n",
       "42638                 193.0                                    1009.906465   \n",
       "\n",
       "variable  sum_click__number_peaks__n_1  sum_click__number_peaks__n_3  \\\n",
       "id                                                                     \n",
       "28418                              6.0                           3.0   \n",
       "29764                             27.0                          13.0   \n",
       "29820                             24.0                           9.0   \n",
       "40604                             15.0                           6.0   \n",
       "42638                             62.0                          26.0   \n",
       "\n",
       "variable  sum_click__cid_ce__normalize_True  sum_click__number_peaks__n_5  \\\n",
       "id                                                                          \n",
       "28418                              7.169995                           1.0   \n",
       "29764                             12.631683                           5.0   \n",
       "29820                             12.255684                           8.0   \n",
       "40604                              8.495901                           3.0   \n",
       "42638                             16.321515                          10.0   \n",
       "\n",
       "variable  sum_click__number_peaks__n_10  \\\n",
       "id                                        \n",
       "28418                               0.0   \n",
       "29764                               2.0   \n",
       "29820                               3.0   \n",
       "40604                               2.0   \n",
       "42638                               8.0   \n",
       "\n",
       "variable                        ...                         \\\n",
       "id                              ...                          \n",
       "28418                           ...                          \n",
       "29764                           ...                          \n",
       "29820                           ...                          \n",
       "40604                           ...                          \n",
       "42638                           ...                          \n",
       "\n",
       "variable  sum_click__agg_linear_trend__f_agg_\"min\"__chunk_len_10__attr_\"intercept\"  \\\n",
       "id                                                                                   \n",
       "28418                                              1.000000                          \n",
       "29764                                              1.533333                          \n",
       "29820                                              1.166667                          \n",
       "40604                                              1.380952                          \n",
       "42638                                              3.728571                          \n",
       "\n",
       "variable  sum_click__fft_coefficient__coeff_4__attr_\"angle\"  \\\n",
       "id                                                            \n",
       "28418                                            -74.332052   \n",
       "29764                                            151.464895   \n",
       "29820                                             45.420070   \n",
       "40604                                           -111.471014   \n",
       "42638                                            168.883418   \n",
       "\n",
       "variable  sum_click__fft_coefficient__coeff_25__attr_\"abs\"  \\\n",
       "id                                                           \n",
       "28418                                           188.102563   \n",
       "29764                                           432.905438   \n",
       "29820                                           272.938454   \n",
       "40604                                            34.401666   \n",
       "42638                                           564.108429   \n",
       "\n",
       "variable  sum_click__index_mass_quantile__q_0.9  \\\n",
       "id                                                \n",
       "28418                                  0.818182   \n",
       "29764                                  0.955056   \n",
       "29820                                  0.901408   \n",
       "40604                                  0.716981   \n",
       "42638                                  0.906736   \n",
       "\n",
       "variable  sum_click__fft_coefficient__coeff_26__attr_\"abs\"  \\\n",
       "id                                                           \n",
       "28418                                           200.753009   \n",
       "29764                                            55.950577   \n",
       "29820                                           183.493686   \n",
       "40604                                            72.829687   \n",
       "42638                                           249.458270   \n",
       "\n",
       "variable  sum_click__cwt_coefficients__widths_(2, 5, 10, 20)__coeff_8__w_10  \\\n",
       "id                                                                            \n",
       "28418                                             45.676160                   \n",
       "29764                                             20.014289                   \n",
       "29820                                              3.314806                   \n",
       "40604                                             11.046074                   \n",
       "42638                                             -5.925546                   \n",
       "\n",
       "variable  sum_click__fft_coefficient__coeff_3__attr_\"imag\"  \\\n",
       "id                                                           \n",
       "28418                                           -27.308763   \n",
       "29764                                           289.893523   \n",
       "29820                                            78.307330   \n",
       "40604                                            80.002907   \n",
       "42638                                           813.365024   \n",
       "\n",
       "variable  sum_click__agg_linear_trend__f_agg_\"max\"__chunk_len_50__attr_\"slope\"  \\\n",
       "id                                                                               \n",
       "28418                                                 -19.5                      \n",
       "29764                                                 175.0                      \n",
       "29820                                                 -66.0                      \n",
       "40604                                                 -82.0                      \n",
       "42638                                                  67.5                      \n",
       "\n",
       "variable  sum_click__agg_linear_trend__f_agg_\"mean\"__chunk_len_50__attr_\"rvalue\"  \\\n",
       "id                                                                                 \n",
       "28418                                             -0.409204                        \n",
       "29764                                              1.000000                        \n",
       "29820                                             -1.000000                        \n",
       "40604                                             -1.000000                        \n",
       "42638                                              0.891386                        \n",
       "\n",
       "variable  sum_click__fft_coefficient__coeff_20__attr_\"abs\"  \n",
       "id                                                          \n",
       "28418                                           180.925846  \n",
       "29764                                           107.198076  \n",
       "29820                                            48.151843  \n",
       "40604                                            88.076735  \n",
       "42638                                           356.311709  \n",
       "\n",
       "[5 rows x 266 columns]"
      ]
     },
     "execution_count": 93,
     "metadata": {},
     "output_type": "execute_result"
    }
   ],
   "source": [
    "features_filtered.head()"
   ]
  },
  {
   "cell_type": "markdown",
   "metadata": {},
   "source": [
    "# Random Forest run"
   ]
  },
  {
   "cell_type": "code",
   "execution_count": 94,
   "metadata": {},
   "outputs": [],
   "source": [
    "X_train, X_test, y_train, y_test = train_test_split(features_filtered, y, random_state=21)"
   ]
  },
  {
   "cell_type": "code",
   "execution_count": 95,
   "metadata": {},
   "outputs": [
    {
     "data": {
      "text/plain": [
       "RandomForestClassifier(bootstrap=True, class_weight=None, criterion='gini',\n",
       "                       max_depth=3, max_features='auto', max_leaf_nodes=None,\n",
       "                       min_impurity_decrease=0.0, min_impurity_split=None,\n",
       "                       min_samples_leaf=1, min_samples_split=2,\n",
       "                       min_weight_fraction_leaf=0.0, n_estimators=50,\n",
       "                       n_jobs=None, oob_score=False, random_state=21, verbose=0,\n",
       "                       warm_start=False)"
      ]
     },
     "execution_count": 95,
     "metadata": {},
     "output_type": "execute_result"
    }
   ],
   "source": [
    "rf_clf = RandomForestClassifier(n_estimators = 50, \n",
    "                                max_depth    =  3,\n",
    "                                random_state = 21)\n",
    "rf_clf.fit(X_train, y_train)"
   ]
  },
  {
   "cell_type": "code",
   "execution_count": 96,
   "metadata": {},
   "outputs": [
    {
     "data": {
      "text/plain": [
       "0.7876923076923077"
      ]
     },
     "execution_count": 96,
     "metadata": {},
     "output_type": "execute_result"
    }
   ],
   "source": [
    "rf_clf.score(X_test, y_test)"
   ]
  },
  {
   "cell_type": "code",
   "execution_count": 97,
   "metadata": {},
   "outputs": [
    {
     "data": {
      "text/plain": [
       "0.7753846153846153"
      ]
     },
     "execution_count": 97,
     "metadata": {},
     "output_type": "execute_result"
    }
   ],
   "source": [
    "xgb_clf = xgb.XGBClassifier(n_estimators    = 100, \n",
    "                              max_depth    =  5,\n",
    "                              random_state = 21)\n",
    "xgb_clf.fit(X_train, y_train)\n",
    "xgb_clf.score(X_test, y_test)"
   ]
  },
  {
   "cell_type": "code",
   "execution_count": null,
   "metadata": {},
   "outputs": [],
   "source": []
  }
 ],
 "metadata": {
  "kernelspec": {
   "display_name": "Python 3",
   "language": "python",
   "name": "python3"
  },
  "language_info": {
   "codemirror_mode": {
    "name": "ipython",
    "version": 3
   },
   "file_extension": ".py",
   "mimetype": "text/x-python",
   "name": "python",
   "nbconvert_exporter": "python",
   "pygments_lexer": "ipython3",
   "version": "3.7.3"
  }
 },
 "nbformat": 4,
 "nbformat_minor": 2
}
