{
 "cells": [
  {
   "cell_type": "code",
   "execution_count": 20,
   "metadata": {},
   "outputs": [],
   "source": [
    "import numpy as np\n",
    "import pandas as pd\n",
    "\n",
    "import matplotlib.pyplot as plt\n",
    "%matplotlib inline"
   ]
  },
  {
   "cell_type": "markdown",
   "metadata": {},
   "source": [
    "# Import data"
   ]
  },
  {
   "cell_type": "code",
   "execution_count": 2,
   "metadata": {},
   "outputs": [],
   "source": [
    "stu_vle = pd.read_csv('data/studentVle.csv')"
   ]
  },
  {
   "cell_type": "code",
   "execution_count": 3,
   "metadata": {},
   "outputs": [],
   "source": [
    "stu_as = pd.read_csv('data/studentAssessment.csv')"
   ]
  },
  {
   "cell_type": "code",
   "execution_count": 4,
   "metadata": {},
   "outputs": [],
   "source": [
    "vle = pd.read_csv('data/vle.csv')"
   ]
  },
  {
   "cell_type": "code",
   "execution_count": 5,
   "metadata": {},
   "outputs": [],
   "source": [
    "ass = pd.read_csv('data/assessments.csv')"
   ]
  },
  {
   "cell_type": "code",
   "execution_count": 6,
   "metadata": {},
   "outputs": [],
   "source": [
    "cou = pd.read_csv('data/courses.csv')"
   ]
  },
  {
   "cell_type": "code",
   "execution_count": 60,
   "metadata": {},
   "outputs": [],
   "source": [
    "stu_reg = pd.read_csv('data/studentRegistration.csv')"
   ]
  },
  {
   "cell_type": "markdown",
   "metadata": {},
   "source": [
    "# Load data"
   ]
  },
  {
   "cell_type": "code",
   "execution_count": 7,
   "metadata": {},
   "outputs": [
    {
     "data": {
      "text/html": [
       "<div>\n",
       "<style scoped>\n",
       "    .dataframe tbody tr th:only-of-type {\n",
       "        vertical-align: middle;\n",
       "    }\n",
       "\n",
       "    .dataframe tbody tr th {\n",
       "        vertical-align: top;\n",
       "    }\n",
       "\n",
       "    .dataframe thead th {\n",
       "        text-align: right;\n",
       "    }\n",
       "</style>\n",
       "<table border=\"1\" class=\"dataframe\">\n",
       "  <thead>\n",
       "    <tr style=\"text-align: right;\">\n",
       "      <th></th>\n",
       "      <th>code_module</th>\n",
       "      <th>code_presentation</th>\n",
       "      <th>module_presentation_length</th>\n",
       "    </tr>\n",
       "  </thead>\n",
       "  <tbody>\n",
       "    <tr>\n",
       "      <th>0</th>\n",
       "      <td>AAA</td>\n",
       "      <td>2013J</td>\n",
       "      <td>268</td>\n",
       "    </tr>\n",
       "    <tr>\n",
       "      <th>1</th>\n",
       "      <td>AAA</td>\n",
       "      <td>2014J</td>\n",
       "      <td>269</td>\n",
       "    </tr>\n",
       "    <tr>\n",
       "      <th>2</th>\n",
       "      <td>BBB</td>\n",
       "      <td>2013J</td>\n",
       "      <td>268</td>\n",
       "    </tr>\n",
       "    <tr>\n",
       "      <th>3</th>\n",
       "      <td>BBB</td>\n",
       "      <td>2014J</td>\n",
       "      <td>262</td>\n",
       "    </tr>\n",
       "    <tr>\n",
       "      <th>4</th>\n",
       "      <td>BBB</td>\n",
       "      <td>2013B</td>\n",
       "      <td>240</td>\n",
       "    </tr>\n",
       "  </tbody>\n",
       "</table>\n",
       "</div>"
      ],
      "text/plain": [
       "  code_module code_presentation  module_presentation_length\n",
       "0         AAA             2013J                         268\n",
       "1         AAA             2014J                         269\n",
       "2         BBB             2013J                         268\n",
       "3         BBB             2014J                         262\n",
       "4         BBB             2013B                         240"
      ]
     },
     "execution_count": 7,
     "metadata": {},
     "output_type": "execute_result"
    }
   ],
   "source": [
    "cou.head()"
   ]
  },
  {
   "cell_type": "code",
   "execution_count": 25,
   "metadata": {},
   "outputs": [
    {
     "data": {
      "text/plain": [
       "7"
      ]
     },
     "execution_count": 25,
     "metadata": {},
     "output_type": "execute_result"
    }
   ],
   "source": [
    "cou['code_module'].nunique()"
   ]
  },
  {
   "cell_type": "code",
   "execution_count": 8,
   "metadata": {},
   "outputs": [
    {
     "data": {
      "text/html": [
       "<div>\n",
       "<style scoped>\n",
       "    .dataframe tbody tr th:only-of-type {\n",
       "        vertical-align: middle;\n",
       "    }\n",
       "\n",
       "    .dataframe tbody tr th {\n",
       "        vertical-align: top;\n",
       "    }\n",
       "\n",
       "    .dataframe thead th {\n",
       "        text-align: right;\n",
       "    }\n",
       "</style>\n",
       "<table border=\"1\" class=\"dataframe\">\n",
       "  <thead>\n",
       "    <tr style=\"text-align: right;\">\n",
       "      <th></th>\n",
       "      <th>code_module</th>\n",
       "      <th>code_presentation</th>\n",
       "      <th>id_assessment</th>\n",
       "      <th>assessment_type</th>\n",
       "      <th>date</th>\n",
       "      <th>weight</th>\n",
       "    </tr>\n",
       "  </thead>\n",
       "  <tbody>\n",
       "    <tr>\n",
       "      <th>0</th>\n",
       "      <td>AAA</td>\n",
       "      <td>2013J</td>\n",
       "      <td>1752</td>\n",
       "      <td>TMA</td>\n",
       "      <td>19.0</td>\n",
       "      <td>10.0</td>\n",
       "    </tr>\n",
       "    <tr>\n",
       "      <th>1</th>\n",
       "      <td>AAA</td>\n",
       "      <td>2013J</td>\n",
       "      <td>1753</td>\n",
       "      <td>TMA</td>\n",
       "      <td>54.0</td>\n",
       "      <td>20.0</td>\n",
       "    </tr>\n",
       "    <tr>\n",
       "      <th>2</th>\n",
       "      <td>AAA</td>\n",
       "      <td>2013J</td>\n",
       "      <td>1754</td>\n",
       "      <td>TMA</td>\n",
       "      <td>117.0</td>\n",
       "      <td>20.0</td>\n",
       "    </tr>\n",
       "    <tr>\n",
       "      <th>3</th>\n",
       "      <td>AAA</td>\n",
       "      <td>2013J</td>\n",
       "      <td>1755</td>\n",
       "      <td>TMA</td>\n",
       "      <td>166.0</td>\n",
       "      <td>20.0</td>\n",
       "    </tr>\n",
       "    <tr>\n",
       "      <th>4</th>\n",
       "      <td>AAA</td>\n",
       "      <td>2013J</td>\n",
       "      <td>1756</td>\n",
       "      <td>TMA</td>\n",
       "      <td>215.0</td>\n",
       "      <td>30.0</td>\n",
       "    </tr>\n",
       "  </tbody>\n",
       "</table>\n",
       "</div>"
      ],
      "text/plain": [
       "  code_module code_presentation  id_assessment assessment_type   date  weight\n",
       "0         AAA             2013J           1752             TMA   19.0    10.0\n",
       "1         AAA             2013J           1753             TMA   54.0    20.0\n",
       "2         AAA             2013J           1754             TMA  117.0    20.0\n",
       "3         AAA             2013J           1755             TMA  166.0    20.0\n",
       "4         AAA             2013J           1756             TMA  215.0    30.0"
      ]
     },
     "execution_count": 8,
     "metadata": {},
     "output_type": "execute_result"
    }
   ],
   "source": [
    "ass.head()"
   ]
  },
  {
   "cell_type": "code",
   "execution_count": 26,
   "metadata": {},
   "outputs": [
    {
     "data": {
      "text/plain": [
       "206"
      ]
     },
     "execution_count": 26,
     "metadata": {},
     "output_type": "execute_result"
    }
   ],
   "source": [
    "ass['id_assessment'].nunique()"
   ]
  },
  {
   "cell_type": "code",
   "execution_count": 11,
   "metadata": {},
   "outputs": [
    {
     "data": {
      "text/plain": [
       "array(['TMA', 'Exam', 'CMA'], dtype=object)"
      ]
     },
     "execution_count": 11,
     "metadata": {},
     "output_type": "execute_result"
    }
   ],
   "source": [
    "ass['assessment_type'].unique()"
   ]
  },
  {
   "cell_type": "code",
   "execution_count": 12,
   "metadata": {},
   "outputs": [
    {
     "data": {
      "text/plain": [
       "array([ 10. ,  20. ,  30. , 100. ,   1. ,   5. ,  18. ,   0. ,  35. ,\n",
       "         2. ,   7. ,   8. ,   9. ,  22. ,   3. ,   4. ,   6. ,   7.5,\n",
       "        12.5,  15. ,  17.5,  25. ,  16. ,  28. ])"
      ]
     },
     "execution_count": 12,
     "metadata": {},
     "output_type": "execute_result"
    }
   ],
   "source": [
    "ass['weight'].unique()"
   ]
  },
  {
   "cell_type": "code",
   "execution_count": 40,
   "metadata": {},
   "outputs": [
    {
     "data": {
      "text/plain": [
       "code_module  code_presentation\n",
       "AAA          2013J                 6\n",
       "             2014J                 6\n",
       "BBB          2013B                12\n",
       "             2013J                12\n",
       "             2014B                12\n",
       "             2014J                 6\n",
       "CCC          2014B                10\n",
       "             2014J                10\n",
       "DDD          2013B                14\n",
       "             2013J                 7\n",
       "             2014B                 7\n",
       "             2014J                 7\n",
       "EEE          2013J                 5\n",
       "             2014B                 5\n",
       "             2014J                 5\n",
       "FFF          2013B                13\n",
       "             2013J                13\n",
       "             2014B                13\n",
       "             2014J                13\n",
       "GGG          2013J                10\n",
       "             2014B                10\n",
       "             2014J                10\n",
       "dtype: int64"
      ]
     },
     "execution_count": 40,
     "metadata": {},
     "output_type": "execute_result"
    }
   ],
   "source": [
    "ass.groupby(['code_module','code_presentation']).size()"
   ]
  },
  {
   "cell_type": "code",
   "execution_count": 13,
   "metadata": {},
   "outputs": [
    {
     "data": {
      "text/html": [
       "<div>\n",
       "<style scoped>\n",
       "    .dataframe tbody tr th:only-of-type {\n",
       "        vertical-align: middle;\n",
       "    }\n",
       "\n",
       "    .dataframe tbody tr th {\n",
       "        vertical-align: top;\n",
       "    }\n",
       "\n",
       "    .dataframe thead th {\n",
       "        text-align: right;\n",
       "    }\n",
       "</style>\n",
       "<table border=\"1\" class=\"dataframe\">\n",
       "  <thead>\n",
       "    <tr style=\"text-align: right;\">\n",
       "      <th></th>\n",
       "      <th>id_site</th>\n",
       "      <th>code_module</th>\n",
       "      <th>code_presentation</th>\n",
       "      <th>activity_type</th>\n",
       "      <th>week_from</th>\n",
       "      <th>week_to</th>\n",
       "    </tr>\n",
       "  </thead>\n",
       "  <tbody>\n",
       "    <tr>\n",
       "      <th>0</th>\n",
       "      <td>546943</td>\n",
       "      <td>AAA</td>\n",
       "      <td>2013J</td>\n",
       "      <td>resource</td>\n",
       "      <td>NaN</td>\n",
       "      <td>NaN</td>\n",
       "    </tr>\n",
       "    <tr>\n",
       "      <th>1</th>\n",
       "      <td>546712</td>\n",
       "      <td>AAA</td>\n",
       "      <td>2013J</td>\n",
       "      <td>oucontent</td>\n",
       "      <td>NaN</td>\n",
       "      <td>NaN</td>\n",
       "    </tr>\n",
       "    <tr>\n",
       "      <th>2</th>\n",
       "      <td>546998</td>\n",
       "      <td>AAA</td>\n",
       "      <td>2013J</td>\n",
       "      <td>resource</td>\n",
       "      <td>NaN</td>\n",
       "      <td>NaN</td>\n",
       "    </tr>\n",
       "    <tr>\n",
       "      <th>3</th>\n",
       "      <td>546888</td>\n",
       "      <td>AAA</td>\n",
       "      <td>2013J</td>\n",
       "      <td>url</td>\n",
       "      <td>NaN</td>\n",
       "      <td>NaN</td>\n",
       "    </tr>\n",
       "    <tr>\n",
       "      <th>4</th>\n",
       "      <td>547035</td>\n",
       "      <td>AAA</td>\n",
       "      <td>2013J</td>\n",
       "      <td>resource</td>\n",
       "      <td>NaN</td>\n",
       "      <td>NaN</td>\n",
       "    </tr>\n",
       "  </tbody>\n",
       "</table>\n",
       "</div>"
      ],
      "text/plain": [
       "   id_site code_module code_presentation activity_type  week_from  week_to\n",
       "0   546943         AAA             2013J      resource        NaN      NaN\n",
       "1   546712         AAA             2013J     oucontent        NaN      NaN\n",
       "2   546998         AAA             2013J      resource        NaN      NaN\n",
       "3   546888         AAA             2013J           url        NaN      NaN\n",
       "4   547035         AAA             2013J      resource        NaN      NaN"
      ]
     },
     "execution_count": 13,
     "metadata": {},
     "output_type": "execute_result"
    }
   ],
   "source": [
    "vle.head()"
   ]
  },
  {
   "cell_type": "code",
   "execution_count": 27,
   "metadata": {},
   "outputs": [
    {
     "data": {
      "text/plain": [
       "6364"
      ]
     },
     "execution_count": 27,
     "metadata": {},
     "output_type": "execute_result"
    }
   ],
   "source": [
    "vle['id_site'].nunique()"
   ]
  },
  {
   "cell_type": "code",
   "execution_count": 14,
   "metadata": {},
   "outputs": [
    {
     "data": {
      "text/plain": [
       "array(['resource', 'oucontent', 'url', 'homepage', 'subpage', 'glossary',\n",
       "       'forumng', 'oucollaborate', 'dataplus', 'quiz', 'ouelluminate',\n",
       "       'sharedsubpage', 'questionnaire', 'page', 'externalquiz', 'ouwiki',\n",
       "       'dualpane', 'repeatactivity', 'folder', 'htmlactivity'],\n",
       "      dtype=object)"
      ]
     },
     "execution_count": 14,
     "metadata": {},
     "output_type": "execute_result"
    }
   ],
   "source": [
    "vle['activity_type'].unique()"
   ]
  },
  {
   "cell_type": "code",
   "execution_count": 16,
   "metadata": {},
   "outputs": [
    {
     "data": {
      "text/plain": [
       "resource          2660\n",
       "subpage           1055\n",
       "oucontent          996\n",
       "url                886\n",
       "forumng            194\n",
       "quiz               127\n",
       "page               102\n",
       "oucollaborate       82\n",
       "questionnaire       61\n",
       "ouwiki              49\n",
       "dataplus            28\n",
       "externalquiz        26\n",
       "homepage            22\n",
       "glossary            21\n",
       "ouelluminate        21\n",
       "dualpane            20\n",
       "repeatactivity       5\n",
       "htmlactivity         4\n",
       "sharedsubpage        3\n",
       "folder               2\n",
       "Name: activity_type, dtype: int64"
      ]
     },
     "execution_count": 16,
     "metadata": {},
     "output_type": "execute_result"
    }
   ],
   "source": [
    "vle['activity_type'].value_counts()"
   ]
  },
  {
   "cell_type": "code",
   "execution_count": 17,
   "metadata": {},
   "outputs": [
    {
     "data": {
      "text/html": [
       "<div>\n",
       "<style scoped>\n",
       "    .dataframe tbody tr th:only-of-type {\n",
       "        vertical-align: middle;\n",
       "    }\n",
       "\n",
       "    .dataframe tbody tr th {\n",
       "        vertical-align: top;\n",
       "    }\n",
       "\n",
       "    .dataframe thead th {\n",
       "        text-align: right;\n",
       "    }\n",
       "</style>\n",
       "<table border=\"1\" class=\"dataframe\">\n",
       "  <thead>\n",
       "    <tr style=\"text-align: right;\">\n",
       "      <th></th>\n",
       "      <th>id_assessment</th>\n",
       "      <th>id_student</th>\n",
       "      <th>date_submitted</th>\n",
       "      <th>is_banked</th>\n",
       "      <th>score</th>\n",
       "    </tr>\n",
       "  </thead>\n",
       "  <tbody>\n",
       "    <tr>\n",
       "      <th>0</th>\n",
       "      <td>1752</td>\n",
       "      <td>11391</td>\n",
       "      <td>18</td>\n",
       "      <td>0</td>\n",
       "      <td>78.0</td>\n",
       "    </tr>\n",
       "    <tr>\n",
       "      <th>1</th>\n",
       "      <td>1752</td>\n",
       "      <td>28400</td>\n",
       "      <td>22</td>\n",
       "      <td>0</td>\n",
       "      <td>70.0</td>\n",
       "    </tr>\n",
       "    <tr>\n",
       "      <th>2</th>\n",
       "      <td>1752</td>\n",
       "      <td>31604</td>\n",
       "      <td>17</td>\n",
       "      <td>0</td>\n",
       "      <td>72.0</td>\n",
       "    </tr>\n",
       "    <tr>\n",
       "      <th>3</th>\n",
       "      <td>1752</td>\n",
       "      <td>32885</td>\n",
       "      <td>26</td>\n",
       "      <td>0</td>\n",
       "      <td>69.0</td>\n",
       "    </tr>\n",
       "    <tr>\n",
       "      <th>4</th>\n",
       "      <td>1752</td>\n",
       "      <td>38053</td>\n",
       "      <td>19</td>\n",
       "      <td>0</td>\n",
       "      <td>79.0</td>\n",
       "    </tr>\n",
       "  </tbody>\n",
       "</table>\n",
       "</div>"
      ],
      "text/plain": [
       "   id_assessment  id_student  date_submitted  is_banked  score\n",
       "0           1752       11391              18          0   78.0\n",
       "1           1752       28400              22          0   70.0\n",
       "2           1752       31604              17          0   72.0\n",
       "3           1752       32885              26          0   69.0\n",
       "4           1752       38053              19          0   79.0"
      ]
     },
     "execution_count": 17,
     "metadata": {},
     "output_type": "execute_result"
    }
   ],
   "source": [
    "stu_as.head()"
   ]
  },
  {
   "cell_type": "code",
   "execution_count": 22,
   "metadata": {},
   "outputs": [
    {
     "data": {
      "text/plain": [
       "23369"
      ]
     },
     "execution_count": 22,
     "metadata": {},
     "output_type": "execute_result"
    }
   ],
   "source": [
    "stu_as['id_student'].nunique()"
   ]
  },
  {
   "cell_type": "code",
   "execution_count": 39,
   "metadata": {},
   "outputs": [
    {
     "data": {
      "text/plain": [
       "173912"
      ]
     },
     "execution_count": 39,
     "metadata": {},
     "output_type": "execute_result"
    }
   ],
   "source": [
    "len(stu_as.groupby(['id_assessment','id_student']).size())"
   ]
  },
  {
   "cell_type": "code",
   "execution_count": 18,
   "metadata": {
    "scrolled": true
   },
   "outputs": [
    {
     "data": {
      "text/html": [
       "<div>\n",
       "<style scoped>\n",
       "    .dataframe tbody tr th:only-of-type {\n",
       "        vertical-align: middle;\n",
       "    }\n",
       "\n",
       "    .dataframe tbody tr th {\n",
       "        vertical-align: top;\n",
       "    }\n",
       "\n",
       "    .dataframe thead th {\n",
       "        text-align: right;\n",
       "    }\n",
       "</style>\n",
       "<table border=\"1\" class=\"dataframe\">\n",
       "  <thead>\n",
       "    <tr style=\"text-align: right;\">\n",
       "      <th></th>\n",
       "      <th>code_module</th>\n",
       "      <th>code_presentation</th>\n",
       "      <th>id_student</th>\n",
       "      <th>id_site</th>\n",
       "      <th>date</th>\n",
       "      <th>sum_click</th>\n",
       "    </tr>\n",
       "  </thead>\n",
       "  <tbody>\n",
       "    <tr>\n",
       "      <th>0</th>\n",
       "      <td>AAA</td>\n",
       "      <td>2013J</td>\n",
       "      <td>28400</td>\n",
       "      <td>546652</td>\n",
       "      <td>-10</td>\n",
       "      <td>4</td>\n",
       "    </tr>\n",
       "    <tr>\n",
       "      <th>1</th>\n",
       "      <td>AAA</td>\n",
       "      <td>2013J</td>\n",
       "      <td>28400</td>\n",
       "      <td>546652</td>\n",
       "      <td>-10</td>\n",
       "      <td>1</td>\n",
       "    </tr>\n",
       "    <tr>\n",
       "      <th>2</th>\n",
       "      <td>AAA</td>\n",
       "      <td>2013J</td>\n",
       "      <td>28400</td>\n",
       "      <td>546652</td>\n",
       "      <td>-10</td>\n",
       "      <td>1</td>\n",
       "    </tr>\n",
       "    <tr>\n",
       "      <th>3</th>\n",
       "      <td>AAA</td>\n",
       "      <td>2013J</td>\n",
       "      <td>28400</td>\n",
       "      <td>546614</td>\n",
       "      <td>-10</td>\n",
       "      <td>11</td>\n",
       "    </tr>\n",
       "    <tr>\n",
       "      <th>4</th>\n",
       "      <td>AAA</td>\n",
       "      <td>2013J</td>\n",
       "      <td>28400</td>\n",
       "      <td>546714</td>\n",
       "      <td>-10</td>\n",
       "      <td>1</td>\n",
       "    </tr>\n",
       "  </tbody>\n",
       "</table>\n",
       "</div>"
      ],
      "text/plain": [
       "  code_module code_presentation  id_student  id_site  date  sum_click\n",
       "0         AAA             2013J       28400   546652   -10          4\n",
       "1         AAA             2013J       28400   546652   -10          1\n",
       "2         AAA             2013J       28400   546652   -10          1\n",
       "3         AAA             2013J       28400   546614   -10         11\n",
       "4         AAA             2013J       28400   546714   -10          1"
      ]
     },
     "execution_count": 18,
     "metadata": {},
     "output_type": "execute_result"
    }
   ],
   "source": [
    "stu_vle.head()"
   ]
  },
  {
   "cell_type": "code",
   "execution_count": 28,
   "metadata": {},
   "outputs": [
    {
     "data": {
      "text/plain": [
       "26074"
      ]
     },
     "execution_count": 28,
     "metadata": {},
     "output_type": "execute_result"
    }
   ],
   "source": [
    "stu_vle['id_student'].nunique()"
   ]
  },
  {
   "cell_type": "code",
   "execution_count": 32,
   "metadata": {},
   "outputs": [
    {
     "data": {
      "text/plain": [
       "1960496"
      ]
     },
     "execution_count": 32,
     "metadata": {},
     "output_type": "execute_result"
    }
   ],
   "source": [
    "len(stu_vle.groupby(['id_student','id_site']).size())"
   ]
  },
  {
   "cell_type": "code",
   "execution_count": 36,
   "metadata": {},
   "outputs": [
    {
     "data": {
      "text/plain": [
       "code_module  code_presentation\n",
       "AAA          2013J                 180982\n",
       "             2014J                 169316\n",
       "BBB          2013B                 403266\n",
       "             2013J                 452638\n",
       "             2014B                 273236\n",
       "             2014J                 438424\n",
       "CCC          2014B                 496181\n",
       "             2014J                 711646\n",
       "DDD          2013B                 536837\n",
       "             2013J                 680806\n",
       "             2014B                 379942\n",
       "             2014J                 568901\n",
       "EEE          2013J                 356262\n",
       "             2014B                 202224\n",
       "             2014J                 402947\n",
       "FFF          2013B                 946765\n",
       "             2013J                1172101\n",
       "             2014B                 685274\n",
       "             2014J                1210359\n",
       "GGG          2013J                 145995\n",
       "             2014B                 123319\n",
       "             2014J                 117859\n",
       "dtype: int64"
      ]
     },
     "execution_count": 36,
     "metadata": {},
     "output_type": "execute_result"
    }
   ],
   "source": [
    "stu_vle.groupby(['code_module','code_presentation']).size()"
   ]
  },
  {
   "cell_type": "code",
   "execution_count": 61,
   "metadata": {},
   "outputs": [
    {
     "data": {
      "text/html": [
       "<div>\n",
       "<style scoped>\n",
       "    .dataframe tbody tr th:only-of-type {\n",
       "        vertical-align: middle;\n",
       "    }\n",
       "\n",
       "    .dataframe tbody tr th {\n",
       "        vertical-align: top;\n",
       "    }\n",
       "\n",
       "    .dataframe thead th {\n",
       "        text-align: right;\n",
       "    }\n",
       "</style>\n",
       "<table border=\"1\" class=\"dataframe\">\n",
       "  <thead>\n",
       "    <tr style=\"text-align: right;\">\n",
       "      <th></th>\n",
       "      <th>code_module</th>\n",
       "      <th>code_presentation</th>\n",
       "      <th>id_student</th>\n",
       "      <th>date_registration</th>\n",
       "      <th>date_unregistration</th>\n",
       "    </tr>\n",
       "  </thead>\n",
       "  <tbody>\n",
       "    <tr>\n",
       "      <th>0</th>\n",
       "      <td>AAA</td>\n",
       "      <td>2013J</td>\n",
       "      <td>11391</td>\n",
       "      <td>-159.0</td>\n",
       "      <td>NaN</td>\n",
       "    </tr>\n",
       "    <tr>\n",
       "      <th>1</th>\n",
       "      <td>AAA</td>\n",
       "      <td>2013J</td>\n",
       "      <td>28400</td>\n",
       "      <td>-53.0</td>\n",
       "      <td>NaN</td>\n",
       "    </tr>\n",
       "    <tr>\n",
       "      <th>2</th>\n",
       "      <td>AAA</td>\n",
       "      <td>2013J</td>\n",
       "      <td>30268</td>\n",
       "      <td>-92.0</td>\n",
       "      <td>12.0</td>\n",
       "    </tr>\n",
       "    <tr>\n",
       "      <th>3</th>\n",
       "      <td>AAA</td>\n",
       "      <td>2013J</td>\n",
       "      <td>31604</td>\n",
       "      <td>-52.0</td>\n",
       "      <td>NaN</td>\n",
       "    </tr>\n",
       "    <tr>\n",
       "      <th>4</th>\n",
       "      <td>AAA</td>\n",
       "      <td>2013J</td>\n",
       "      <td>32885</td>\n",
       "      <td>-176.0</td>\n",
       "      <td>NaN</td>\n",
       "    </tr>\n",
       "  </tbody>\n",
       "</table>\n",
       "</div>"
      ],
      "text/plain": [
       "  code_module code_presentation  id_student  date_registration  \\\n",
       "0         AAA             2013J       11391             -159.0   \n",
       "1         AAA             2013J       28400              -53.0   \n",
       "2         AAA             2013J       30268              -92.0   \n",
       "3         AAA             2013J       31604              -52.0   \n",
       "4         AAA             2013J       32885             -176.0   \n",
       "\n",
       "   date_unregistration  \n",
       "0                  NaN  \n",
       "1                  NaN  \n",
       "2                 12.0  \n",
       "3                  NaN  \n",
       "4                  NaN  "
      ]
     },
     "execution_count": 61,
     "metadata": {},
     "output_type": "execute_result"
    }
   ],
   "source": [
    "stu_reg.head()"
   ]
  },
  {
   "cell_type": "markdown",
   "metadata": {},
   "source": [
    "# Create AAA toy subsets"
   ]
  },
  {
   "cell_type": "code",
   "execution_count": 42,
   "metadata": {},
   "outputs": [],
   "source": [
    "stvl_aaa = stu_vle[stu_vle.code_module.isin(['AAA'])]"
   ]
  },
  {
   "cell_type": "code",
   "execution_count": 43,
   "metadata": {},
   "outputs": [
    {
     "data": {
      "text/plain": [
       "350298"
      ]
     },
     "execution_count": 43,
     "metadata": {},
     "output_type": "execute_result"
    }
   ],
   "source": [
    "len(stvl_aaa)"
   ]
  },
  {
   "cell_type": "code",
   "execution_count": 44,
   "metadata": {},
   "outputs": [],
   "source": [
    "stvl_aaa.to_csv('data/stvl_aaa.csv', index=False, header=True)"
   ]
  },
  {
   "cell_type": "code",
   "execution_count": 54,
   "metadata": {},
   "outputs": [
    {
     "data": {
      "text/plain": [
       "[1752, 1753, 1754, 1755, 1756, 1757, 1758, 1759, 1760, 1761, 1762, 1763]"
      ]
     },
     "execution_count": 54,
     "metadata": {},
     "output_type": "execute_result"
    }
   ],
   "source": [
    "aaa_assess = ass[ass.code_module.isin(['AAA'])]['id_assessment'].tolist()\n",
    "aaa_assess"
   ]
  },
  {
   "cell_type": "code",
   "execution_count": 56,
   "metadata": {},
   "outputs": [],
   "source": [
    "stas_aaa = stu_as[stu_as.id_assessment.isin(aaa_assess)]"
   ]
  },
  {
   "cell_type": "code",
   "execution_count": 57,
   "metadata": {},
   "outputs": [],
   "source": [
    "stas_aaa.to_csv('data/stas_aaa.csv', index=False, header=True)"
   ]
  },
  {
   "cell_type": "code",
   "execution_count": 64,
   "metadata": {},
   "outputs": [],
   "source": [
    "ass_aaa = ass[ass.code_module.isin(['AAA'])]"
   ]
  },
  {
   "cell_type": "code",
   "execution_count": 65,
   "metadata": {},
   "outputs": [],
   "source": [
    "ass_aaa.to_csv('data/ass_aaa.csv', index=False, header=True)"
   ]
  },
  {
   "cell_type": "markdown",
   "metadata": {},
   "source": [
    "# Loading toy AAA"
   ]
  },
  {
   "cell_type": "code",
   "execution_count": 60,
   "metadata": {},
   "outputs": [],
   "source": [
    "toy = pd.read_csv('data/stvl_aaa.csv')"
   ]
  },
  {
   "cell_type": "code",
   "execution_count": 61,
   "metadata": {},
   "outputs": [
    {
     "data": {
      "text/html": [
       "<div>\n",
       "<style scoped>\n",
       "    .dataframe tbody tr th:only-of-type {\n",
       "        vertical-align: middle;\n",
       "    }\n",
       "\n",
       "    .dataframe tbody tr th {\n",
       "        vertical-align: top;\n",
       "    }\n",
       "\n",
       "    .dataframe thead th {\n",
       "        text-align: right;\n",
       "    }\n",
       "</style>\n",
       "<table border=\"1\" class=\"dataframe\">\n",
       "  <thead>\n",
       "    <tr style=\"text-align: right;\">\n",
       "      <th></th>\n",
       "      <th>code_module</th>\n",
       "      <th>code_presentation</th>\n",
       "      <th>id_student</th>\n",
       "      <th>id_site</th>\n",
       "      <th>date</th>\n",
       "      <th>sum_click</th>\n",
       "    </tr>\n",
       "  </thead>\n",
       "  <tbody>\n",
       "    <tr>\n",
       "      <th>0</th>\n",
       "      <td>AAA</td>\n",
       "      <td>2013J</td>\n",
       "      <td>28400</td>\n",
       "      <td>546652</td>\n",
       "      <td>-10</td>\n",
       "      <td>4</td>\n",
       "    </tr>\n",
       "    <tr>\n",
       "      <th>1</th>\n",
       "      <td>AAA</td>\n",
       "      <td>2013J</td>\n",
       "      <td>28400</td>\n",
       "      <td>546652</td>\n",
       "      <td>-10</td>\n",
       "      <td>1</td>\n",
       "    </tr>\n",
       "    <tr>\n",
       "      <th>2</th>\n",
       "      <td>AAA</td>\n",
       "      <td>2013J</td>\n",
       "      <td>28400</td>\n",
       "      <td>546652</td>\n",
       "      <td>-10</td>\n",
       "      <td>1</td>\n",
       "    </tr>\n",
       "    <tr>\n",
       "      <th>3</th>\n",
       "      <td>AAA</td>\n",
       "      <td>2013J</td>\n",
       "      <td>28400</td>\n",
       "      <td>546614</td>\n",
       "      <td>-10</td>\n",
       "      <td>11</td>\n",
       "    </tr>\n",
       "    <tr>\n",
       "      <th>4</th>\n",
       "      <td>AAA</td>\n",
       "      <td>2013J</td>\n",
       "      <td>28400</td>\n",
       "      <td>546714</td>\n",
       "      <td>-10</td>\n",
       "      <td>1</td>\n",
       "    </tr>\n",
       "  </tbody>\n",
       "</table>\n",
       "</div>"
      ],
      "text/plain": [
       "  code_module code_presentation  id_student  id_site  date  sum_click\n",
       "0         AAA             2013J       28400   546652   -10          4\n",
       "1         AAA             2013J       28400   546652   -10          1\n",
       "2         AAA             2013J       28400   546652   -10          1\n",
       "3         AAA             2013J       28400   546614   -10         11\n",
       "4         AAA             2013J       28400   546714   -10          1"
      ]
     },
     "execution_count": 61,
     "metadata": {},
     "output_type": "execute_result"
    }
   ],
   "source": [
    "toy.head()"
   ]
  },
  {
   "cell_type": "code",
   "execution_count": 48,
   "metadata": {},
   "outputs": [
    {
     "data": {
      "text/plain": [
       "350298"
      ]
     },
     "execution_count": 48,
     "metadata": {},
     "output_type": "execute_result"
    }
   ],
   "source": [
    "len(toy)"
   ]
  },
  {
   "cell_type": "markdown",
   "metadata": {},
   "source": [
    "# EDA"
   ]
  },
  {
   "cell_type": "markdown",
   "metadata": {},
   "source": [
    "## Total num of clicks per course"
   ]
  },
  {
   "cell_type": "code",
   "execution_count": 14,
   "metadata": {},
   "outputs": [],
   "source": [
    "course_clicks = stu_vle.groupby(['code_module', 'code_presentation'])['sum_click'].sum()"
   ]
  },
  {
   "cell_type": "code",
   "execution_count": 19,
   "metadata": {},
   "outputs": [
    {
     "data": {
      "text/plain": [
       "code_module  code_presentation\n",
       "AAA          2013J                 648494\n",
       "             2014J                 598158\n",
       "BBB          2013B                1347911\n",
       "             2013J                1378656\n",
       "             2014B                 833865\n",
       "             2014J                1673744\n",
       "CCC          2014B                1889177\n",
       "             2014J                2792972\n",
       "DDD          2013B                1387467\n",
       "             2013J                1757214\n",
       "             2014B                 947657\n",
       "             2014J                1437751\n",
       "EEE          2013J                1535953\n",
       "             2014B                 832038\n",
       "             2014J                1616236\n",
       "FFF          2013B                4220055\n",
       "             2013J                5116439\n",
       "             2014B                2975619\n",
       "             2014J                5281809\n",
       "GGG          2013J                 509091\n",
       "             2014B                 425165\n",
       "             2014J                 399628\n",
       "Name: sum_click, dtype: int64"
      ]
     },
     "execution_count": 19,
     "metadata": {},
     "output_type": "execute_result"
    }
   ],
   "source": [
    "course_clicks"
   ]
  },
  {
   "cell_type": "code",
   "execution_count": 25,
   "metadata": {},
   "outputs": [
    {
     "data": {
      "text/plain": [
       "<matplotlib.axes._subplots.AxesSubplot at 0x12600cfd0>"
      ]
     },
     "execution_count": 25,
     "metadata": {},
     "output_type": "execute_result"
    },
    {
     "data": {
      "image/png": "[encoded data removed]",
      "text/plain": [
       "<Figure size 432x288 with 1 Axes>"
      ]
     },
     "metadata": {
      "needs_background": "light"
     },
     "output_type": "display_data"
    }
   ],
   "source": [
    "course_clicks.plot.bar()"
   ]
  },
  {
   "cell_type": "code",
   "execution_count": 42,
   "metadata": {},
   "outputs": [
    {
     "data": {
      "text/html": [
       "<div>\n",
       "<style scoped>\n",
       "    .dataframe tbody tr th:only-of-type {\n",
       "        vertical-align: middle;\n",
       "    }\n",
       "\n",
       "    .dataframe tbody tr th {\n",
       "        vertical-align: top;\n",
       "    }\n",
       "\n",
       "    .dataframe thead tr th {\n",
       "        text-align: left;\n",
       "    }\n",
       "\n",
       "    .dataframe thead tr:last-of-type th {\n",
       "        text-align: right;\n",
       "    }\n",
       "</style>\n",
       "<table border=\"1\" class=\"dataframe\">\n",
       "  <thead>\n",
       "    <tr>\n",
       "      <th></th>\n",
       "      <th></th>\n",
       "      <th colspan=\"3\" halign=\"left\">id_student</th>\n",
       "      <th colspan=\"3\" halign=\"left\">id_site</th>\n",
       "      <th colspan=\"3\" halign=\"left\">date</th>\n",
       "      <th colspan=\"3\" halign=\"left\">sum_click</th>\n",
       "    </tr>\n",
       "    <tr>\n",
       "      <th></th>\n",
       "      <th></th>\n",
       "      <th>sum</th>\n",
       "      <th>min</th>\n",
       "      <th>max</th>\n",
       "      <th>sum</th>\n",
       "      <th>min</th>\n",
       "      <th>max</th>\n",
       "      <th>sum</th>\n",
       "      <th>min</th>\n",
       "      <th>max</th>\n",
       "      <th>sum</th>\n",
       "      <th>min</th>\n",
       "      <th>max</th>\n",
       "    </tr>\n",
       "    <tr>\n",
       "      <th>code_module</th>\n",
       "      <th>code_presentation</th>\n",
       "      <th></th>\n",
       "      <th></th>\n",
       "      <th></th>\n",
       "      <th></th>\n",
       "      <th></th>\n",
       "      <th></th>\n",
       "      <th></th>\n",
       "      <th></th>\n",
       "      <th></th>\n",
       "      <th></th>\n",
       "      <th></th>\n",
       "      <th></th>\n",
       "    </tr>\n",
       "  </thead>\n",
       "  <tbody>\n",
       "    <tr>\n",
       "      <th rowspan=\"2\" valign=\"top\">AAA</th>\n",
       "      <th>2013J</th>\n",
       "      <td>199386609634</td>\n",
       "      <td>11391</td>\n",
       "      <td>2698257</td>\n",
       "      <td>98944284766</td>\n",
       "      <td>546614</td>\n",
       "      <td>547067</td>\n",
       "      <td>19109611</td>\n",
       "      <td>-10</td>\n",
       "      <td>268</td>\n",
       "      <td>648494</td>\n",
       "      <td>1</td>\n",
       "      <td>1326</td>\n",
       "    </tr>\n",
       "    <tr>\n",
       "      <th>2014J</th>\n",
       "      <td>159148136626</td>\n",
       "      <td>6516</td>\n",
       "      <td>2694788</td>\n",
       "      <td>148574301841</td>\n",
       "      <td>877011</td>\n",
       "      <td>1010323</td>\n",
       "      <td>16828326</td>\n",
       "      <td>-24</td>\n",
       "      <td>269</td>\n",
       "      <td>598158</td>\n",
       "      <td>1</td>\n",
       "      <td>659</td>\n",
       "    </tr>\n",
       "    <tr>\n",
       "      <th rowspan=\"4\" valign=\"top\">BBB</th>\n",
       "      <th>2013B</th>\n",
       "      <td>276719953365</td>\n",
       "      <td>23629</td>\n",
       "      <td>2692384</td>\n",
       "      <td>218931474466</td>\n",
       "      <td>542792</td>\n",
       "      <td>543324</td>\n",
       "      <td>34706398</td>\n",
       "      <td>-9</td>\n",
       "      <td>240</td>\n",
       "      <td>1347911</td>\n",
       "      <td>1</td>\n",
       "      <td>381</td>\n",
       "    </tr>\n",
       "    <tr>\n",
       "      <th>2013J</th>\n",
       "      <td>302492080405</td>\n",
       "      <td>23798</td>\n",
       "      <td>2693772</td>\n",
       "      <td>318583367965</td>\n",
       "      <td>703721</td>\n",
       "      <td>704240</td>\n",
       "      <td>45995866</td>\n",
       "      <td>-23</td>\n",
       "      <td>268</td>\n",
       "      <td>1378656</td>\n",
       "      <td>1</td>\n",
       "      <td>212</td>\n",
       "    </tr>\n",
       "    <tr>\n",
       "      <th>2014B</th>\n",
       "      <td>198720685798</td>\n",
       "      <td>25629</td>\n",
       "      <td>2690136</td>\n",
       "      <td>209955393579</td>\n",
       "      <td>768330</td>\n",
       "      <td>768788</td>\n",
       "      <td>24555787</td>\n",
       "      <td>-9</td>\n",
       "      <td>234</td>\n",
       "      <td>833865</td>\n",
       "      <td>1</td>\n",
       "      <td>223</td>\n",
       "    </tr>\n",
       "    <tr>\n",
       "      <th>2014J</th>\n",
       "      <td>326471028976</td>\n",
       "      <td>26315</td>\n",
       "      <td>2698588</td>\n",
       "      <td>403289283763</td>\n",
       "      <td>913464</td>\n",
       "      <td>1010038</td>\n",
       "      <td>42886703</td>\n",
       "      <td>-9</td>\n",
       "      <td>262</td>\n",
       "      <td>1673744</td>\n",
       "      <td>1</td>\n",
       "      <td>2664</td>\n",
       "    </tr>\n",
       "    <tr>\n",
       "      <th rowspan=\"2\" valign=\"top\">CCC</th>\n",
       "      <th>2014B</th>\n",
       "      <td>359786104564</td>\n",
       "      <td>28418</td>\n",
       "      <td>2698535</td>\n",
       "      <td>362132449281</td>\n",
       "      <td>729671</td>\n",
       "      <td>730135</td>\n",
       "      <td>46831035</td>\n",
       "      <td>-18</td>\n",
       "      <td>241</td>\n",
       "      <td>1889177</td>\n",
       "      <td>1</td>\n",
       "      <td>1517</td>\n",
       "    </tr>\n",
       "    <tr>\n",
       "      <th>2014J</th>\n",
       "      <td>534795675403</td>\n",
       "      <td>23698</td>\n",
       "      <td>2691861</td>\n",
       "      <td>648926507671</td>\n",
       "      <td>909013</td>\n",
       "      <td>1049562</td>\n",
       "      <td>73212864</td>\n",
       "      <td>-18</td>\n",
       "      <td>269</td>\n",
       "      <td>2792972</td>\n",
       "      <td>1</td>\n",
       "      <td>2853</td>\n",
       "    </tr>\n",
       "    <tr>\n",
       "      <th rowspan=\"4\" valign=\"top\">DDD</th>\n",
       "      <th>2013B</th>\n",
       "      <td>399924598959</td>\n",
       "      <td>40419</td>\n",
       "      <td>2697773</td>\n",
       "      <td>293970643477</td>\n",
       "      <td>547267</td>\n",
       "      <td>547968</td>\n",
       "      <td>43979377</td>\n",
       "      <td>-16</td>\n",
       "      <td>240</td>\n",
       "      <td>1387467</td>\n",
       "      <td>1</td>\n",
       "      <td>514</td>\n",
       "    </tr>\n",
       "    <tr>\n",
       "      <th>2013J</th>\n",
       "      <td>504075112984</td>\n",
       "      <td>8462</td>\n",
       "      <td>2695608</td>\n",
       "      <td>458752543519</td>\n",
       "      <td>673519</td>\n",
       "      <td>674461</td>\n",
       "      <td>64656344</td>\n",
       "      <td>-18</td>\n",
       "      <td>261</td>\n",
       "      <td>1757214</td>\n",
       "      <td>1</td>\n",
       "      <td>6977</td>\n",
       "    </tr>\n",
       "    <tr>\n",
       "      <th>2014B</th>\n",
       "      <td>302406429998</td>\n",
       "      <td>24213</td>\n",
       "      <td>2698251</td>\n",
       "      <td>293689280324</td>\n",
       "      <td>772698</td>\n",
       "      <td>773472</td>\n",
       "      <td>31471482</td>\n",
       "      <td>-18</td>\n",
       "      <td>241</td>\n",
       "      <td>947657</td>\n",
       "      <td>1</td>\n",
       "      <td>3958</td>\n",
       "    </tr>\n",
       "    <tr>\n",
       "      <th>2014J</th>\n",
       "      <td>424709892726</td>\n",
       "      <td>8462</td>\n",
       "      <td>2689863</td>\n",
       "      <td>470516211881</td>\n",
       "      <td>813701</td>\n",
       "      <td>1046812</td>\n",
       "      <td>55620042</td>\n",
       "      <td>-25</td>\n",
       "      <td>262</td>\n",
       "      <td>1437751</td>\n",
       "      <td>1</td>\n",
       "      <td>4953</td>\n",
       "    </tr>\n",
       "    <tr>\n",
       "      <th rowspan=\"3\" valign=\"top\">EEE</th>\n",
       "      <th>2013J</th>\n",
       "      <td>257075092251</td>\n",
       "      <td>26915</td>\n",
       "      <td>2698535</td>\n",
       "      <td>196319076609</td>\n",
       "      <td>551010</td>\n",
       "      <td>551177</td>\n",
       "      <td>32874986</td>\n",
       "      <td>-11</td>\n",
       "      <td>268</td>\n",
       "      <td>1535953</td>\n",
       "      <td>1</td>\n",
       "      <td>4523</td>\n",
       "    </tr>\n",
       "    <tr>\n",
       "      <th>2014B</th>\n",
       "      <td>140977821807</td>\n",
       "      <td>25150</td>\n",
       "      <td>2662742</td>\n",
       "      <td>159921676566</td>\n",
       "      <td>790732</td>\n",
       "      <td>790941</td>\n",
       "      <td>18126560</td>\n",
       "      <td>-18</td>\n",
       "      <td>241</td>\n",
       "      <td>832038</td>\n",
       "      <td>1</td>\n",
       "      <td>1497</td>\n",
       "    </tr>\n",
       "    <tr>\n",
       "      <th>2014J</th>\n",
       "      <td>292261547892</td>\n",
       "      <td>46048</td>\n",
       "      <td>2686712</td>\n",
       "      <td>340127794919</td>\n",
       "      <td>832565</td>\n",
       "      <td>988994</td>\n",
       "      <td>40297948</td>\n",
       "      <td>-18</td>\n",
       "      <td>269</td>\n",
       "      <td>1616236</td>\n",
       "      <td>1</td>\n",
       "      <td>1442</td>\n",
       "    </tr>\n",
       "    <tr>\n",
       "      <th rowspan=\"4\" valign=\"top\">FFF</th>\n",
       "      <th>2013B</th>\n",
       "      <td>654062091751</td>\n",
       "      <td>33915</td>\n",
       "      <td>2691740</td>\n",
       "      <td>498918653754</td>\n",
       "      <td>526721</td>\n",
       "      <td>527527</td>\n",
       "      <td>84443786</td>\n",
       "      <td>-18</td>\n",
       "      <td>240</td>\n",
       "      <td>4220055</td>\n",
       "      <td>1</td>\n",
       "      <td>4098</td>\n",
       "    </tr>\n",
       "    <tr>\n",
       "      <th>2013J</th>\n",
       "      <td>827745181966</td>\n",
       "      <td>26247</td>\n",
       "      <td>2698125</td>\n",
       "      <td>839708360047</td>\n",
       "      <td>716215</td>\n",
       "      <td>717017</td>\n",
       "      <td>109682206</td>\n",
       "      <td>-18</td>\n",
       "      <td>268</td>\n",
       "      <td>5116439</td>\n",
       "      <td>1</td>\n",
       "      <td>1836</td>\n",
       "    </tr>\n",
       "    <tr>\n",
       "      <th>2014B</th>\n",
       "      <td>480883958336</td>\n",
       "      <td>26211</td>\n",
       "      <td>2697885</td>\n",
       "      <td>534074771667</td>\n",
       "      <td>779071</td>\n",
       "      <td>779840</td>\n",
       "      <td>61339813</td>\n",
       "      <td>-18</td>\n",
       "      <td>241</td>\n",
       "      <td>2975619</td>\n",
       "      <td>1</td>\n",
       "      <td>864</td>\n",
       "    </tr>\n",
       "    <tr>\n",
       "      <th>2014J</th>\n",
       "      <td>907736138006</td>\n",
       "      <td>31296</td>\n",
       "      <td>2697921</td>\n",
       "      <td>1070904450743</td>\n",
       "      <td>882537</td>\n",
       "      <td>1011388</td>\n",
       "      <td>120895867</td>\n",
       "      <td>-18</td>\n",
       "      <td>269</td>\n",
       "      <td>5281809</td>\n",
       "      <td>1</td>\n",
       "      <td>755</td>\n",
       "    </tr>\n",
       "    <tr>\n",
       "      <th rowspan=\"3\" valign=\"top\">GGG</th>\n",
       "      <th>2013J</th>\n",
       "      <td>101209627968</td>\n",
       "      <td>24391</td>\n",
       "      <td>2679694</td>\n",
       "      <td>96593189290</td>\n",
       "      <td>661570</td>\n",
       "      <td>661811</td>\n",
       "      <td>18760874</td>\n",
       "      <td>-16</td>\n",
       "      <td>261</td>\n",
       "      <td>509091</td>\n",
       "      <td>1</td>\n",
       "      <td>488</td>\n",
       "    </tr>\n",
       "    <tr>\n",
       "      <th>2014B</th>\n",
       "      <td>79883676833</td>\n",
       "      <td>24186</td>\n",
       "      <td>2695362</td>\n",
       "      <td>98490957213</td>\n",
       "      <td>798617</td>\n",
       "      <td>798835</td>\n",
       "      <td>14562707</td>\n",
       "      <td>-8</td>\n",
       "      <td>241</td>\n",
       "      <td>425165</td>\n",
       "      <td>1</td>\n",
       "      <td>470</td>\n",
       "    </tr>\n",
       "    <tr>\n",
       "      <th>2014J</th>\n",
       "      <td>83403042169</td>\n",
       "      <td>31205</td>\n",
       "      <td>2684003</td>\n",
       "      <td>105718058953</td>\n",
       "      <td>896938</td>\n",
       "      <td>897154</td>\n",
       "      <td>13267032</td>\n",
       "      <td>-16</td>\n",
       "      <td>269</td>\n",
       "      <td>399628</td>\n",
       "      <td>1</td>\n",
       "      <td>534</td>\n",
       "    </tr>\n",
       "  </tbody>\n",
       "</table>\n",
       "</div>"
      ],
      "text/plain": [
       "                                 id_student                        id_site  \\\n",
       "                                        sum    min      max            sum   \n",
       "code_module code_presentation                                                \n",
       "AAA         2013J              199386609634  11391  2698257    98944284766   \n",
       "            2014J              159148136626   6516  2694788   148574301841   \n",
       "BBB         2013B              276719953365  23629  2692384   218931474466   \n",
       "            2013J              302492080405  23798  2693772   318583367965   \n",
       "            2014B              198720685798  25629  2690136   209955393579   \n",
       "            2014J              326471028976  26315  2698588   403289283763   \n",
       "CCC         2014B              359786104564  28418  2698535   362132449281   \n",
       "            2014J              534795675403  23698  2691861   648926507671   \n",
       "DDD         2013B              399924598959  40419  2697773   293970643477   \n",
       "            2013J              504075112984   8462  2695608   458752543519   \n",
       "            2014B              302406429998  24213  2698251   293689280324   \n",
       "            2014J              424709892726   8462  2689863   470516211881   \n",
       "EEE         2013J              257075092251  26915  2698535   196319076609   \n",
       "            2014B              140977821807  25150  2662742   159921676566   \n",
       "            2014J              292261547892  46048  2686712   340127794919   \n",
       "FFF         2013B              654062091751  33915  2691740   498918653754   \n",
       "            2013J              827745181966  26247  2698125   839708360047   \n",
       "            2014B              480883958336  26211  2697885   534074771667   \n",
       "            2014J              907736138006  31296  2697921  1070904450743   \n",
       "GGG         2013J              101209627968  24391  2679694    96593189290   \n",
       "            2014B               79883676833  24186  2695362    98490957213   \n",
       "            2014J               83403042169  31205  2684003   105718058953   \n",
       "\n",
       "                                                     date          sum_click  \\\n",
       "                                  min      max        sum min  max       sum   \n",
       "code_module code_presentation                                                  \n",
       "AAA         2013J              546614   547067   19109611 -10  268    648494   \n",
       "            2014J              877011  1010323   16828326 -24  269    598158   \n",
       "BBB         2013B              542792   543324   34706398  -9  240   1347911   \n",
       "            2013J              703721   704240   45995866 -23  268   1378656   \n",
       "            2014B              768330   768788   24555787  -9  234    833865   \n",
       "            2014J              913464  1010038   42886703  -9  262   1673744   \n",
       "CCC         2014B              729671   730135   46831035 -18  241   1889177   \n",
       "            2014J              909013  1049562   73212864 -18  269   2792972   \n",
       "DDD         2013B              547267   547968   43979377 -16  240   1387467   \n",
       "            2013J              673519   674461   64656344 -18  261   1757214   \n",
       "            2014B              772698   773472   31471482 -18  241    947657   \n",
       "            2014J              813701  1046812   55620042 -25  262   1437751   \n",
       "EEE         2013J              551010   551177   32874986 -11  268   1535953   \n",
       "            2014B              790732   790941   18126560 -18  241    832038   \n",
       "            2014J              832565   988994   40297948 -18  269   1616236   \n",
       "FFF         2013B              526721   527527   84443786 -18  240   4220055   \n",
       "            2013J              716215   717017  109682206 -18  268   5116439   \n",
       "            2014B              779071   779840   61339813 -18  241   2975619   \n",
       "            2014J              882537  1011388  120895867 -18  269   5281809   \n",
       "GGG         2013J              661570   661811   18760874 -16  261    509091   \n",
       "            2014B              798617   798835   14562707  -8  241    425165   \n",
       "            2014J              896938   897154   13267032 -16  269    399628   \n",
       "\n",
       "                                         \n",
       "                              min   max  \n",
       "code_module code_presentation            \n",
       "AAA         2013J               1  1326  \n",
       "            2014J               1   659  \n",
       "BBB         2013B               1   381  \n",
       "            2013J               1   212  \n",
       "            2014B               1   223  \n",
       "            2014J               1  2664  \n",
       "CCC         2014B               1  1517  \n",
       "            2014J               1  2853  \n",
       "DDD         2013B               1   514  \n",
       "            2013J               1  6977  \n",
       "            2014B               1  3958  \n",
       "            2014J               1  4953  \n",
       "EEE         2013J               1  4523  \n",
       "            2014B               1  1497  \n",
       "            2014J               1  1442  \n",
       "FFF         2013B               1  4098  \n",
       "            2013J               1  1836  \n",
       "            2014B               1   864  \n",
       "            2014J               1   755  \n",
       "GGG         2013J               1   488  \n",
       "            2014B               1   470  \n",
       "            2014J               1   534  "
      ]
     },
     "execution_count": 42,
     "metadata": {},
     "output_type": "execute_result"
    }
   ],
   "source": [
    "stu_vle.groupby(['code_module', 'code_presentation']).agg([sum, min, max])"
   ]
  },
  {
   "cell_type": "markdown",
   "metadata": {},
   "source": [
    "### sanity check - questionable"
   ]
  },
  {
   "cell_type": "code",
   "execution_count": 43,
   "metadata": {},
   "outputs": [
    {
     "data": {
      "text/plain": [
       "code_module  code_presentation\n",
       "AAA          2013J                  121977\n",
       "             2014J                  344433\n",
       "BBB          2013B                  540203\n",
       "             2013J                  766117\n",
       "             2014B                 1328194\n",
       "             2014J                 1744198\n",
       "CCC          2014B                 2113903\n",
       "             2014J                 2803808\n",
       "DDD          2013B                 3439876\n",
       "             2013J                 3907683\n",
       "             2014B                 4482533\n",
       "             2014J                 5072596\n",
       "EEE          2013J                 5469679\n",
       "             2014B                 5796255\n",
       "             2014J                 6156812\n",
       "FFF          2013B                 6331815\n",
       "             2013J                 7732926\n",
       "             2014B                 8394700\n",
       "             2014J                10173930\n",
       "GGG          2013J                10360820\n",
       "             2014B                10478288\n",
       "             2014J                10546962\n",
       "Name: sum_click, dtype: int64"
      ]
     },
     "execution_count": 43,
     "metadata": {},
     "output_type": "execute_result"
    }
   ],
   "source": [
    "stu_vle.groupby(['code_module', 'code_presentation']).sum_click.idxmax()"
   ]
  },
  {
   "cell_type": "code",
   "execution_count": 45,
   "metadata": {},
   "outputs": [
    {
     "data": {
      "text/plain": [
       "code_module              AAA\n",
       "code_presentation      2013J\n",
       "id_student           1894188\n",
       "id_site               546703\n",
       "date                     155\n",
       "sum_click               1326\n",
       "Name: 121977, dtype: object"
      ]
     },
     "execution_count": 45,
     "metadata": {},
     "output_type": "execute_result"
    }
   ],
   "source": [
    "stu_vle.iloc[121977]"
   ]
  },
  {
   "cell_type": "code",
   "execution_count": 49,
   "metadata": {},
   "outputs": [
    {
     "data": {
      "text/html": [
       "<div>\n",
       "<style scoped>\n",
       "    .dataframe tbody tr th:only-of-type {\n",
       "        vertical-align: middle;\n",
       "    }\n",
       "\n",
       "    .dataframe tbody tr th {\n",
       "        vertical-align: top;\n",
       "    }\n",
       "\n",
       "    .dataframe thead th {\n",
       "        text-align: right;\n",
       "    }\n",
       "</style>\n",
       "<table border=\"1\" class=\"dataframe\">\n",
       "  <thead>\n",
       "    <tr style=\"text-align: right;\">\n",
       "      <th></th>\n",
       "      <th>code_module</th>\n",
       "      <th>code_presentation</th>\n",
       "      <th>id_student</th>\n",
       "      <th>id_site</th>\n",
       "      <th>date</th>\n",
       "      <th>sum_click</th>\n",
       "    </tr>\n",
       "  </thead>\n",
       "  <tbody>\n",
       "    <tr>\n",
       "      <th>0</th>\n",
       "      <td>AAA</td>\n",
       "      <td>2013J</td>\n",
       "      <td>28400</td>\n",
       "      <td>546652</td>\n",
       "      <td>-10</td>\n",
       "      <td>4</td>\n",
       "    </tr>\n",
       "    <tr>\n",
       "      <th>1</th>\n",
       "      <td>AAA</td>\n",
       "      <td>2013J</td>\n",
       "      <td>28400</td>\n",
       "      <td>546652</td>\n",
       "      <td>-10</td>\n",
       "      <td>1</td>\n",
       "    </tr>\n",
       "    <tr>\n",
       "      <th>2</th>\n",
       "      <td>AAA</td>\n",
       "      <td>2013J</td>\n",
       "      <td>28400</td>\n",
       "      <td>546652</td>\n",
       "      <td>-10</td>\n",
       "      <td>1</td>\n",
       "    </tr>\n",
       "    <tr>\n",
       "      <th>3</th>\n",
       "      <td>AAA</td>\n",
       "      <td>2013J</td>\n",
       "      <td>28400</td>\n",
       "      <td>546614</td>\n",
       "      <td>-10</td>\n",
       "      <td>11</td>\n",
       "    </tr>\n",
       "    <tr>\n",
       "      <th>4</th>\n",
       "      <td>AAA</td>\n",
       "      <td>2013J</td>\n",
       "      <td>28400</td>\n",
       "      <td>546714</td>\n",
       "      <td>-10</td>\n",
       "      <td>1</td>\n",
       "    </tr>\n",
       "    <tr>\n",
       "      <th>180982</th>\n",
       "      <td>AAA</td>\n",
       "      <td>2014J</td>\n",
       "      <td>588477</td>\n",
       "      <td>877053</td>\n",
       "      <td>-24</td>\n",
       "      <td>17</td>\n",
       "    </tr>\n",
       "    <tr>\n",
       "      <th>180983</th>\n",
       "      <td>AAA</td>\n",
       "      <td>2014J</td>\n",
       "      <td>588477</td>\n",
       "      <td>877079</td>\n",
       "      <td>-24</td>\n",
       "      <td>3</td>\n",
       "    </tr>\n",
       "    <tr>\n",
       "      <th>180984</th>\n",
       "      <td>AAA</td>\n",
       "      <td>2014J</td>\n",
       "      <td>588477</td>\n",
       "      <td>877128</td>\n",
       "      <td>-24</td>\n",
       "      <td>2</td>\n",
       "    </tr>\n",
       "    <tr>\n",
       "      <th>180985</th>\n",
       "      <td>AAA</td>\n",
       "      <td>2014J</td>\n",
       "      <td>588477</td>\n",
       "      <td>877134</td>\n",
       "      <td>-24</td>\n",
       "      <td>1</td>\n",
       "    </tr>\n",
       "    <tr>\n",
       "      <th>180986</th>\n",
       "      <td>AAA</td>\n",
       "      <td>2014J</td>\n",
       "      <td>588477</td>\n",
       "      <td>877038</td>\n",
       "      <td>-24</td>\n",
       "      <td>1</td>\n",
       "    </tr>\n",
       "    <tr>\n",
       "      <th>350298</th>\n",
       "      <td>BBB</td>\n",
       "      <td>2013B</td>\n",
       "      <td>333129</td>\n",
       "      <td>542864</td>\n",
       "      <td>-9</td>\n",
       "      <td>3</td>\n",
       "    </tr>\n",
       "    <tr>\n",
       "      <th>350299</th>\n",
       "      <td>BBB</td>\n",
       "      <td>2013B</td>\n",
       "      <td>333129</td>\n",
       "      <td>542808</td>\n",
       "      <td>-9</td>\n",
       "      <td>4</td>\n",
       "    </tr>\n",
       "    <tr>\n",
       "      <th>350300</th>\n",
       "      <td>BBB</td>\n",
       "      <td>2013B</td>\n",
       "      <td>333129</td>\n",
       "      <td>542795</td>\n",
       "      <td>-9</td>\n",
       "      <td>1</td>\n",
       "    </tr>\n",
       "    <tr>\n",
       "      <th>350301</th>\n",
       "      <td>BBB</td>\n",
       "      <td>2013B</td>\n",
       "      <td>333129</td>\n",
       "      <td>542808</td>\n",
       "      <td>-9</td>\n",
       "      <td>6</td>\n",
       "    </tr>\n",
       "    <tr>\n",
       "      <th>350302</th>\n",
       "      <td>BBB</td>\n",
       "      <td>2013B</td>\n",
       "      <td>333129</td>\n",
       "      <td>542795</td>\n",
       "      <td>-9</td>\n",
       "      <td>1</td>\n",
       "    </tr>\n",
       "    <tr>\n",
       "      <th>753564</th>\n",
       "      <td>BBB</td>\n",
       "      <td>2013J</td>\n",
       "      <td>560773</td>\n",
       "      <td>704206</td>\n",
       "      <td>-23</td>\n",
       "      <td>1</td>\n",
       "    </tr>\n",
       "    <tr>\n",
       "      <th>753565</th>\n",
       "      <td>BBB</td>\n",
       "      <td>2013J</td>\n",
       "      <td>560773</td>\n",
       "      <td>704205</td>\n",
       "      <td>-23</td>\n",
       "      <td>1</td>\n",
       "    </tr>\n",
       "    <tr>\n",
       "      <th>753566</th>\n",
       "      <td>BBB</td>\n",
       "      <td>2013J</td>\n",
       "      <td>560773</td>\n",
       "      <td>704204</td>\n",
       "      <td>-23</td>\n",
       "      <td>1</td>\n",
       "    </tr>\n",
       "    <tr>\n",
       "      <th>753567</th>\n",
       "      <td>BBB</td>\n",
       "      <td>2013J</td>\n",
       "      <td>560773</td>\n",
       "      <td>704203</td>\n",
       "      <td>-23</td>\n",
       "      <td>1</td>\n",
       "    </tr>\n",
       "    <tr>\n",
       "      <th>753568</th>\n",
       "      <td>BBB</td>\n",
       "      <td>2013J</td>\n",
       "      <td>560773</td>\n",
       "      <td>704207</td>\n",
       "      <td>-23</td>\n",
       "      <td>1</td>\n",
       "    </tr>\n",
       "    <tr>\n",
       "      <th>1206202</th>\n",
       "      <td>BBB</td>\n",
       "      <td>2014B</td>\n",
       "      <td>607953</td>\n",
       "      <td>768338</td>\n",
       "      <td>-9</td>\n",
       "      <td>2</td>\n",
       "    </tr>\n",
       "    <tr>\n",
       "      <th>1206203</th>\n",
       "      <td>BBB</td>\n",
       "      <td>2014B</td>\n",
       "      <td>607953</td>\n",
       "      <td>768338</td>\n",
       "      <td>-9</td>\n",
       "      <td>2</td>\n",
       "    </tr>\n",
       "    <tr>\n",
       "      <th>1206204</th>\n",
       "      <td>BBB</td>\n",
       "      <td>2014B</td>\n",
       "      <td>607953</td>\n",
       "      <td>768338</td>\n",
       "      <td>-9</td>\n",
       "      <td>1</td>\n",
       "    </tr>\n",
       "    <tr>\n",
       "      <th>1206205</th>\n",
       "      <td>BBB</td>\n",
       "      <td>2014B</td>\n",
       "      <td>607953</td>\n",
       "      <td>768351</td>\n",
       "      <td>-9</td>\n",
       "      <td>1</td>\n",
       "    </tr>\n",
       "    <tr>\n",
       "      <th>1206206</th>\n",
       "      <td>BBB</td>\n",
       "      <td>2014B</td>\n",
       "      <td>607953</td>\n",
       "      <td>768783</td>\n",
       "      <td>-9</td>\n",
       "      <td>1</td>\n",
       "    </tr>\n",
       "    <tr>\n",
       "      <th>1479438</th>\n",
       "      <td>BBB</td>\n",
       "      <td>2014J</td>\n",
       "      <td>598581</td>\n",
       "      <td>913528</td>\n",
       "      <td>-9</td>\n",
       "      <td>1</td>\n",
       "    </tr>\n",
       "    <tr>\n",
       "      <th>1479439</th>\n",
       "      <td>BBB</td>\n",
       "      <td>2014J</td>\n",
       "      <td>598581</td>\n",
       "      <td>913534</td>\n",
       "      <td>-9</td>\n",
       "      <td>6</td>\n",
       "    </tr>\n",
       "    <tr>\n",
       "      <th>1479440</th>\n",
       "      <td>BBB</td>\n",
       "      <td>2014J</td>\n",
       "      <td>598581</td>\n",
       "      <td>913474</td>\n",
       "      <td>-9</td>\n",
       "      <td>1</td>\n",
       "    </tr>\n",
       "    <tr>\n",
       "      <th>1479441</th>\n",
       "      <td>BBB</td>\n",
       "      <td>2014J</td>\n",
       "      <td>598581</td>\n",
       "      <td>913475</td>\n",
       "      <td>-9</td>\n",
       "      <td>2</td>\n",
       "    </tr>\n",
       "    <tr>\n",
       "      <th>1479442</th>\n",
       "      <td>BBB</td>\n",
       "      <td>2014J</td>\n",
       "      <td>598581</td>\n",
       "      <td>913476</td>\n",
       "      <td>-9</td>\n",
       "      <td>1</td>\n",
       "    </tr>\n",
       "    <tr>\n",
       "      <th>...</th>\n",
       "      <td>...</td>\n",
       "      <td>...</td>\n",
       "      <td>...</td>\n",
       "      <td>...</td>\n",
       "      <td>...</td>\n",
       "      <td>...</td>\n",
       "    </tr>\n",
       "    <tr>\n",
       "      <th>7200373</th>\n",
       "      <td>FFF</td>\n",
       "      <td>2013J</td>\n",
       "      <td>485671</td>\n",
       "      <td>716649</td>\n",
       "      <td>-18</td>\n",
       "      <td>4</td>\n",
       "    </tr>\n",
       "    <tr>\n",
       "      <th>7200374</th>\n",
       "      <td>FFF</td>\n",
       "      <td>2013J</td>\n",
       "      <td>485671</td>\n",
       "      <td>716864</td>\n",
       "      <td>-18</td>\n",
       "      <td>1</td>\n",
       "    </tr>\n",
       "    <tr>\n",
       "      <th>7200375</th>\n",
       "      <td>FFF</td>\n",
       "      <td>2013J</td>\n",
       "      <td>485671</td>\n",
       "      <td>716660</td>\n",
       "      <td>-18</td>\n",
       "      <td>1</td>\n",
       "    </tr>\n",
       "    <tr>\n",
       "      <th>7200376</th>\n",
       "      <td>FFF</td>\n",
       "      <td>2013J</td>\n",
       "      <td>485671</td>\n",
       "      <td>716643</td>\n",
       "      <td>-18</td>\n",
       "      <td>2</td>\n",
       "    </tr>\n",
       "    <tr>\n",
       "      <th>7200377</th>\n",
       "      <td>FFF</td>\n",
       "      <td>2013J</td>\n",
       "      <td>485671</td>\n",
       "      <td>716640</td>\n",
       "      <td>-18</td>\n",
       "      <td>1</td>\n",
       "    </tr>\n",
       "    <tr>\n",
       "      <th>8372474</th>\n",
       "      <td>FFF</td>\n",
       "      <td>2014B</td>\n",
       "      <td>559876</td>\n",
       "      <td>779671</td>\n",
       "      <td>-18</td>\n",
       "      <td>1</td>\n",
       "    </tr>\n",
       "    <tr>\n",
       "      <th>8372475</th>\n",
       "      <td>FFF</td>\n",
       "      <td>2014B</td>\n",
       "      <td>559876</td>\n",
       "      <td>779451</td>\n",
       "      <td>-18</td>\n",
       "      <td>2</td>\n",
       "    </tr>\n",
       "    <tr>\n",
       "      <th>8372476</th>\n",
       "      <td>FFF</td>\n",
       "      <td>2014B</td>\n",
       "      <td>559876</td>\n",
       "      <td>779405</td>\n",
       "      <td>-18</td>\n",
       "      <td>1</td>\n",
       "    </tr>\n",
       "    <tr>\n",
       "      <th>8372477</th>\n",
       "      <td>FFF</td>\n",
       "      <td>2014B</td>\n",
       "      <td>559876</td>\n",
       "      <td>779619</td>\n",
       "      <td>-18</td>\n",
       "      <td>1</td>\n",
       "    </tr>\n",
       "    <tr>\n",
       "      <th>8372478</th>\n",
       "      <td>FFF</td>\n",
       "      <td>2014B</td>\n",
       "      <td>559876</td>\n",
       "      <td>779089</td>\n",
       "      <td>-18</td>\n",
       "      <td>5</td>\n",
       "    </tr>\n",
       "    <tr>\n",
       "      <th>9057748</th>\n",
       "      <td>FFF</td>\n",
       "      <td>2014J</td>\n",
       "      <td>2398260</td>\n",
       "      <td>883041</td>\n",
       "      <td>-18</td>\n",
       "      <td>1</td>\n",
       "    </tr>\n",
       "    <tr>\n",
       "      <th>9057749</th>\n",
       "      <td>FFF</td>\n",
       "      <td>2014J</td>\n",
       "      <td>2398260</td>\n",
       "      <td>882602</td>\n",
       "      <td>-18</td>\n",
       "      <td>1</td>\n",
       "    </tr>\n",
       "    <tr>\n",
       "      <th>9057750</th>\n",
       "      <td>FFF</td>\n",
       "      <td>2014J</td>\n",
       "      <td>2398260</td>\n",
       "      <td>882587</td>\n",
       "      <td>-18</td>\n",
       "      <td>2</td>\n",
       "    </tr>\n",
       "    <tr>\n",
       "      <th>9057751</th>\n",
       "      <td>FFF</td>\n",
       "      <td>2014J</td>\n",
       "      <td>2398260</td>\n",
       "      <td>883142</td>\n",
       "      <td>-18</td>\n",
       "      <td>1</td>\n",
       "    </tr>\n",
       "    <tr>\n",
       "      <th>9057752</th>\n",
       "      <td>FFF</td>\n",
       "      <td>2014J</td>\n",
       "      <td>2398260</td>\n",
       "      <td>883092</td>\n",
       "      <td>-18</td>\n",
       "      <td>1</td>\n",
       "    </tr>\n",
       "    <tr>\n",
       "      <th>10268107</th>\n",
       "      <td>GGG</td>\n",
       "      <td>2013J</td>\n",
       "      <td>2458203</td>\n",
       "      <td>661585</td>\n",
       "      <td>-16</td>\n",
       "      <td>2</td>\n",
       "    </tr>\n",
       "    <tr>\n",
       "      <th>10268108</th>\n",
       "      <td>GGG</td>\n",
       "      <td>2013J</td>\n",
       "      <td>2458203</td>\n",
       "      <td>661603</td>\n",
       "      <td>-16</td>\n",
       "      <td>1</td>\n",
       "    </tr>\n",
       "    <tr>\n",
       "      <th>10268109</th>\n",
       "      <td>GGG</td>\n",
       "      <td>2013J</td>\n",
       "      <td>2458203</td>\n",
       "      <td>661693</td>\n",
       "      <td>-16</td>\n",
       "      <td>1</td>\n",
       "    </tr>\n",
       "    <tr>\n",
       "      <th>10268110</th>\n",
       "      <td>GGG</td>\n",
       "      <td>2013J</td>\n",
       "      <td>2458203</td>\n",
       "      <td>661705</td>\n",
       "      <td>-16</td>\n",
       "      <td>1</td>\n",
       "    </tr>\n",
       "    <tr>\n",
       "      <th>10268111</th>\n",
       "      <td>GGG</td>\n",
       "      <td>2013J</td>\n",
       "      <td>2458203</td>\n",
       "      <td>661575</td>\n",
       "      <td>-16</td>\n",
       "      <td>14</td>\n",
       "    </tr>\n",
       "    <tr>\n",
       "      <th>10414102</th>\n",
       "      <td>GGG</td>\n",
       "      <td>2014B</td>\n",
       "      <td>596751</td>\n",
       "      <td>798685</td>\n",
       "      <td>-8</td>\n",
       "      <td>1</td>\n",
       "    </tr>\n",
       "    <tr>\n",
       "      <th>10414103</th>\n",
       "      <td>GGG</td>\n",
       "      <td>2014B</td>\n",
       "      <td>596751</td>\n",
       "      <td>798687</td>\n",
       "      <td>-8</td>\n",
       "      <td>1</td>\n",
       "    </tr>\n",
       "    <tr>\n",
       "      <th>10414104</th>\n",
       "      <td>GGG</td>\n",
       "      <td>2014B</td>\n",
       "      <td>596751</td>\n",
       "      <td>798620</td>\n",
       "      <td>-8</td>\n",
       "      <td>1</td>\n",
       "    </tr>\n",
       "    <tr>\n",
       "      <th>10414105</th>\n",
       "      <td>GGG</td>\n",
       "      <td>2014B</td>\n",
       "      <td>596751</td>\n",
       "      <td>798622</td>\n",
       "      <td>-8</td>\n",
       "      <td>10</td>\n",
       "    </tr>\n",
       "    <tr>\n",
       "      <th>10414106</th>\n",
       "      <td>GGG</td>\n",
       "      <td>2014B</td>\n",
       "      <td>596751</td>\n",
       "      <td>798760</td>\n",
       "      <td>-8</td>\n",
       "      <td>1</td>\n",
       "    </tr>\n",
       "    <tr>\n",
       "      <th>10537421</th>\n",
       "      <td>GGG</td>\n",
       "      <td>2014J</td>\n",
       "      <td>342946</td>\n",
       "      <td>897050</td>\n",
       "      <td>-16</td>\n",
       "      <td>1</td>\n",
       "    </tr>\n",
       "    <tr>\n",
       "      <th>10537422</th>\n",
       "      <td>GGG</td>\n",
       "      <td>2014J</td>\n",
       "      <td>342946</td>\n",
       "      <td>897121</td>\n",
       "      <td>-16</td>\n",
       "      <td>2</td>\n",
       "    </tr>\n",
       "    <tr>\n",
       "      <th>10537423</th>\n",
       "      <td>GGG</td>\n",
       "      <td>2014J</td>\n",
       "      <td>342946</td>\n",
       "      <td>897076</td>\n",
       "      <td>-16</td>\n",
       "      <td>1</td>\n",
       "    </tr>\n",
       "    <tr>\n",
       "      <th>10537424</th>\n",
       "      <td>GGG</td>\n",
       "      <td>2014J</td>\n",
       "      <td>342946</td>\n",
       "      <td>896987</td>\n",
       "      <td>-16</td>\n",
       "      <td>1</td>\n",
       "    </tr>\n",
       "    <tr>\n",
       "      <th>10537425</th>\n",
       "      <td>GGG</td>\n",
       "      <td>2014J</td>\n",
       "      <td>342946</td>\n",
       "      <td>896939</td>\n",
       "      <td>-16</td>\n",
       "      <td>3</td>\n",
       "    </tr>\n",
       "  </tbody>\n",
       "</table>\n",
       "<p>110 rows × 6 columns</p>\n",
       "</div>"
      ],
      "text/plain": [
       "         code_module code_presentation  id_student  id_site  date  sum_click\n",
       "0                AAA             2013J       28400   546652   -10          4\n",
       "1                AAA             2013J       28400   546652   -10          1\n",
       "2                AAA             2013J       28400   546652   -10          1\n",
       "3                AAA             2013J       28400   546614   -10         11\n",
       "4                AAA             2013J       28400   546714   -10          1\n",
       "180982           AAA             2014J      588477   877053   -24         17\n",
       "180983           AAA             2014J      588477   877079   -24          3\n",
       "180984           AAA             2014J      588477   877128   -24          2\n",
       "180985           AAA             2014J      588477   877134   -24          1\n",
       "180986           AAA             2014J      588477   877038   -24          1\n",
       "350298           BBB             2013B      333129   542864    -9          3\n",
       "350299           BBB             2013B      333129   542808    -9          4\n",
       "350300           BBB             2013B      333129   542795    -9          1\n",
       "350301           BBB             2013B      333129   542808    -9          6\n",
       "350302           BBB             2013B      333129   542795    -9          1\n",
       "753564           BBB             2013J      560773   704206   -23          1\n",
       "753565           BBB             2013J      560773   704205   -23          1\n",
       "753566           BBB             2013J      560773   704204   -23          1\n",
       "753567           BBB             2013J      560773   704203   -23          1\n",
       "753568           BBB             2013J      560773   704207   -23          1\n",
       "1206202          BBB             2014B      607953   768338    -9          2\n",
       "1206203          BBB             2014B      607953   768338    -9          2\n",
       "1206204          BBB             2014B      607953   768338    -9          1\n",
       "1206205          BBB             2014B      607953   768351    -9          1\n",
       "1206206          BBB             2014B      607953   768783    -9          1\n",
       "1479438          BBB             2014J      598581   913528    -9          1\n",
       "1479439          BBB             2014J      598581   913534    -9          6\n",
       "1479440          BBB             2014J      598581   913474    -9          1\n",
       "1479441          BBB             2014J      598581   913475    -9          2\n",
       "1479442          BBB             2014J      598581   913476    -9          1\n",
       "...              ...               ...         ...      ...   ...        ...\n",
       "7200373          FFF             2013J      485671   716649   -18          4\n",
       "7200374          FFF             2013J      485671   716864   -18          1\n",
       "7200375          FFF             2013J      485671   716660   -18          1\n",
       "7200376          FFF             2013J      485671   716643   -18          2\n",
       "7200377          FFF             2013J      485671   716640   -18          1\n",
       "8372474          FFF             2014B      559876   779671   -18          1\n",
       "8372475          FFF             2014B      559876   779451   -18          2\n",
       "8372476          FFF             2014B      559876   779405   -18          1\n",
       "8372477          FFF             2014B      559876   779619   -18          1\n",
       "8372478          FFF             2014B      559876   779089   -18          5\n",
       "9057748          FFF             2014J     2398260   883041   -18          1\n",
       "9057749          FFF             2014J     2398260   882602   -18          1\n",
       "9057750          FFF             2014J     2398260   882587   -18          2\n",
       "9057751          FFF             2014J     2398260   883142   -18          1\n",
       "9057752          FFF             2014J     2398260   883092   -18          1\n",
       "10268107         GGG             2013J     2458203   661585   -16          2\n",
       "10268108         GGG             2013J     2458203   661603   -16          1\n",
       "10268109         GGG             2013J     2458203   661693   -16          1\n",
       "10268110         GGG             2013J     2458203   661705   -16          1\n",
       "10268111         GGG             2013J     2458203   661575   -16         14\n",
       "10414102         GGG             2014B      596751   798685    -8          1\n",
       "10414103         GGG             2014B      596751   798687    -8          1\n",
       "10414104         GGG             2014B      596751   798620    -8          1\n",
       "10414105         GGG             2014B      596751   798622    -8         10\n",
       "10414106         GGG             2014B      596751   798760    -8          1\n",
       "10537421         GGG             2014J      342946   897050   -16          1\n",
       "10537422         GGG             2014J      342946   897121   -16          2\n",
       "10537423         GGG             2014J      342946   897076   -16          1\n",
       "10537424         GGG             2014J      342946   896987   -16          1\n",
       "10537425         GGG             2014J      342946   896939   -16          3\n",
       "\n",
       "[110 rows x 6 columns]"
      ]
     },
     "execution_count": 49,
     "metadata": {},
     "output_type": "execute_result"
    }
   ],
   "source": [
    "stu_vle.groupby(['code_module', 'code_presentation']).head()"
   ]
  },
  {
   "cell_type": "code",
   "execution_count": 46,
   "metadata": {},
   "outputs": [
    {
     "data": {
      "text/plain": [
       "10655280"
      ]
     },
     "execution_count": 46,
     "metadata": {},
     "output_type": "execute_result"
    }
   ],
   "source": [
    "len(stu_vle)"
   ]
  },
  {
   "cell_type": "markdown",
   "metadata": {},
   "source": [
    "### Density"
   ]
  },
  {
   "cell_type": "code",
   "execution_count": 52,
   "metadata": {},
   "outputs": [],
   "source": [
    "# density = rated items / (num items * num users)"
   ]
  },
  {
   "cell_type": "code",
   "execution_count": 66,
   "metadata": {},
   "outputs": [],
   "source": [
    "# rated items\n",
    "clicked_items_by_course = stu_vle.groupby(['code_module', 'code_presentation'])['id_site'].nunique()"
   ]
  },
  {
   "cell_type": "code",
   "execution_count": 67,
   "metadata": {},
   "outputs": [],
   "source": [
    "# num of items\n",
    "num_items_by_course = vle.groupby(['code_module', 'code_presentation'])['id_site'].nunique()"
   ]
  },
  {
   "cell_type": "code",
   "execution_count": 68,
   "metadata": {},
   "outputs": [],
   "source": [
    "# num of users\n",
    "num_users_by_course = stu_reg.groupby(['code_module', 'code_presentation'])['id_student'].nunique()"
   ]
  },
  {
   "cell_type": "code",
   "execution_count": 69,
   "metadata": {},
   "outputs": [],
   "source": [
    "density_by_course = clicked_items_by_course / (num_items_by_course * num_users_by_course)"
   ]
  },
  {
   "cell_type": "code",
   "execution_count": 70,
   "metadata": {},
   "outputs": [
    {
     "data": {
      "text/plain": [
       "code_module  code_presentation\n",
       "AAA          2013J                0.002586\n",
       "             2014J                0.002672\n",
       "BBB          2013B                0.000566\n",
       "             2013J                0.000446\n",
       "             2014B                0.000620\n",
       "             2014J                0.000434\n",
       "CCC          2014B                0.000474\n",
       "             2014J                0.000395\n",
       "DDD          2013B                0.000732\n",
       "             2013J                0.000509\n",
       "             2014B                0.000804\n",
       "             2014J                0.000549\n",
       "EEE          2013J                0.000908\n",
       "             2014B                0.001375\n",
       "             2014J                0.000805\n",
       "FFF          2013B                0.000610\n",
       "             2013J                0.000436\n",
       "             2014B                0.000662\n",
       "             2014J                0.000420\n",
       "GGG          2013J                0.001050\n",
       "             2014B                0.001200\n",
       "             2014J                0.001335\n",
       "dtype: float64"
      ]
     },
     "execution_count": 70,
     "metadata": {},
     "output_type": "execute_result"
    }
   ],
   "source": [
    "density_by_course"
   ]
  },
  {
   "cell_type": "code",
   "execution_count": 71,
   "metadata": {},
   "outputs": [
    {
     "data": {
      "text/plain": [
       "code_module  code_presentation\n",
       "AAA          2013J                209\n",
       "             2014J                197\n",
       "BBB          2013B                315\n",
       "             2013J                320\n",
       "             2014B                311\n",
       "             2014J                206\n",
       "CCC          2014B                180\n",
       "             2014J                220\n",
       "DDD          2013B                408\n",
       "             2013J                456\n",
       "             2014B                447\n",
       "             2014J                361\n",
       "EEE          2013J                107\n",
       "             2014B                104\n",
       "             2014J                110\n",
       "FFF          2013B                500\n",
       "             2013J                526\n",
       "             2014B                475\n",
       "             2014J                449\n",
       "GGG          2013J                137\n",
       "             2014B                124\n",
       "             2014J                106\n",
       "Name: id_site, dtype: int64"
      ]
     },
     "execution_count": 71,
     "metadata": {},
     "output_type": "execute_result"
    }
   ],
   "source": [
    "clicked_items_by_course"
   ]
  },
  {
   "cell_type": "code",
   "execution_count": 72,
   "metadata": {},
   "outputs": [
    {
     "data": {
      "text/plain": [
       "code_module  code_presentation\n",
       "AAA          2013J                211\n",
       "             2014J                202\n",
       "BBB          2013B                315\n",
       "             2013J                321\n",
       "             2014B                311\n",
       "             2014J                207\n",
       "CCC          2014B                196\n",
       "             2014J                223\n",
       "DDD          2013B                428\n",
       "             2013J                462\n",
       "             2014B                453\n",
       "             2014J                365\n",
       "EEE          2013J                112\n",
       "             2014B                109\n",
       "             2014J                115\n",
       "FFF          2013B                508\n",
       "             2013J                529\n",
       "             2014B                478\n",
       "             2014J                452\n",
       "GGG          2013J                137\n",
       "             2014B                124\n",
       "             2014J                106\n",
       "Name: id_site, dtype: int64"
      ]
     },
     "execution_count": 72,
     "metadata": {},
     "output_type": "execute_result"
    }
   ],
   "source": [
    "num_items_by_course"
   ]
  },
  {
   "cell_type": "code",
   "execution_count": 73,
   "metadata": {},
   "outputs": [
    {
     "data": {
      "text/plain": [
       "code_module  code_presentation\n",
       "AAA          2013J                 383\n",
       "             2014J                 365\n",
       "BBB          2013B                1767\n",
       "             2013J                2237\n",
       "             2014B                1613\n",
       "             2014J                2292\n",
       "CCC          2014B                1936\n",
       "             2014J                2498\n",
       "DDD          2013B                1303\n",
       "             2013J                1938\n",
       "             2014B                1228\n",
       "             2014J                1803\n",
       "EEE          2013J                1052\n",
       "             2014B                 694\n",
       "             2014J                1188\n",
       "FFF          2013B                1614\n",
       "             2013J                2283\n",
       "             2014B                1500\n",
       "             2014J                2365\n",
       "GGG          2013J                 952\n",
       "             2014B                 833\n",
       "             2014J                 749\n",
       "Name: id_student, dtype: int64"
      ]
     },
     "execution_count": 73,
     "metadata": {},
     "output_type": "execute_result"
    }
   ],
   "source": [
    "num_users_by_course"
   ]
  },
  {
   "cell_type": "markdown",
   "metadata": {},
   "source": [
    "### sanity check"
   ]
  },
  {
   "cell_type": "code",
   "execution_count": 80,
   "metadata": {},
   "outputs": [
    {
     "data": {
      "text/plain": [
       "code_module  code_presentation\n",
       "AAA          2013J                 378\n",
       "             2014J                 357\n",
       "BBB          2013B                1537\n",
       "             2013J                1870\n",
       "             2014B                1294\n",
       "             2014J                1921\n",
       "CCC          2014B                1681\n",
       "             2014J                2302\n",
       "DDD          2013B                1214\n",
       "             2013J                1768\n",
       "             2014B                1116\n",
       "             2014J                1647\n",
       "EEE          2013J                 964\n",
       "             2014B                 624\n",
       "             2014J                1097\n",
       "FFF          2013B                1510\n",
       "             2013J                2098\n",
       "             2014B                1363\n",
       "             2014J                2121\n",
       "GGG          2013J                 895\n",
       "             2014B                 773\n",
       "             2014J                 698\n",
       "Name: id_student, dtype: int64"
      ]
     },
     "execution_count": 80,
     "metadata": {},
     "output_type": "execute_result"
    }
   ],
   "source": [
    "stu_vle.groupby(['code_module', 'code_presentation']).id_student.nunique()"
   ]
  },
  {
   "cell_type": "code",
   "execution_count": 79,
   "metadata": {},
   "outputs": [
    {
     "data": {
      "text/plain": [
       "code_module  code_presentation  id_student\n",
       "AAA          2013J              11391          55\n",
       "                                28400          84\n",
       "                                30268          22\n",
       "                                31604          82\n",
       "                                32885          66\n",
       "                                38053          88\n",
       "                                45462          59\n",
       "                                45642          66\n",
       "                                52130          76\n",
       "                                53025          80\n",
       "                                57506          76\n",
       "                                58873          74\n",
       "                                59185          52\n",
       "                                62155          98\n",
       "                                63400          73\n",
       "                                65002          25\n",
       "                                70464          63\n",
       "                                71361          81\n",
       "                                74372          23\n",
       "                                75091         100\n",
       "                                77367          44\n",
       "                                91265          60\n",
       "                                94961          26\n",
       "                                98094          91\n",
       "                                100893         47\n",
       "                                101781         99\n",
       "                                102806         75\n",
       "                                102952         69\n",
       "                                104476        106\n",
       "                                106247         43\n",
       "                                             ... \n",
       "GGG          2014J              1931810        35\n",
       "                                1950911        56\n",
       "                                1977701        51\n",
       "                                2004143        38\n",
       "                                2052942        20\n",
       "                                2053521        49\n",
       "                                2203216        24\n",
       "                                2214722        15\n",
       "                                2268380        32\n",
       "                                2270562        56\n",
       "                                2271766        30\n",
       "                                2282141        27\n",
       "                                2311714        66\n",
       "                                2338614        11\n",
       "                                2342238        13\n",
       "                                2357806         4\n",
       "                                2373245        37\n",
       "                                2378591        22\n",
       "                                2456431        64\n",
       "                                2475886         5\n",
       "                                2508153        49\n",
       "                                2533195        35\n",
       "                                2606765        30\n",
       "                                2608143         8\n",
       "                                2620947        48\n",
       "                                2640965         8\n",
       "                                2645731        50\n",
       "                                2648187        28\n",
       "                                2679821        17\n",
       "                                2684003        32\n",
       "Name: id_site, Length: 29228, dtype: int64"
      ]
     },
     "execution_count": 79,
     "metadata": {},
     "output_type": "execute_result"
    }
   ],
   "source": [
    "stu_vle.groupby(['code_module', 'code_presentation', 'id_student']).id_site.nunique()"
   ]
  },
  {
   "cell_type": "code",
   "execution_count": 81,
   "metadata": {},
   "outputs": [
    {
     "data": {
      "text/plain": [
       "67.0759545641166"
      ]
     },
     "execution_count": 81,
     "metadata": {},
     "output_type": "execute_result"
    }
   ],
   "source": [
    "stu_vle.groupby(['code_module', 'code_presentation', 'id_student']).id_site.nunique().mean()"
   ]
  },
  {
   "cell_type": "markdown",
   "metadata": {},
   "source": [
    "                        ### :(  :(  :(  :*-(  :**-(  :***-(   x___x"
   ]
  },
  {
   "cell_type": "code",
   "execution_count": null,
   "metadata": {},
   "outputs": [],
   "source": []
  }
 ],
 "metadata": {
  "kernelspec": {
   "display_name": "Python 3",
   "language": "python",
   "name": "python3"
  },
  "language_info": {
   "codemirror_mode": {
    "name": "ipython",
    "version": 3
   },
   "file_extension": ".py",
   "mimetype": "text/x-python",
   "name": "python",
   "nbconvert_exporter": "python",
   "pygments_lexer": "ipython3",
   "version": "3.7.3"
  }
 },
 "nbformat": 4,
 "nbformat_minor": 2
}
