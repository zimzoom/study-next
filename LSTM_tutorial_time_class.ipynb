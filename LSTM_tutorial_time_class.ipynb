{
 "cells": [
  {
   "cell_type": "code",
   "execution_count": 1,
   "metadata": {},
   "outputs": [],
   "source": [
    "import pandas as pd\n",
    "import numpy as np\n",
    "%matplotlib inline\n",
    "import matplotlib.pyplot as plt\n",
    "from os import listdir"
   ]
  },
  {
   "cell_type": "code",
   "execution_count": 2,
   "metadata": {},
   "outputs": [
    {
     "name": "stderr",
     "output_type": "stream",
     "text": [
      "Using TensorFlow backend.\n"
     ]
    }
   ],
   "source": [
    "from keras.preprocessing import sequence\n",
    "import tensorflow as tf\n",
    "from keras.models import Sequential\n",
    "from keras.layers import Dense\n",
    "from keras.layers import LSTM\n",
    "\n",
    "from keras.optimizers import Adam\n",
    "from keras.models import load_model\n",
    "from keras.callbacks import ModelCheckpoint"
   ]
  },
  {
   "cell_type": "code",
   "execution_count": 5,
   "metadata": {},
   "outputs": [],
   "source": [
    "df1 = pd.read_csv('MovementAAL/dataset/MovementAAL_RSS_1.csv')\n",
    "df2 = pd.read_csv('MovementAAL/dataset/MovementAAL_RSS_2.csv')"
   ]
  },
  {
   "cell_type": "code",
   "execution_count": 6,
   "metadata": {},
   "outputs": [
    {
     "data": {
      "text/html": [
       "<div>\n",
       "<style scoped>\n",
       "    .dataframe tbody tr th:only-of-type {\n",
       "        vertical-align: middle;\n",
       "    }\n",
       "\n",
       "    .dataframe tbody tr th {\n",
       "        vertical-align: top;\n",
       "    }\n",
       "\n",
       "    .dataframe thead th {\n",
       "        text-align: right;\n",
       "    }\n",
       "</style>\n",
       "<table border=\"1\" class=\"dataframe\">\n",
       "  <thead>\n",
       "    <tr style=\"text-align: right;\">\n",
       "      <th></th>\n",
       "      <th>#RSS_anchor1</th>\n",
       "      <th>RSS_anchor2</th>\n",
       "      <th>RSS_anchor3</th>\n",
       "      <th>RSS_anchor4</th>\n",
       "    </tr>\n",
       "  </thead>\n",
       "  <tbody>\n",
       "    <tr>\n",
       "      <th>0</th>\n",
       "      <td>-0.90476</td>\n",
       "      <td>-0.48</td>\n",
       "      <td>0.28571</td>\n",
       "      <td>0.30</td>\n",
       "    </tr>\n",
       "    <tr>\n",
       "      <th>1</th>\n",
       "      <td>-0.57143</td>\n",
       "      <td>-0.32</td>\n",
       "      <td>0.14286</td>\n",
       "      <td>0.30</td>\n",
       "    </tr>\n",
       "    <tr>\n",
       "      <th>2</th>\n",
       "      <td>-0.38095</td>\n",
       "      <td>-0.28</td>\n",
       "      <td>-0.14286</td>\n",
       "      <td>0.35</td>\n",
       "    </tr>\n",
       "    <tr>\n",
       "      <th>3</th>\n",
       "      <td>-0.28571</td>\n",
       "      <td>-0.20</td>\n",
       "      <td>-0.47619</td>\n",
       "      <td>0.35</td>\n",
       "    </tr>\n",
       "    <tr>\n",
       "      <th>4</th>\n",
       "      <td>-0.14286</td>\n",
       "      <td>-0.20</td>\n",
       "      <td>0.14286</td>\n",
       "      <td>-0.20</td>\n",
       "    </tr>\n",
       "  </tbody>\n",
       "</table>\n",
       "</div>"
      ],
      "text/plain": [
       "   #RSS_anchor1   RSS_anchor2   RSS_anchor3   RSS_anchor4\n",
       "0      -0.90476         -0.48       0.28571          0.30\n",
       "1      -0.57143         -0.32       0.14286          0.30\n",
       "2      -0.38095         -0.28      -0.14286          0.35\n",
       "3      -0.28571         -0.20      -0.47619          0.35\n",
       "4      -0.14286         -0.20       0.14286         -0.20"
      ]
     },
     "execution_count": 6,
     "metadata": {},
     "output_type": "execute_result"
    }
   ],
   "source": [
    "df1.head()"
   ]
  },
  {
   "cell_type": "code",
   "execution_count": 7,
   "metadata": {},
   "outputs": [
    {
     "data": {
      "text/html": [
       "<div>\n",
       "<style scoped>\n",
       "    .dataframe tbody tr th:only-of-type {\n",
       "        vertical-align: middle;\n",
       "    }\n",
       "\n",
       "    .dataframe tbody tr th {\n",
       "        vertical-align: top;\n",
       "    }\n",
       "\n",
       "    .dataframe thead th {\n",
       "        text-align: right;\n",
       "    }\n",
       "</style>\n",
       "<table border=\"1\" class=\"dataframe\">\n",
       "  <thead>\n",
       "    <tr style=\"text-align: right;\">\n",
       "      <th></th>\n",
       "      <th>#RSS_anchor1</th>\n",
       "      <th>RSS_anchor2</th>\n",
       "      <th>RSS_anchor3</th>\n",
       "      <th>RSS_anchor4</th>\n",
       "    </tr>\n",
       "  </thead>\n",
       "  <tbody>\n",
       "    <tr>\n",
       "      <th>0</th>\n",
       "      <td>-0.57143</td>\n",
       "      <td>-0.20</td>\n",
       "      <td>0.71429</td>\n",
       "      <td>0.50</td>\n",
       "    </tr>\n",
       "    <tr>\n",
       "      <th>1</th>\n",
       "      <td>-0.76190</td>\n",
       "      <td>-0.48</td>\n",
       "      <td>0.76190</td>\n",
       "      <td>-0.25</td>\n",
       "    </tr>\n",
       "    <tr>\n",
       "      <th>2</th>\n",
       "      <td>-0.85714</td>\n",
       "      <td>-0.60</td>\n",
       "      <td>0.85714</td>\n",
       "      <td>0.55</td>\n",
       "    </tr>\n",
       "    <tr>\n",
       "      <th>3</th>\n",
       "      <td>-0.76190</td>\n",
       "      <td>-0.40</td>\n",
       "      <td>0.71429</td>\n",
       "      <td>0.60</td>\n",
       "    </tr>\n",
       "    <tr>\n",
       "      <th>4</th>\n",
       "      <td>-0.76190</td>\n",
       "      <td>-0.84</td>\n",
       "      <td>0.85714</td>\n",
       "      <td>0.45</td>\n",
       "    </tr>\n",
       "  </tbody>\n",
       "</table>\n",
       "</div>"
      ],
      "text/plain": [
       "   #RSS_anchor1   RSS_anchor2   RSS_anchor3   RSS_anchor4\n",
       "0      -0.57143         -0.20       0.71429          0.50\n",
       "1      -0.76190         -0.48       0.76190         -0.25\n",
       "2      -0.85714         -0.60       0.85714          0.55\n",
       "3      -0.76190         -0.40       0.71429          0.60\n",
       "4      -0.76190         -0.84       0.85714          0.45"
      ]
     },
     "execution_count": 7,
     "metadata": {},
     "output_type": "execute_result"
    }
   ],
   "source": [
    "df2.head()"
   ]
  },
  {
   "cell_type": "code",
   "execution_count": 8,
   "metadata": {},
   "outputs": [
    {
     "data": {
      "text/plain": [
       "((27, 4), (26, 4))"
      ]
     },
     "execution_count": 8,
     "metadata": {},
     "output_type": "execute_result"
    }
   ],
   "source": [
    "df1.shape, df2.shape"
   ]
  },
  {
   "cell_type": "code",
   "execution_count": 9,
   "metadata": {},
   "outputs": [
    {
     "name": "stdout",
     "output_type": "stream",
     "text": [
      "MovementAAL/dataset/MovementAAL_RSS_1.csv\n",
      "MovementAAL/dataset/MovementAAL_RSS_2.csv\n",
      "MovementAAL/dataset/MovementAAL_RSS_3.csv\n",
      "MovementAAL/dataset/MovementAAL_RSS_4.csv\n",
      "MovementAAL/dataset/MovementAAL_RSS_5.csv\n",
      "MovementAAL/dataset/MovementAAL_RSS_6.csv\n",
      "MovementAAL/dataset/MovementAAL_RSS_7.csv\n",
      "MovementAAL/dataset/MovementAAL_RSS_8.csv\n",
      "MovementAAL/dataset/MovementAAL_RSS_9.csv\n",
      "MovementAAL/dataset/MovementAAL_RSS_10.csv\n",
      "MovementAAL/dataset/MovementAAL_RSS_11.csv\n",
      "MovementAAL/dataset/MovementAAL_RSS_12.csv\n",
      "MovementAAL/dataset/MovementAAL_RSS_13.csv\n",
      "MovementAAL/dataset/MovementAAL_RSS_14.csv\n",
      "MovementAAL/dataset/MovementAAL_RSS_15.csv\n",
      "MovementAAL/dataset/MovementAAL_RSS_16.csv\n",
      "MovementAAL/dataset/MovementAAL_RSS_17.csv\n",
      "MovementAAL/dataset/MovementAAL_RSS_18.csv\n",
      "MovementAAL/dataset/MovementAAL_RSS_19.csv\n",
      "MovementAAL/dataset/MovementAAL_RSS_20.csv\n",
      "MovementAAL/dataset/MovementAAL_RSS_21.csv\n",
      "MovementAAL/dataset/MovementAAL_RSS_22.csv\n",
      "MovementAAL/dataset/MovementAAL_RSS_23.csv\n",
      "MovementAAL/dataset/MovementAAL_RSS_24.csv\n",
      "MovementAAL/dataset/MovementAAL_RSS_25.csv\n",
      "MovementAAL/dataset/MovementAAL_RSS_26.csv\n",
      "MovementAAL/dataset/MovementAAL_RSS_27.csv\n",
      "MovementAAL/dataset/MovementAAL_RSS_28.csv\n",
      "MovementAAL/dataset/MovementAAL_RSS_29.csv\n",
      "MovementAAL/dataset/MovementAAL_RSS_30.csv\n",
      "MovementAAL/dataset/MovementAAL_RSS_31.csv\n",
      "MovementAAL/dataset/MovementAAL_RSS_32.csv\n",
      "MovementAAL/dataset/MovementAAL_RSS_33.csv\n",
      "MovementAAL/dataset/MovementAAL_RSS_34.csv\n",
      "MovementAAL/dataset/MovementAAL_RSS_35.csv\n",
      "MovementAAL/dataset/MovementAAL_RSS_36.csv\n",
      "MovementAAL/dataset/MovementAAL_RSS_37.csv\n",
      "MovementAAL/dataset/MovementAAL_RSS_38.csv\n",
      "MovementAAL/dataset/MovementAAL_RSS_39.csv\n",
      "MovementAAL/dataset/MovementAAL_RSS_40.csv\n",
      "MovementAAL/dataset/MovementAAL_RSS_41.csv\n",
      "MovementAAL/dataset/MovementAAL_RSS_42.csv\n",
      "MovementAAL/dataset/MovementAAL_RSS_43.csv\n",
      "MovementAAL/dataset/MovementAAL_RSS_44.csv\n",
      "MovementAAL/dataset/MovementAAL_RSS_45.csv\n",
      "MovementAAL/dataset/MovementAAL_RSS_46.csv\n",
      "MovementAAL/dataset/MovementAAL_RSS_47.csv\n",
      "MovementAAL/dataset/MovementAAL_RSS_48.csv\n",
      "MovementAAL/dataset/MovementAAL_RSS_49.csv\n",
      "MovementAAL/dataset/MovementAAL_RSS_50.csv\n",
      "MovementAAL/dataset/MovementAAL_RSS_51.csv\n",
      "MovementAAL/dataset/MovementAAL_RSS_52.csv\n",
      "MovementAAL/dataset/MovementAAL_RSS_53.csv\n",
      "MovementAAL/dataset/MovementAAL_RSS_54.csv\n",
      "MovementAAL/dataset/MovementAAL_RSS_55.csv\n",
      "MovementAAL/dataset/MovementAAL_RSS_56.csv\n",
      "MovementAAL/dataset/MovementAAL_RSS_57.csv\n",
      "MovementAAL/dataset/MovementAAL_RSS_58.csv\n",
      "MovementAAL/dataset/MovementAAL_RSS_59.csv\n",
      "MovementAAL/dataset/MovementAAL_RSS_60.csv\n",
      "MovementAAL/dataset/MovementAAL_RSS_61.csv\n",
      "MovementAAL/dataset/MovementAAL_RSS_62.csv\n",
      "MovementAAL/dataset/MovementAAL_RSS_63.csv\n",
      "MovementAAL/dataset/MovementAAL_RSS_64.csv\n",
      "MovementAAL/dataset/MovementAAL_RSS_65.csv\n",
      "MovementAAL/dataset/MovementAAL_RSS_66.csv\n",
      "MovementAAL/dataset/MovementAAL_RSS_67.csv\n",
      "MovementAAL/dataset/MovementAAL_RSS_68.csv\n",
      "MovementAAL/dataset/MovementAAL_RSS_69.csv\n",
      "MovementAAL/dataset/MovementAAL_RSS_70.csv\n",
      "MovementAAL/dataset/MovementAAL_RSS_71.csv\n",
      "MovementAAL/dataset/MovementAAL_RSS_72.csv\n",
      "MovementAAL/dataset/MovementAAL_RSS_73.csv\n",
      "MovementAAL/dataset/MovementAAL_RSS_74.csv\n",
      "MovementAAL/dataset/MovementAAL_RSS_75.csv\n",
      "MovementAAL/dataset/MovementAAL_RSS_76.csv\n",
      "MovementAAL/dataset/MovementAAL_RSS_77.csv\n",
      "MovementAAL/dataset/MovementAAL_RSS_78.csv\n",
      "MovementAAL/dataset/MovementAAL_RSS_79.csv\n",
      "MovementAAL/dataset/MovementAAL_RSS_80.csv\n",
      "MovementAAL/dataset/MovementAAL_RSS_81.csv\n",
      "MovementAAL/dataset/MovementAAL_RSS_82.csv\n",
      "MovementAAL/dataset/MovementAAL_RSS_83.csv\n",
      "MovementAAL/dataset/MovementAAL_RSS_84.csv\n",
      "MovementAAL/dataset/MovementAAL_RSS_85.csv\n",
      "MovementAAL/dataset/MovementAAL_RSS_86.csv\n",
      "MovementAAL/dataset/MovementAAL_RSS_87.csv\n",
      "MovementAAL/dataset/MovementAAL_RSS_88.csv\n",
      "MovementAAL/dataset/MovementAAL_RSS_89.csv\n",
      "MovementAAL/dataset/MovementAAL_RSS_90.csv\n",
      "MovementAAL/dataset/MovementAAL_RSS_91.csv\n",
      "MovementAAL/dataset/MovementAAL_RSS_92.csv\n",
      "MovementAAL/dataset/MovementAAL_RSS_93.csv\n",
      "MovementAAL/dataset/MovementAAL_RSS_94.csv\n",
      "MovementAAL/dataset/MovementAAL_RSS_95.csv\n",
      "MovementAAL/dataset/MovementAAL_RSS_96.csv\n",
      "MovementAAL/dataset/MovementAAL_RSS_97.csv\n",
      "MovementAAL/dataset/MovementAAL_RSS_98.csv\n",
      "MovementAAL/dataset/MovementAAL_RSS_99.csv\n",
      "MovementAAL/dataset/MovementAAL_RSS_100.csv\n",
      "MovementAAL/dataset/MovementAAL_RSS_101.csv\n",
      "MovementAAL/dataset/MovementAAL_RSS_102.csv\n",
      "MovementAAL/dataset/MovementAAL_RSS_103.csv\n",
      "MovementAAL/dataset/MovementAAL_RSS_104.csv\n",
      "MovementAAL/dataset/MovementAAL_RSS_105.csv\n",
      "MovementAAL/dataset/MovementAAL_RSS_106.csv\n",
      "MovementAAL/dataset/MovementAAL_RSS_107.csv\n",
      "MovementAAL/dataset/MovementAAL_RSS_108.csv\n",
      "MovementAAL/dataset/MovementAAL_RSS_109.csv\n",
      "MovementAAL/dataset/MovementAAL_RSS_110.csv\n",
      "MovementAAL/dataset/MovementAAL_RSS_111.csv\n",
      "MovementAAL/dataset/MovementAAL_RSS_112.csv\n",
      "MovementAAL/dataset/MovementAAL_RSS_113.csv\n",
      "MovementAAL/dataset/MovementAAL_RSS_114.csv\n",
      "MovementAAL/dataset/MovementAAL_RSS_115.csv\n",
      "MovementAAL/dataset/MovementAAL_RSS_116.csv\n",
      "MovementAAL/dataset/MovementAAL_RSS_117.csv\n",
      "MovementAAL/dataset/MovementAAL_RSS_118.csv\n",
      "MovementAAL/dataset/MovementAAL_RSS_119.csv\n",
      "MovementAAL/dataset/MovementAAL_RSS_120.csv\n",
      "MovementAAL/dataset/MovementAAL_RSS_121.csv\n",
      "MovementAAL/dataset/MovementAAL_RSS_122.csv\n",
      "MovementAAL/dataset/MovementAAL_RSS_123.csv\n",
      "MovementAAL/dataset/MovementAAL_RSS_124.csv\n",
      "MovementAAL/dataset/MovementAAL_RSS_125.csv\n",
      "MovementAAL/dataset/MovementAAL_RSS_126.csv\n",
      "MovementAAL/dataset/MovementAAL_RSS_127.csv\n",
      "MovementAAL/dataset/MovementAAL_RSS_128.csv\n",
      "MovementAAL/dataset/MovementAAL_RSS_129.csv\n",
      "MovementAAL/dataset/MovementAAL_RSS_130.csv\n",
      "MovementAAL/dataset/MovementAAL_RSS_131.csv\n",
      "MovementAAL/dataset/MovementAAL_RSS_132.csv\n",
      "MovementAAL/dataset/MovementAAL_RSS_133.csv\n",
      "MovementAAL/dataset/MovementAAL_RSS_134.csv\n",
      "MovementAAL/dataset/MovementAAL_RSS_135.csv\n",
      "MovementAAL/dataset/MovementAAL_RSS_136.csv\n",
      "MovementAAL/dataset/MovementAAL_RSS_137.csv\n",
      "MovementAAL/dataset/MovementAAL_RSS_138.csv\n",
      "MovementAAL/dataset/MovementAAL_RSS_139.csv\n",
      "MovementAAL/dataset/MovementAAL_RSS_140.csv\n",
      "MovementAAL/dataset/MovementAAL_RSS_141.csv\n",
      "MovementAAL/dataset/MovementAAL_RSS_142.csv\n",
      "MovementAAL/dataset/MovementAAL_RSS_143.csv\n",
      "MovementAAL/dataset/MovementAAL_RSS_144.csv\n",
      "MovementAAL/dataset/MovementAAL_RSS_145.csv\n",
      "MovementAAL/dataset/MovementAAL_RSS_146.csv\n",
      "MovementAAL/dataset/MovementAAL_RSS_147.csv\n",
      "MovementAAL/dataset/MovementAAL_RSS_148.csv\n",
      "MovementAAL/dataset/MovementAAL_RSS_149.csv\n",
      "MovementAAL/dataset/MovementAAL_RSS_150.csv\n",
      "MovementAAL/dataset/MovementAAL_RSS_151.csv\n",
      "MovementAAL/dataset/MovementAAL_RSS_152.csv\n",
      "MovementAAL/dataset/MovementAAL_RSS_153.csv\n",
      "MovementAAL/dataset/MovementAAL_RSS_154.csv\n",
      "MovementAAL/dataset/MovementAAL_RSS_155.csv\n",
      "MovementAAL/dataset/MovementAAL_RSS_156.csv\n",
      "MovementAAL/dataset/MovementAAL_RSS_157.csv\n",
      "MovementAAL/dataset/MovementAAL_RSS_158.csv\n",
      "MovementAAL/dataset/MovementAAL_RSS_159.csv\n",
      "MovementAAL/dataset/MovementAAL_RSS_160.csv\n",
      "MovementAAL/dataset/MovementAAL_RSS_161.csv\n",
      "MovementAAL/dataset/MovementAAL_RSS_162.csv\n",
      "MovementAAL/dataset/MovementAAL_RSS_163.csv\n",
      "MovementAAL/dataset/MovementAAL_RSS_164.csv\n",
      "MovementAAL/dataset/MovementAAL_RSS_165.csv\n",
      "MovementAAL/dataset/MovementAAL_RSS_166.csv\n",
      "MovementAAL/dataset/MovementAAL_RSS_167.csv\n",
      "MovementAAL/dataset/MovementAAL_RSS_168.csv\n",
      "MovementAAL/dataset/MovementAAL_RSS_169.csv\n",
      "MovementAAL/dataset/MovementAAL_RSS_170.csv\n",
      "MovementAAL/dataset/MovementAAL_RSS_171.csv\n",
      "MovementAAL/dataset/MovementAAL_RSS_172.csv\n",
      "MovementAAL/dataset/MovementAAL_RSS_173.csv\n",
      "MovementAAL/dataset/MovementAAL_RSS_174.csv\n",
      "MovementAAL/dataset/MovementAAL_RSS_175.csv\n",
      "MovementAAL/dataset/MovementAAL_RSS_176.csv\n",
      "MovementAAL/dataset/MovementAAL_RSS_177.csv\n",
      "MovementAAL/dataset/MovementAAL_RSS_178.csv\n",
      "MovementAAL/dataset/MovementAAL_RSS_179.csv\n",
      "MovementAAL/dataset/MovementAAL_RSS_180.csv\n",
      "MovementAAL/dataset/MovementAAL_RSS_181.csv\n",
      "MovementAAL/dataset/MovementAAL_RSS_182.csv\n",
      "MovementAAL/dataset/MovementAAL_RSS_183.csv\n",
      "MovementAAL/dataset/MovementAAL_RSS_184.csv\n",
      "MovementAAL/dataset/MovementAAL_RSS_185.csv\n",
      "MovementAAL/dataset/MovementAAL_RSS_186.csv\n",
      "MovementAAL/dataset/MovementAAL_RSS_187.csv\n",
      "MovementAAL/dataset/MovementAAL_RSS_188.csv\n",
      "MovementAAL/dataset/MovementAAL_RSS_189.csv\n",
      "MovementAAL/dataset/MovementAAL_RSS_190.csv\n",
      "MovementAAL/dataset/MovementAAL_RSS_191.csv\n",
      "MovementAAL/dataset/MovementAAL_RSS_192.csv\n",
      "MovementAAL/dataset/MovementAAL_RSS_193.csv\n",
      "MovementAAL/dataset/MovementAAL_RSS_194.csv\n",
      "MovementAAL/dataset/MovementAAL_RSS_195.csv\n",
      "MovementAAL/dataset/MovementAAL_RSS_196.csv\n",
      "MovementAAL/dataset/MovementAAL_RSS_197.csv\n",
      "MovementAAL/dataset/MovementAAL_RSS_198.csv\n",
      "MovementAAL/dataset/MovementAAL_RSS_199.csv\n",
      "MovementAAL/dataset/MovementAAL_RSS_200.csv\n",
      "MovementAAL/dataset/MovementAAL_RSS_201.csv\n",
      "MovementAAL/dataset/MovementAAL_RSS_202.csv\n",
      "MovementAAL/dataset/MovementAAL_RSS_203.csv\n",
      "MovementAAL/dataset/MovementAAL_RSS_204.csv\n",
      "MovementAAL/dataset/MovementAAL_RSS_205.csv\n",
      "MovementAAL/dataset/MovementAAL_RSS_206.csv\n",
      "MovementAAL/dataset/MovementAAL_RSS_207.csv\n",
      "MovementAAL/dataset/MovementAAL_RSS_208.csv\n",
      "MovementAAL/dataset/MovementAAL_RSS_209.csv\n",
      "MovementAAL/dataset/MovementAAL_RSS_210.csv\n",
      "MovementAAL/dataset/MovementAAL_RSS_211.csv\n",
      "MovementAAL/dataset/MovementAAL_RSS_212.csv\n",
      "MovementAAL/dataset/MovementAAL_RSS_213.csv\n",
      "MovementAAL/dataset/MovementAAL_RSS_214.csv\n",
      "MovementAAL/dataset/MovementAAL_RSS_215.csv\n",
      "MovementAAL/dataset/MovementAAL_RSS_216.csv\n",
      "MovementAAL/dataset/MovementAAL_RSS_217.csv\n",
      "MovementAAL/dataset/MovementAAL_RSS_218.csv\n",
      "MovementAAL/dataset/MovementAAL_RSS_219.csv\n",
      "MovementAAL/dataset/MovementAAL_RSS_220.csv\n",
      "MovementAAL/dataset/MovementAAL_RSS_221.csv\n",
      "MovementAAL/dataset/MovementAAL_RSS_222.csv\n",
      "MovementAAL/dataset/MovementAAL_RSS_223.csv\n",
      "MovementAAL/dataset/MovementAAL_RSS_224.csv\n",
      "MovementAAL/dataset/MovementAAL_RSS_225.csv\n",
      "MovementAAL/dataset/MovementAAL_RSS_226.csv\n",
      "MovementAAL/dataset/MovementAAL_RSS_227.csv\n",
      "MovementAAL/dataset/MovementAAL_RSS_228.csv\n",
      "MovementAAL/dataset/MovementAAL_RSS_229.csv\n",
      "MovementAAL/dataset/MovementAAL_RSS_230.csv\n",
      "MovementAAL/dataset/MovementAAL_RSS_231.csv\n",
      "MovementAAL/dataset/MovementAAL_RSS_232.csv\n",
      "MovementAAL/dataset/MovementAAL_RSS_233.csv\n",
      "MovementAAL/dataset/MovementAAL_RSS_234.csv\n",
      "MovementAAL/dataset/MovementAAL_RSS_235.csv\n",
      "MovementAAL/dataset/MovementAAL_RSS_236.csv\n",
      "MovementAAL/dataset/MovementAAL_RSS_237.csv\n",
      "MovementAAL/dataset/MovementAAL_RSS_238.csv\n",
      "MovementAAL/dataset/MovementAAL_RSS_239.csv\n",
      "MovementAAL/dataset/MovementAAL_RSS_240.csv\n",
      "MovementAAL/dataset/MovementAAL_RSS_241.csv\n",
      "MovementAAL/dataset/MovementAAL_RSS_242.csv\n",
      "MovementAAL/dataset/MovementAAL_RSS_243.csv\n",
      "MovementAAL/dataset/MovementAAL_RSS_244.csv\n",
      "MovementAAL/dataset/MovementAAL_RSS_245.csv\n",
      "MovementAAL/dataset/MovementAAL_RSS_246.csv\n",
      "MovementAAL/dataset/MovementAAL_RSS_247.csv\n",
      "MovementAAL/dataset/MovementAAL_RSS_248.csv\n",
      "MovementAAL/dataset/MovementAAL_RSS_249.csv\n",
      "MovementAAL/dataset/MovementAAL_RSS_250.csv\n",
      "MovementAAL/dataset/MovementAAL_RSS_251.csv\n",
      "MovementAAL/dataset/MovementAAL_RSS_252.csv\n",
      "MovementAAL/dataset/MovementAAL_RSS_253.csv\n",
      "MovementAAL/dataset/MovementAAL_RSS_254.csv\n",
      "MovementAAL/dataset/MovementAAL_RSS_255.csv\n",
      "MovementAAL/dataset/MovementAAL_RSS_256.csv\n",
      "MovementAAL/dataset/MovementAAL_RSS_257.csv\n",
      "MovementAAL/dataset/MovementAAL_RSS_258.csv\n",
      "MovementAAL/dataset/MovementAAL_RSS_259.csv\n",
      "MovementAAL/dataset/MovementAAL_RSS_260.csv\n",
      "MovementAAL/dataset/MovementAAL_RSS_261.csv\n",
      "MovementAAL/dataset/MovementAAL_RSS_262.csv\n",
      "MovementAAL/dataset/MovementAAL_RSS_263.csv\n",
      "MovementAAL/dataset/MovementAAL_RSS_264.csv\n",
      "MovementAAL/dataset/MovementAAL_RSS_265.csv\n",
      "MovementAAL/dataset/MovementAAL_RSS_266.csv\n",
      "MovementAAL/dataset/MovementAAL_RSS_267.csv\n",
      "MovementAAL/dataset/MovementAAL_RSS_268.csv\n",
      "MovementAAL/dataset/MovementAAL_RSS_269.csv\n",
      "MovementAAL/dataset/MovementAAL_RSS_270.csv\n",
      "MovementAAL/dataset/MovementAAL_RSS_271.csv\n",
      "MovementAAL/dataset/MovementAAL_RSS_272.csv\n",
      "MovementAAL/dataset/MovementAAL_RSS_273.csv\n",
      "MovementAAL/dataset/MovementAAL_RSS_274.csv\n",
      "MovementAAL/dataset/MovementAAL_RSS_275.csv\n",
      "MovementAAL/dataset/MovementAAL_RSS_276.csv\n",
      "MovementAAL/dataset/MovementAAL_RSS_277.csv\n",
      "MovementAAL/dataset/MovementAAL_RSS_278.csv\n",
      "MovementAAL/dataset/MovementAAL_RSS_279.csv\n",
      "MovementAAL/dataset/MovementAAL_RSS_280.csv\n",
      "MovementAAL/dataset/MovementAAL_RSS_281.csv\n",
      "MovementAAL/dataset/MovementAAL_RSS_282.csv\n",
      "MovementAAL/dataset/MovementAAL_RSS_283.csv\n",
      "MovementAAL/dataset/MovementAAL_RSS_284.csv\n"
     ]
    },
    {
     "name": "stdout",
     "output_type": "stream",
     "text": [
      "MovementAAL/dataset/MovementAAL_RSS_285.csv\n",
      "MovementAAL/dataset/MovementAAL_RSS_286.csv\n",
      "MovementAAL/dataset/MovementAAL_RSS_287.csv\n",
      "MovementAAL/dataset/MovementAAL_RSS_288.csv\n",
      "MovementAAL/dataset/MovementAAL_RSS_289.csv\n",
      "MovementAAL/dataset/MovementAAL_RSS_290.csv\n",
      "MovementAAL/dataset/MovementAAL_RSS_291.csv\n",
      "MovementAAL/dataset/MovementAAL_RSS_292.csv\n",
      "MovementAAL/dataset/MovementAAL_RSS_293.csv\n",
      "MovementAAL/dataset/MovementAAL_RSS_294.csv\n",
      "MovementAAL/dataset/MovementAAL_RSS_295.csv\n",
      "MovementAAL/dataset/MovementAAL_RSS_296.csv\n",
      "MovementAAL/dataset/MovementAAL_RSS_297.csv\n",
      "MovementAAL/dataset/MovementAAL_RSS_298.csv\n",
      "MovementAAL/dataset/MovementAAL_RSS_299.csv\n",
      "MovementAAL/dataset/MovementAAL_RSS_300.csv\n",
      "MovementAAL/dataset/MovementAAL_RSS_301.csv\n",
      "MovementAAL/dataset/MovementAAL_RSS_302.csv\n",
      "MovementAAL/dataset/MovementAAL_RSS_303.csv\n",
      "MovementAAL/dataset/MovementAAL_RSS_304.csv\n",
      "MovementAAL/dataset/MovementAAL_RSS_305.csv\n",
      "MovementAAL/dataset/MovementAAL_RSS_306.csv\n",
      "MovementAAL/dataset/MovementAAL_RSS_307.csv\n",
      "MovementAAL/dataset/MovementAAL_RSS_308.csv\n",
      "MovementAAL/dataset/MovementAAL_RSS_309.csv\n",
      "MovementAAL/dataset/MovementAAL_RSS_310.csv\n",
      "MovementAAL/dataset/MovementAAL_RSS_311.csv\n",
      "MovementAAL/dataset/MovementAAL_RSS_312.csv\n",
      "MovementAAL/dataset/MovementAAL_RSS_313.csv\n",
      "MovementAAL/dataset/MovementAAL_RSS_314.csv\n"
     ]
    }
   ],
   "source": [
    "path = 'MovementAAL/dataset/MovementAAL_RSS_'\n",
    "sequences = list()\n",
    "for i in range(1,315):\n",
    "    file_path = path + str(i) + '.csv'\n",
    "    print(file_path)\n",
    "    df = pd.read_csv(file_path, header=0)\n",
    "    values = df.values\n",
    "    sequences.append(values)"
   ]
  },
  {
   "cell_type": "code",
   "execution_count": 10,
   "metadata": {},
   "outputs": [],
   "source": [
    "targets = pd.read_csv('MovementAAL/dataset/MovementAAL_target.csv')\n",
    "targets = targets.values[:,1]"
   ]
  },
  {
   "cell_type": "code",
   "execution_count": 11,
   "metadata": {},
   "outputs": [
    {
     "data": {
      "text/plain": [
       "array([[-0.90476 , -0.48    ,  0.28571 ,  0.3     ],\n",
       "       [-0.57143 , -0.32    ,  0.14286 ,  0.3     ],\n",
       "       [-0.38095 , -0.28    , -0.14286 ,  0.35    ],\n",
       "       [-0.28571 , -0.2     , -0.47619 ,  0.35    ],\n",
       "       [-0.14286 , -0.2     ,  0.14286 , -0.2     ],\n",
       "       [-0.14286 , -0.2     ,  0.047619,  0.      ],\n",
       "       [-0.14286 , -0.16    , -0.38095 ,  0.2     ],\n",
       "       [-0.14286 , -0.04    , -0.61905 , -0.2     ],\n",
       "       [-0.095238, -0.08    ,  0.14286 , -0.55    ],\n",
       "       [-0.047619,  0.04    , -0.095238,  0.05    ],\n",
       "       [-0.19048 , -0.04    ,  0.095238,  0.4     ],\n",
       "       [-0.095238, -0.04    , -0.14286 ,  0.35    ],\n",
       "       [-0.33333 , -0.08    , -0.28571 , -0.2     ],\n",
       "       [-0.2381  ,  0.04    ,  0.14286 ,  0.35    ],\n",
       "       [ 0.      ,  0.08    ,  0.14286 ,  0.05    ],\n",
       "       [-0.095238,  0.04    ,  0.095238,  0.1     ],\n",
       "       [-0.14286 , -0.2     ,  0.14286 ,  0.5     ],\n",
       "       [-0.19048 ,  0.04    , -0.42857 ,  0.3     ],\n",
       "       [-0.14286 , -0.08    , -0.2381  ,  0.15    ],\n",
       "       [-0.33333 ,  0.16    , -0.14286 , -0.8     ],\n",
       "       [-0.42857 ,  0.16    , -0.28571 , -0.1     ],\n",
       "       [-0.71429 ,  0.16    , -0.28571 ,  0.2     ],\n",
       "       [-0.095238, -0.08    ,  0.095238,  0.35    ],\n",
       "       [-0.28571 ,  0.04    ,  0.14286 ,  0.2     ],\n",
       "       [ 0.      ,  0.04    ,  0.14286 ,  0.1     ],\n",
       "       [ 0.      ,  0.04    , -0.047619, -0.05    ],\n",
       "       [-0.14286 , -0.6     , -0.28571 , -0.1     ]])"
      ]
     },
     "execution_count": 11,
     "metadata": {},
     "output_type": "execute_result"
    }
   ],
   "source": [
    "sequences[0]"
   ]
  },
  {
   "cell_type": "code",
   "execution_count": 12,
   "metadata": {},
   "outputs": [],
   "source": [
    "groups = pd.read_csv('MovementAAL/groups/MovementAAL_DatasetGroup.csv', header=0)\n",
    "groups = groups.values[:,1]"
   ]
  },
  {
   "cell_type": "code",
   "execution_count": 13,
   "metadata": {},
   "outputs": [
    {
     "data": {
      "text/plain": [
       "array([1, 1, 1, 1, 1, 1, 1, 1, 1, 1, 1, 1, 1, 1, 1, 1, 1, 1, 1, 1, 1, 1,\n",
       "       1, 1, 1, 1, 1, 1, 1, 1, 1, 1, 1, 1, 1, 1, 1, 1, 1, 1, 1, 1, 1, 1,\n",
       "       1, 1, 1, 1, 1, 1, 1, 1, 1, 1, 1, 1, 1, 1, 1, 1, 1, 1, 1, 1, 1, 1,\n",
       "       1, 1, 1, 1, 1, 1, 1, 1, 1, 1, 1, 1, 1, 1, 1, 1, 1, 1, 1, 1, 1, 1,\n",
       "       1, 1, 1, 1, 1, 1, 1, 1, 1, 1, 1, 1, 1, 1, 1, 1, 2, 2, 2, 2, 2, 2,\n",
       "       2, 2, 2, 2, 2, 2, 2, 2, 2, 2, 2, 2, 2, 2, 2, 2, 2, 2, 2, 2, 2, 2,\n",
       "       2, 2, 2, 2, 2, 2, 2, 2, 2, 2, 2, 2, 2, 2, 2, 2, 2, 2, 2, 2, 2, 2,\n",
       "       2, 2, 2, 2, 2, 2, 2, 2, 2, 2, 2, 2, 2, 2, 2, 2, 2, 2, 2, 2, 2, 2,\n",
       "       2, 2, 2, 2, 2, 2, 2, 2, 2, 2, 2, 2, 2, 2, 2, 2, 2, 2, 2, 2, 2, 2,\n",
       "       2, 2, 2, 2, 2, 2, 2, 2, 2, 2, 2, 2, 3, 3, 3, 3, 3, 3, 3, 3, 3, 3,\n",
       "       3, 3, 3, 3, 3, 3, 3, 3, 3, 3, 3, 3, 3, 3, 3, 3, 3, 3, 3, 3, 3, 3,\n",
       "       3, 3, 3, 3, 3, 3, 3, 3, 3, 3, 3, 3, 3, 3, 3, 3, 3, 3, 3, 3, 3, 3,\n",
       "       3, 3, 3, 3, 3, 3, 3, 3, 3, 3, 3, 3, 3, 3, 3, 3, 3, 3, 3, 3, 3, 3,\n",
       "       3, 3, 3, 3, 3, 3, 3, 3, 3, 3, 3, 3, 3, 3, 3, 3, 3, 3, 3, 3, 3, 3,\n",
       "       3, 3, 3, 3, 3, 3])"
      ]
     },
     "execution_count": 13,
     "metadata": {},
     "output_type": "execute_result"
    }
   ],
   "source": [
    "groups"
   ]
  },
  {
   "cell_type": "code",
   "execution_count": 14,
   "metadata": {},
   "outputs": [
    {
     "data": {
      "text/plain": [
       "count    314.000000\n",
       "mean      42.028662\n",
       "std       16.185303\n",
       "min       19.000000\n",
       "25%       26.000000\n",
       "50%       41.000000\n",
       "75%       56.000000\n",
       "max      129.000000\n",
       "dtype: float64"
      ]
     },
     "execution_count": 14,
     "metadata": {},
     "output_type": "execute_result"
    }
   ],
   "source": [
    "len_sequences = []\n",
    "for one_seq in sequences:\n",
    "    len_sequences.append(len(one_seq))\n",
    "pd.Series(len_sequences).describe()"
   ]
  },
  {
   "cell_type": "code",
   "execution_count": 15,
   "metadata": {},
   "outputs": [],
   "source": [
    "#Padding the sequence with the values in last row to max length\n",
    "to_pad = 129\n",
    "new_seq = []\n",
    "for one_seq in sequences:\n",
    "    len_one_seq = len(one_seq)\n",
    "    last_val = one_seq[-1]\n",
    "    n = to_pad - len_one_seq\n",
    "   \n",
    "    to_concat = np.repeat(one_seq[-1], n).reshape(4, n).transpose()\n",
    "    new_one_seq = np.concatenate([one_seq, to_concat])\n",
    "    new_seq.append(new_one_seq)\n",
    "final_seq = np.stack(new_seq)\n",
    "\n",
    "#truncate the sequence to length 60\n",
    "from keras.preprocessing import sequence\n",
    "seq_len = 60\n",
    "final_seq=sequence.pad_sequences(final_seq, maxlen=seq_len, padding='post', dtype='float', truncating='post')"
   ]
  },
  {
   "cell_type": "code",
   "execution_count": 16,
   "metadata": {},
   "outputs": [],
   "source": [
    "train = [final_seq[i] for i in range(len(groups)) if (groups[i]==2)]\n",
    "validation = [final_seq[i] for i in range(len(groups)) if groups[i]==1]\n",
    "test = [final_seq[i] for i in range(len(groups)) if groups[i]==3]\n",
    "\n",
    "train_target = [targets[i] for i in range(len(groups)) if (groups[i]==2)]\n",
    "validation_target = [targets[i] for i in range(len(groups)) if groups[i]==1]\n",
    "test_target = [targets[i] for i in range(len(groups)) if groups[i]==3]"
   ]
  },
  {
   "cell_type": "code",
   "execution_count": 17,
   "metadata": {},
   "outputs": [],
   "source": [
    "train = np.array(train)\n",
    "validation = np.array(validation)\n",
    "test = np.array(test)\n",
    "\n",
    "train_target = np.array(train_target)\n",
    "train_target = (train_target+1)/2\n",
    "\n",
    "validation_target = np.array(validation_target)\n",
    "validation_target = (validation_target+1)/2\n",
    "\n",
    "test_target = np.array(test_target)\n",
    "test_target = (test_target+1)/2"
   ]
  },
  {
   "cell_type": "code",
   "execution_count": 21,
   "metadata": {},
   "outputs": [
    {
     "data": {
      "text/plain": [
       "array([[[ 0.066667,  0.38462 , -1.      , -0.61905 ],\n",
       "        [ 0.066667,  0.33333 , -0.77273 , -0.61905 ],\n",
       "        [ 0.066667,  0.38462 , -0.72727 , -0.61905 ],\n",
       "        ...,\n",
       "        [ 0.066667, -0.17949 , -0.36364 , -0.14286 ],\n",
       "        [ 0.066667, -0.17949 , -0.36364 , -0.14286 ],\n",
       "        [ 0.066667, -0.17949 , -0.36364 , -0.14286 ]],\n",
       "\n",
       "       [[ 0.33333 , -0.12821 ,  0.22727 ,  0.28571 ],\n",
       "        [ 0.066667, -0.23077 ,  0.22727 ,  0.28571 ],\n",
       "        [ 0.2     , -0.076923,  0.045455,  0.28571 ],\n",
       "        ...,\n",
       "        [ 1.      ,  0.84615 , -0.81818 , -0.7619  ],\n",
       "        [ 1.      ,  0.84615 , -0.81818 , -0.7619  ],\n",
       "        [ 1.      ,  0.84615 , -0.81818 , -0.7619  ]],\n",
       "\n",
       "       [[ 0.2     , -0.48718 ,  0.090909,  0.2381  ],\n",
       "        [ 0.42222 , -0.69231 , -0.95455 ,  0.2381  ],\n",
       "        [ 0.42222 , -0.23077 , -0.18182 ,  0.      ],\n",
       "        ...,\n",
       "        [ 0.73333 ,  0.53846 , -0.90909 , -0.57143 ],\n",
       "        [ 0.73333 ,  0.53846 , -0.90909 , -0.57143 ],\n",
       "        [ 0.73333 ,  0.53846 , -0.90909 , -0.57143 ]],\n",
       "\n",
       "       ...,\n",
       "\n",
       "       [[-0.066667, -0.23077 ,  0.090909,  0.85714 ],\n",
       "        [-0.066667, -0.28205 , -0.22727 ,  0.85714 ],\n",
       "        [-0.066667, -0.33333 ,  0.22727 ,  0.95238 ],\n",
       "        ...,\n",
       "        [-0.066667, -0.025641,  0.40909 ,  0.14286 ],\n",
       "        [-0.066667, -0.025641,  0.40909 ,  0.14286 ],\n",
       "        [-0.066667, -0.025641,  0.40909 ,  0.14286 ]],\n",
       "\n",
       "       [[ 0.022222, -0.38462 ,  0.090909,  0.80952 ],\n",
       "        [ 0.022222, -0.38462 ,  0.090909,  0.80952 ],\n",
       "        [ 0.022222, -0.53846 , -0.31818 ,  0.71429 ],\n",
       "        ...,\n",
       "        [-0.33333 ,  0.025641,  0.63636 , -0.19048 ],\n",
       "        [-0.33333 ,  0.025641,  0.63636 , -0.19048 ],\n",
       "        [-0.33333 ,  0.025641,  0.63636 , -0.19048 ]],\n",
       "\n",
       "       [[-0.24444 , -0.53846 , -0.18182 ,  0.33333 ],\n",
       "        [-0.24444 , -0.94872 , -0.18182 ,  0.52381 ],\n",
       "        [-0.24444 , -1.      ,  0.045455,  0.57143 ],\n",
       "        ...,\n",
       "        [-0.15556 , -0.38462 ,  0.72727 ,  1.      ],\n",
       "        [-0.15556 , -0.38462 ,  0.72727 ,  1.      ],\n",
       "        [-0.15556 , -0.38462 ,  0.72727 ,  1.      ]]])"
      ]
     },
     "execution_count": 21,
     "metadata": {},
     "output_type": "execute_result"
    }
   ],
   "source": [
    "train"
   ]
  },
  {
   "cell_type": "code",
   "execution_count": 22,
   "metadata": {},
   "outputs": [
    {
     "data": {
      "text/plain": [
       "array([1., 1., 1., 1., 1., 1., 1., 1., 1., 1., 1., 1., 1., 1., 1., 1., 1.,\n",
       "       1., 1., 1., 1., 1., 1., 1., 1., 1., 0., 0., 0., 0., 0., 0., 0., 0.,\n",
       "       0., 0., 0., 0., 0., 0., 0., 0., 0., 0., 0., 0., 0., 0., 0., 0., 0.,\n",
       "       0., 0., 0., 0., 0., 0., 0., 0., 0., 0., 0., 0., 0., 0., 0., 1., 1.,\n",
       "       1., 1., 1., 1., 1., 1., 1., 1., 1., 1., 1., 1., 1., 1., 1., 1., 1.,\n",
       "       1., 1., 1., 1., 1., 1., 1., 0., 0., 0., 0., 0., 0., 0., 0., 0., 0.,\n",
       "       0., 0., 0., 0.])"
      ]
     },
     "execution_count": 22,
     "metadata": {},
     "output_type": "execute_result"
    }
   ],
   "source": [
    "train_target"
   ]
  },
  {
   "cell_type": "code",
   "execution_count": null,
   "metadata": {},
   "outputs": [],
   "source": []
  },
  {
   "cell_type": "markdown",
   "metadata": {},
   "source": [
    "# Building Time Series Classification Model"
   ]
  },
  {
   "cell_type": "code",
   "execution_count": 18,
   "metadata": {},
   "outputs": [
    {
     "name": "stdout",
     "output_type": "stream",
     "text": [
      "WARNING:tensorflow:From //anaconda3/lib/python3.7/site-packages/keras/backend/tensorflow_backend.py:74: The name tf.get_default_graph is deprecated. Please use tf.compat.v1.get_default_graph instead.\n",
      "\n",
      "WARNING:tensorflow:From //anaconda3/lib/python3.7/site-packages/keras/backend/tensorflow_backend.py:517: The name tf.placeholder is deprecated. Please use tf.compat.v1.placeholder instead.\n",
      "\n",
      "WARNING:tensorflow:From //anaconda3/lib/python3.7/site-packages/keras/backend/tensorflow_backend.py:4138: The name tf.random_uniform is deprecated. Please use tf.random.uniform instead.\n",
      "\n"
     ]
    }
   ],
   "source": [
    "model = Sequential()\n",
    "model.add(LSTM(256, input_shape=(seq_len, 4)))\n",
    "model.add(Dense(1, activation='sigmoid'))"
   ]
  },
  {
   "cell_type": "code",
   "execution_count": 19,
   "metadata": {},
   "outputs": [
    {
     "name": "stdout",
     "output_type": "stream",
     "text": [
      "_________________________________________________________________\n",
      "Layer (type)                 Output Shape              Param #   \n",
      "=================================================================\n",
      "lstm_1 (LSTM)                (None, 256)               267264    \n",
      "_________________________________________________________________\n",
      "dense_1 (Dense)              (None, 1)                 257       \n",
      "=================================================================\n",
      "Total params: 267,521\n",
      "Trainable params: 267,521\n",
      "Non-trainable params: 0\n",
      "_________________________________________________________________\n"
     ]
    }
   ],
   "source": [
    "model.summary()"
   ]
  },
  {
   "cell_type": "code",
   "execution_count": null,
   "metadata": {},
   "outputs": [
    {
     "name": "stdout",
     "output_type": "stream",
     "text": [
      "WARNING:tensorflow:From //anaconda3/lib/python3.7/site-packages/keras/optimizers.py:790: The name tf.train.Optimizer is deprecated. Please use tf.compat.v1.train.Optimizer instead.\n",
      "\n",
      "WARNING:tensorflow:From //anaconda3/lib/python3.7/site-packages/keras/backend/tensorflow_backend.py:3376: The name tf.log is deprecated. Please use tf.math.log instead.\n",
      "\n",
      "WARNING:tensorflow:From //anaconda3/lib/python3.7/site-packages/tensorflow/python/ops/nn_impl.py:180: add_dispatch_support.<locals>.wrapper (from tensorflow.python.ops.array_ops) is deprecated and will be removed in a future version.\n",
      "Instructions for updating:\n",
      "Use tf.where in 2.0, which has the same broadcast rule as np.where\n",
      "WARNING:tensorflow:From //anaconda3/lib/python3.7/site-packages/keras/backend/tensorflow_backend.py:986: The name tf.assign_add is deprecated. Please use tf.compat.v1.assign_add instead.\n",
      "\n",
      "Train on 106 samples, validate on 104 samples\n",
      "Epoch 1/200\n"
     ]
    }
   ],
   "source": [
    "adam = Adam(lr=0.001)\n",
    "chk = ModelCheckpoint('best_model.pkl', monitor='val_acc', save_best_only=True, mode='max', verbose=1)\n",
    "model.compile(loss='binary_crossentropy', optimizer=adam, metrics=['accuracy'])\n",
    "model.fit(train, train_target, epochs=200, batch_size=128, callbacks=[chk], validation_data=(validation,validation_target))"
   ]
  },
  {
   "cell_type": "code",
   "execution_count": null,
   "metadata": {},
   "outputs": [],
   "source": []
  }
 ],
 "metadata": {
  "kernelspec": {
   "display_name": "Python 3",
   "language": "python",
   "name": "python3"
  },
  "language_info": {
   "codemirror_mode": {
    "name": "ipython",
    "version": 3
   },
   "file_extension": ".py",
   "mimetype": "text/x-python",
   "name": "python",
   "nbconvert_exporter": "python",
   "pygments_lexer": "ipython3",
   "version": "3.7.3"
  }
 },
 "nbformat": 4,
 "nbformat_minor": 2
}
