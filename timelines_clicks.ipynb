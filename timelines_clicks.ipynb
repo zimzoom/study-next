{
 "cells": [
  {
   "cell_type": "code",
   "execution_count": 1,
   "metadata": {},
   "outputs": [],
   "source": [
    "import numpy as np\n",
    "import pandas as pd\n",
    "\n",
    "import matplotlib.pyplot as plt\n",
    "%matplotlib inline"
   ]
  },
  {
   "cell_type": "code",
   "execution_count": 2,
   "metadata": {},
   "outputs": [],
   "source": [
    "ass = pd.read_csv('data/assessments.csv')\n",
    "vle = pd.read_csv('data/vle.csv')\n",
    "stu_vle = pd.read_csv('data/studentVle.csv')\n",
    "stu_info = pd.read_csv('data/studentInfo.csv')\n",
    "stu_as = pd.read_csv('data/studentAssessment.csv')\n",
    "stu_reg = pd.read_csv('data/studentRegistration.csv')\n",
    "cou = pd.read_csv('data/courses.csv')"
   ]
  },
  {
   "cell_type": "code",
   "execution_count": 3,
   "metadata": {},
   "outputs": [],
   "source": [
    "# def plot_trend_data(ax, name, series):\n",
    "#     ax.plot(series.index, series)\n",
    "#     ax.set_title(\"Google Search Trend For {}\".format(name))\n",
    "    \n",
    "# fig, axs = plt.subplots(len(google_trends), figsize=(14, 12))\n",
    "\n",
    "# for ax, name in zip(axs, google_search_names):\n",
    "#     plot_trend_data(ax, name, load_google_trend_data(name))\n",
    "    \n",
    "# plt.tight_layout()"
   ]
  },
  {
   "cell_type": "code",
   "execution_count": 18,
   "metadata": {},
   "outputs": [
    {
     "data": {
      "text/plain": [
       "array([('AAA', '2013J'), ('AAA', '2014J'), ('BBB', '2013B'),\n",
       "       ('BBB', '2013J'), ('BBB', '2014B'), ('BBB', '2014J'),\n",
       "       ('CCC', '2014B'), ('CCC', '2014J'), ('DDD', '2013B'),\n",
       "       ('DDD', '2013J'), ('DDD', '2014B'), ('DDD', '2014J'),\n",
       "       ('EEE', '2013J'), ('EEE', '2014B'), ('EEE', '2014J'),\n",
       "       ('FFF', '2013B'), ('FFF', '2013J'), ('FFF', '2014B'),\n",
       "       ('FFF', '2014J'), ('GGG', '2013J'), ('GGG', '2014B'),\n",
       "       ('GGG', '2014J')], dtype=object)"
      ]
     },
     "execution_count": 18,
     "metadata": {},
     "output_type": "execute_result"
    }
   ],
   "source": [
    "courses = cou.groupby(['code_module', 'code_presentation']).sum().index.values\n",
    "courses"
   ]
  },
  {
   "cell_type": "code",
   "execution_count": 25,
   "metadata": {},
   "outputs": [
    {
     "name": "stdout",
     "output_type": "stream",
     "text": [
      "AAA 2013J\n",
      "AAA 2014J\n",
      "BBB 2013B\n",
      "BBB 2013J\n",
      "BBB 2014B\n",
      "BBB 2014J\n",
      "CCC 2014B\n",
      "CCC 2014J\n",
      "DDD 2013B\n",
      "DDD 2013J\n",
      "DDD 2014B\n",
      "DDD 2014J\n",
      "EEE 2013J\n",
      "EEE 2014B\n",
      "EEE 2014J\n",
      "FFF 2013B\n",
      "FFF 2013J\n",
      "FFF 2014B\n",
      "FFF 2014J\n",
      "GGG 2013J\n",
      "GGG 2014B\n",
      "GGG 2014J\n"
     ]
    }
   ],
   "source": [
    "for a, b in courses:\n",
    "    print(a, b)"
   ]
  },
  {
   "cell_type": "code",
   "execution_count": null,
   "metadata": {},
   "outputs": [],
   "source": [
    "for mod, pres in courses:\n",
    "    student_clicks = stu_vle[stu_vle.code_module.isin([mod])][stu_vle.code_presentation.isin([pres])]"
   ]
  }
 ],
 "metadata": {
  "kernelspec": {
   "display_name": "Python 3",
   "language": "python",
   "name": "python3"
  },
  "language_info": {
   "codemirror_mode": {
    "name": "ipython",
    "version": 3
   },
   "file_extension": ".py",
   "mimetype": "text/x-python",
   "name": "python",
   "nbconvert_exporter": "python",
   "pygments_lexer": "ipython3",
   "version": "3.7.3"
  }
 },
 "nbformat": 4,
 "nbformat_minor": 2
}
